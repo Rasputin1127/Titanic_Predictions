{
 "cells": [
  {
   "cell_type": "code",
   "execution_count": 4,
   "metadata": {},
   "outputs": [],
   "source": [
    "import numpy as np\n",
    "import pandas as pd\n",
    "import matplotlib.pyplot as plt\n",
    "import seaborn as sns"
   ]
  },
  {
   "cell_type": "code",
   "execution_count": 57,
   "metadata": {},
   "outputs": [
    {
     "data": {
      "text/html": [
       "<div>\n",
       "<style scoped>\n",
       "    .dataframe tbody tr th:only-of-type {\n",
       "        vertical-align: middle;\n",
       "    }\n",
       "\n",
       "    .dataframe tbody tr th {\n",
       "        vertical-align: top;\n",
       "    }\n",
       "\n",
       "    .dataframe thead th {\n",
       "        text-align: right;\n",
       "    }\n",
       "</style>\n",
       "<table border=\"1\" class=\"dataframe\">\n",
       "  <thead>\n",
       "    <tr style=\"text-align: right;\">\n",
       "      <th></th>\n",
       "      <th>PassengerId</th>\n",
       "      <th>Survived</th>\n",
       "      <th>Pclass</th>\n",
       "      <th>Name</th>\n",
       "      <th>Sex</th>\n",
       "      <th>Age</th>\n",
       "      <th>SibSp</th>\n",
       "      <th>Parch</th>\n",
       "      <th>Ticket</th>\n",
       "      <th>Fare</th>\n",
       "      <th>Cabin</th>\n",
       "      <th>Embarked</th>\n",
       "    </tr>\n",
       "  </thead>\n",
       "  <tbody>\n",
       "    <tr>\n",
       "      <th>0</th>\n",
       "      <td>1</td>\n",
       "      <td>0</td>\n",
       "      <td>3</td>\n",
       "      <td>Braund, Mr. Owen Harris</td>\n",
       "      <td>male</td>\n",
       "      <td>22.0</td>\n",
       "      <td>1</td>\n",
       "      <td>0</td>\n",
       "      <td>A/5 21171</td>\n",
       "      <td>7.2500</td>\n",
       "      <td>NaN</td>\n",
       "      <td>S</td>\n",
       "    </tr>\n",
       "    <tr>\n",
       "      <th>1</th>\n",
       "      <td>2</td>\n",
       "      <td>1</td>\n",
       "      <td>1</td>\n",
       "      <td>Cumings, Mrs. John Bradley (Florence Briggs Th...</td>\n",
       "      <td>female</td>\n",
       "      <td>38.0</td>\n",
       "      <td>1</td>\n",
       "      <td>0</td>\n",
       "      <td>PC 17599</td>\n",
       "      <td>71.2833</td>\n",
       "      <td>C85</td>\n",
       "      <td>C</td>\n",
       "    </tr>\n",
       "    <tr>\n",
       "      <th>2</th>\n",
       "      <td>3</td>\n",
       "      <td>1</td>\n",
       "      <td>3</td>\n",
       "      <td>Heikkinen, Miss. Laina</td>\n",
       "      <td>female</td>\n",
       "      <td>26.0</td>\n",
       "      <td>0</td>\n",
       "      <td>0</td>\n",
       "      <td>STON/O2. 3101282</td>\n",
       "      <td>7.9250</td>\n",
       "      <td>NaN</td>\n",
       "      <td>S</td>\n",
       "    </tr>\n",
       "    <tr>\n",
       "      <th>3</th>\n",
       "      <td>4</td>\n",
       "      <td>1</td>\n",
       "      <td>1</td>\n",
       "      <td>Futrelle, Mrs. Jacques Heath (Lily May Peel)</td>\n",
       "      <td>female</td>\n",
       "      <td>35.0</td>\n",
       "      <td>1</td>\n",
       "      <td>0</td>\n",
       "      <td>113803</td>\n",
       "      <td>53.1000</td>\n",
       "      <td>C123</td>\n",
       "      <td>S</td>\n",
       "    </tr>\n",
       "    <tr>\n",
       "      <th>4</th>\n",
       "      <td>5</td>\n",
       "      <td>0</td>\n",
       "      <td>3</td>\n",
       "      <td>Allen, Mr. William Henry</td>\n",
       "      <td>male</td>\n",
       "      <td>35.0</td>\n",
       "      <td>0</td>\n",
       "      <td>0</td>\n",
       "      <td>373450</td>\n",
       "      <td>8.0500</td>\n",
       "      <td>NaN</td>\n",
       "      <td>S</td>\n",
       "    </tr>\n",
       "  </tbody>\n",
       "</table>\n",
       "</div>"
      ],
      "text/plain": [
       "   PassengerId  Survived  Pclass  \\\n",
       "0            1         0       3   \n",
       "1            2         1       1   \n",
       "2            3         1       3   \n",
       "3            4         1       1   \n",
       "4            5         0       3   \n",
       "\n",
       "                                                Name     Sex   Age  SibSp  \\\n",
       "0                            Braund, Mr. Owen Harris    male  22.0      1   \n",
       "1  Cumings, Mrs. John Bradley (Florence Briggs Th...  female  38.0      1   \n",
       "2                             Heikkinen, Miss. Laina  female  26.0      0   \n",
       "3       Futrelle, Mrs. Jacques Heath (Lily May Peel)  female  35.0      1   \n",
       "4                           Allen, Mr. William Henry    male  35.0      0   \n",
       "\n",
       "   Parch            Ticket     Fare Cabin Embarked  \n",
       "0      0         A/5 21171   7.2500   NaN        S  \n",
       "1      0          PC 17599  71.2833   C85        C  \n",
       "2      0  STON/O2. 3101282   7.9250   NaN        S  \n",
       "3      0            113803  53.1000  C123        S  \n",
       "4      0            373450   8.0500   NaN        S  "
      ]
     },
     "execution_count": 57,
     "metadata": {},
     "output_type": "execute_result"
    }
   ],
   "source": [
    "titanic_df = pd.read_csv('data/train.csv')\n",
    "titanic_df.head()"
   ]
  },
  {
   "cell_type": "code",
   "execution_count": 3,
   "metadata": {},
   "outputs": [
    {
     "name": "stdout",
     "output_type": "stream",
     "text": [
      "<class 'pandas.core.frame.DataFrame'>\n",
      "RangeIndex: 891 entries, 0 to 890\n",
      "Data columns (total 12 columns):\n",
      " #   Column       Non-Null Count  Dtype  \n",
      "---  ------       --------------  -----  \n",
      " 0   PassengerId  891 non-null    int64  \n",
      " 1   Survived     891 non-null    int64  \n",
      " 2   Pclass       891 non-null    int64  \n",
      " 3   Name         891 non-null    object \n",
      " 4   Sex          891 non-null    object \n",
      " 5   Age          714 non-null    float64\n",
      " 6   SibSp        891 non-null    int64  \n",
      " 7   Parch        891 non-null    int64  \n",
      " 8   Ticket       891 non-null    object \n",
      " 9   Fare         891 non-null    float64\n",
      " 10  Cabin        204 non-null    object \n",
      " 11  Embarked     889 non-null    object \n",
      "dtypes: float64(2), int64(5), object(5)\n",
      "memory usage: 83.7+ KB\n"
     ]
    }
   ],
   "source": [
    "titanic_df.info()"
   ]
  },
  {
   "cell_type": "code",
   "execution_count": 8,
   "metadata": {},
   "outputs": [
    {
     "data": {
      "image/png": "[encoded data removed]",
      "text/plain": [
       "<Figure size 432x288 with 1 Axes>"
      ]
     },
     "metadata": {
      "needs_background": "light"
     },
     "output_type": "display_data"
    }
   ],
   "source": [
    "plt.hist(titanic_df[\"Sex\"]);"
   ]
  },
  {
   "cell_type": "code",
   "execution_count": 65,
   "metadata": {},
   "outputs": [
    {
     "data": {
      "image/png": "[encoded data removed]",
      "text/plain": [
       "<Figure size 432x288 with 2 Axes>"
      ]
     },
     "metadata": {
      "needs_background": "light"
     },
     "output_type": "display_data"
    }
   ],
   "source": [
    "titanic_df[\"Pclass\"].hist(by=titanic_df[\"Sex\"]);"
   ]
  },
  {
   "cell_type": "code",
   "execution_count": 59,
   "metadata": {},
   "outputs": [],
   "source": [
    "def male_female_child(passenger):\n",
    "    age,sex = passenger\n",
    "    \n",
    "    if age < 16:\n",
    "        return 'child'\n",
    "    \n",
    "    else:\n",
    "        return sex"
   ]
  },
  {
   "cell_type": "code",
   "execution_count": 60,
   "metadata": {},
   "outputs": [],
   "source": [
    "titanic_df[\"person\"] = titanic_df[[\"Age\",\"Sex\"]].apply(male_female_child, axis=1)"
   ]
  },
  {
   "cell_type": "code",
   "execution_count": 64,
   "metadata": {},
   "outputs": [
    {
     "data": {
      "image/png": "[encoded data removed]",
      "text/plain": [
       "<Figure size 432x288 with 4 Axes>"
      ]
     },
     "metadata": {
      "needs_background": "light"
     },
     "output_type": "display_data"
    }
   ],
   "source": [
    "titanic_df[\"Pclass\"].hist(by=titanic_df[\"person\"]);"
   ]
  },
  {
   "cell_type": "code",
   "execution_count": 68,
   "metadata": {},
   "outputs": [
    {
     "data": {
      "image/png": "[encoded data removed]",
      "text/plain": [
       "<Figure size 432x288 with 1 Axes>"
      ]
     },
     "metadata": {
      "needs_background": "light"
     },
     "output_type": "display_data"
    }
   ],
   "source": [
    "titanic_df[\"Age\"].hist(bins=50);"
   ]
  },
  {
   "cell_type": "code",
   "execution_count": 69,
   "metadata": {},
   "outputs": [
    {
     "data": {
      "text/plain": [
       "29.69911764705882"
      ]
     },
     "execution_count": 69,
     "metadata": {},
     "output_type": "execute_result"
    }
   ],
   "source": [
    "titanic_df[\"Age\"].mean()"
   ]
  },
  {
   "cell_type": "code",
   "execution_count": 70,
   "metadata": {},
   "outputs": [
    {
     "data": {
      "text/plain": [
       "male      537\n",
       "female    271\n",
       "child      83\n",
       "Name: person, dtype: int64"
      ]
     },
     "execution_count": 70,
     "metadata": {},
     "output_type": "execute_result"
    }
   ],
   "source": [
    "titanic_df[\"person\"].value_counts()"
   ]
  },
  {
   "cell_type": "code",
   "execution_count": 71,
   "metadata": {},
   "outputs": [
    {
     "data": {
      "text/plain": [
       "<seaborn.axisgrid.FacetGrid at 0x7ffb9d232a10>"
      ]
     },
     "execution_count": 71,
     "metadata": {},
     "output_type": "execute_result"
    },
    {
     "data": {
      "image/png": "[encoded data removed]",
      "text/plain": [
       "<Figure size 934.5x216 with 1 Axes>"
      ]
     },
     "metadata": {
      "needs_background": "light"
     },
     "output_type": "display_data"
    }
   ],
   "source": [
    "fig = sns.FacetGrid(titanic_df, hue=\"Sex\", aspect=4)\n",
    "\n",
    "fig.map(sns.kdeplot, 'Age', shade=True)\n",
    "\n",
    "oldest = titanic_df[\"Age\"].max()\n",
    "\n",
    "fig.set(xlim=(0,oldest))\n",
    "\n",
    "fig.add_legend()"
   ]
  },
  {
   "cell_type": "code",
   "execution_count": 72,
   "metadata": {},
   "outputs": [
    {
     "data": {
      "text/plain": [
       "<seaborn.axisgrid.FacetGrid at 0x7ffb9d0d82d0>"
      ]
     },
     "execution_count": 72,
     "metadata": {},
     "output_type": "execute_result"
    },
    {
     "data": {
      "image/png": "[encoded data removed]",
      "text/plain": [
       "<Figure size 934.5x216 with 1 Axes>"
      ]
     },
     "metadata": {
      "needs_background": "light"
     },
     "output_type": "display_data"
    }
   ],
   "source": [
    "fig = sns.FacetGrid(titanic_df, hue=\"person\", aspect=4)\n",
    "\n",
    "fig.map(sns.kdeplot, 'Age', shade=True)\n",
    "\n",
    "oldest = titanic_df[\"Age\"].max()\n",
    "\n",
    "fig.set(xlim=(0,oldest))\n",
    "\n",
    "fig.add_legend()"
   ]
  },
  {
   "cell_type": "code",
   "execution_count": 73,
   "metadata": {},
   "outputs": [
    {
     "data": {
      "text/plain": [
       "<seaborn.axisgrid.FacetGrid at 0x7ffb9d0dffd0>"
      ]
     },
     "execution_count": 73,
     "metadata": {},
     "output_type": "execute_result"
    },
    {
     "data": {
      "image/png": "[encoded data removed]",
      "text/plain": [
       "<Figure size 906.375x216 with 1 Axes>"
      ]
     },
     "metadata": {
      "needs_background": "light"
     },
     "output_type": "display_data"
    }
   ],
   "source": [
    "fig = sns.FacetGrid(titanic_df, hue=\"Pclass\", aspect=4)\n",
    "\n",
    "fig.map(sns.kdeplot, 'Age', shade=True)\n",
    "\n",
    "oldest = titanic_df[\"Age\"].max()\n",
    "\n",
    "fig.set(xlim=(0,oldest))\n",
    "\n",
    "fig.add_legend()"
   ]
  },
  {
   "cell_type": "code",
   "execution_count": 74,
   "metadata": {},
   "outputs": [],
   "source": [
    "deck = titanic_df['Cabin'].dropna()"
   ]
  },
  {
   "cell_type": "code",
   "execution_count": 75,
   "metadata": {},
   "outputs": [
    {
     "data": {
      "text/plain": [
       "1      C85\n",
       "3     C123\n",
       "6      E46\n",
       "10      G6\n",
       "11    C103\n",
       "Name: Cabin, dtype: object"
      ]
     },
     "execution_count": 75,
     "metadata": {},
     "output_type": "execute_result"
    }
   ],
   "source": [
    "deck.head()"
   ]
  },
  {
   "cell_type": "code",
   "execution_count": 89,
   "metadata": {},
   "outputs": [],
   "source": [
    "levels = [l[0] for l in deck]\n",
    "levels.sort()"
   ]
  },
  {
   "cell_type": "code",
   "execution_count": 90,
   "metadata": {},
   "outputs": [],
   "source": [
    "level_df = pd.DataFrame(levels)\n",
    "level_df.columns = [\"Cabin\"]"
   ]
  },
  {
   "cell_type": "code",
   "execution_count": 92,
   "metadata": {},
   "outputs": [],
   "source": [
    "level_df = level_df[level_df[\"Cabin\"] != 'T']"
   ]
  },
  {
   "cell_type": "code",
   "execution_count": 93,
   "metadata": {},
   "outputs": [
    {
     "data": {
      "text/plain": [
       "<seaborn.axisgrid.FacetGrid at 0x7ffb9db9f350>"
      ]
     },
     "execution_count": 93,
     "metadata": {},
     "output_type": "execute_result"
    },
    {
     "data": {
      "image/png": "[encoded data removed]",
      "text/plain": [
       "<Figure size 360x360 with 1 Axes>"
      ]
     },
     "metadata": {
      "needs_background": "light"
     },
     "output_type": "display_data"
    }
   ],
   "source": [
    "sns.catplot(x='Cabin',data=level_df, kind='count')"
   ]
  },
  {
   "cell_type": "code",
   "execution_count": null,
   "metadata": {},
   "outputs": [],
   "source": []
  },
  {
   "cell_type": "code",
   "execution_count": null,
   "metadata": {},
   "outputs": [],
   "source": []
  },
  {
   "cell_type": "code",
   "execution_count": null,
   "metadata": {},
   "outputs": [],
   "source": []
  },
  {
   "cell_type": "code",
   "execution_count": 95,
   "metadata": {},
   "outputs": [
    {
     "data": {
      "text/html": [
       "<div>\n",
       "<style scoped>\n",
       "    .dataframe tbody tr th:only-of-type {\n",
       "        vertical-align: middle;\n",
       "    }\n",
       "\n",
       "    .dataframe tbody tr th {\n",
       "        vertical-align: top;\n",
       "    }\n",
       "\n",
       "    .dataframe thead th {\n",
       "        text-align: right;\n",
       "    }\n",
       "</style>\n",
       "<table border=\"1\" class=\"dataframe\">\n",
       "  <thead>\n",
       "    <tr style=\"text-align: right;\">\n",
       "      <th></th>\n",
       "      <th>PassengerId</th>\n",
       "      <th>Pclass</th>\n",
       "      <th>Name</th>\n",
       "      <th>Sex</th>\n",
       "      <th>Age</th>\n",
       "      <th>SibSp</th>\n",
       "      <th>Parch</th>\n",
       "      <th>Ticket</th>\n",
       "      <th>Fare</th>\n",
       "      <th>Cabin</th>\n",
       "      <th>Embarked</th>\n",
       "      <th>person</th>\n",
       "    </tr>\n",
       "  </thead>\n",
       "  <tbody>\n",
       "    <tr>\n",
       "      <th>0</th>\n",
       "      <td>1</td>\n",
       "      <td>3</td>\n",
       "      <td>Braund, Mr. Owen Harris</td>\n",
       "      <td>male</td>\n",
       "      <td>22.0</td>\n",
       "      <td>1</td>\n",
       "      <td>0</td>\n",
       "      <td>A/5 21171</td>\n",
       "      <td>7.2500</td>\n",
       "      <td>NaN</td>\n",
       "      <td>S</td>\n",
       "      <td>male</td>\n",
       "    </tr>\n",
       "    <tr>\n",
       "      <th>1</th>\n",
       "      <td>2</td>\n",
       "      <td>1</td>\n",
       "      <td>Cumings, Mrs. John Bradley (Florence Briggs Th...</td>\n",
       "      <td>female</td>\n",
       "      <td>38.0</td>\n",
       "      <td>1</td>\n",
       "      <td>0</td>\n",
       "      <td>PC 17599</td>\n",
       "      <td>71.2833</td>\n",
       "      <td>C85</td>\n",
       "      <td>C</td>\n",
       "      <td>female</td>\n",
       "    </tr>\n",
       "    <tr>\n",
       "      <th>2</th>\n",
       "      <td>3</td>\n",
       "      <td>3</td>\n",
       "      <td>Heikkinen, Miss. Laina</td>\n",
       "      <td>female</td>\n",
       "      <td>26.0</td>\n",
       "      <td>0</td>\n",
       "      <td>0</td>\n",
       "      <td>STON/O2. 3101282</td>\n",
       "      <td>7.9250</td>\n",
       "      <td>NaN</td>\n",
       "      <td>S</td>\n",
       "      <td>female</td>\n",
       "    </tr>\n",
       "    <tr>\n",
       "      <th>3</th>\n",
       "      <td>4</td>\n",
       "      <td>1</td>\n",
       "      <td>Futrelle, Mrs. Jacques Heath (Lily May Peel)</td>\n",
       "      <td>female</td>\n",
       "      <td>35.0</td>\n",
       "      <td>1</td>\n",
       "      <td>0</td>\n",
       "      <td>113803</td>\n",
       "      <td>53.1000</td>\n",
       "      <td>C123</td>\n",
       "      <td>S</td>\n",
       "      <td>female</td>\n",
       "    </tr>\n",
       "    <tr>\n",
       "      <th>4</th>\n",
       "      <td>5</td>\n",
       "      <td>3</td>\n",
       "      <td>Allen, Mr. William Henry</td>\n",
       "      <td>male</td>\n",
       "      <td>35.0</td>\n",
       "      <td>0</td>\n",
       "      <td>0</td>\n",
       "      <td>373450</td>\n",
       "      <td>8.0500</td>\n",
       "      <td>NaN</td>\n",
       "      <td>S</td>\n",
       "      <td>male</td>\n",
       "    </tr>\n",
       "  </tbody>\n",
       "</table>\n",
       "</div>"
      ],
      "text/plain": [
       "   PassengerId  Pclass                                               Name  \\\n",
       "0            1       3                            Braund, Mr. Owen Harris   \n",
       "1            2       1  Cumings, Mrs. John Bradley (Florence Briggs Th...   \n",
       "2            3       3                             Heikkinen, Miss. Laina   \n",
       "3            4       1       Futrelle, Mrs. Jacques Heath (Lily May Peel)   \n",
       "4            5       3                           Allen, Mr. William Henry   \n",
       "\n",
       "      Sex   Age  SibSp  Parch            Ticket     Fare Cabin Embarked  \\\n",
       "0    male  22.0      1      0         A/5 21171   7.2500   NaN        S   \n",
       "1  female  38.0      1      0          PC 17599  71.2833   C85        C   \n",
       "2  female  26.0      0      0  STON/O2. 3101282   7.9250   NaN        S   \n",
       "3  female  35.0      1      0            113803  53.1000  C123        S   \n",
       "4    male  35.0      0      0            373450   8.0500   NaN        S   \n",
       "\n",
       "   person  \n",
       "0    male  \n",
       "1  female  \n",
       "2  female  \n",
       "3  female  \n",
       "4    male  "
      ]
     },
     "execution_count": 95,
     "metadata": {},
     "output_type": "execute_result"
    }
   ],
   "source": [
    "titanic_df.head()"
   ]
  },
  {
   "cell_type": "code",
   "execution_count": 94,
   "metadata": {},
   "outputs": [],
   "source": [
    "y = titanic_df.pop('Survived')"
   ]
  },
  {
   "cell_type": "code",
   "execution_count": 97,
   "metadata": {},
   "outputs": [],
   "source": [
    "titanic_df.drop([\"Name\",\"Ticket\",\"Cabin\"], axis=1, inplace=True)"
   ]
  },
  {
   "cell_type": "code",
   "execution_count": 103,
   "metadata": {},
   "outputs": [],
   "source": [
    "titanic_df = pd.concat([titanic_df,pd.get_dummies(titanic_df[\"Embarked\"])], axis=1)"
   ]
  },
  {
   "cell_type": "code",
   "execution_count": 104,
   "metadata": {},
   "outputs": [],
   "source": [
    "titanic_df = pd.concat([titanic_df,pd.get_dummies(titanic_df[\"person\"])], axis=1)"
   ]
  },
  {
   "cell_type": "code",
   "execution_count": 131,
   "metadata": {},
   "outputs": [],
   "source": [
    "x_df = titanic_df.drop([\"Sex\",\"person\",\"Embarked\"], axis=1)"
   ]
  },
  {
   "cell_type": "code",
   "execution_count": 115,
   "metadata": {},
   "outputs": [
    {
     "data": {
      "text/html": [
       "<div>\n",
       "<style scoped>\n",
       "    .dataframe tbody tr th:only-of-type {\n",
       "        vertical-align: middle;\n",
       "    }\n",
       "\n",
       "    .dataframe tbody tr th {\n",
       "        vertical-align: top;\n",
       "    }\n",
       "\n",
       "    .dataframe thead th {\n",
       "        text-align: right;\n",
       "    }\n",
       "</style>\n",
       "<table border=\"1\" class=\"dataframe\">\n",
       "  <thead>\n",
       "    <tr style=\"text-align: right;\">\n",
       "      <th></th>\n",
       "      <th>PassengerId</th>\n",
       "      <th>Pclass</th>\n",
       "      <th>Age</th>\n",
       "      <th>SibSp</th>\n",
       "      <th>Parch</th>\n",
       "      <th>Fare</th>\n",
       "      <th>C</th>\n",
       "      <th>Q</th>\n",
       "      <th>S</th>\n",
       "      <th>child</th>\n",
       "      <th>female</th>\n",
       "      <th>male</th>\n",
       "    </tr>\n",
       "  </thead>\n",
       "  <tbody>\n",
       "    <tr>\n",
       "      <th>0</th>\n",
       "      <td>1</td>\n",
       "      <td>3</td>\n",
       "      <td>22.0</td>\n",
       "      <td>1</td>\n",
       "      <td>0</td>\n",
       "      <td>7.2500</td>\n",
       "      <td>0</td>\n",
       "      <td>0</td>\n",
       "      <td>1</td>\n",
       "      <td>0</td>\n",
       "      <td>0</td>\n",
       "      <td>1</td>\n",
       "    </tr>\n",
       "    <tr>\n",
       "      <th>1</th>\n",
       "      <td>2</td>\n",
       "      <td>1</td>\n",
       "      <td>38.0</td>\n",
       "      <td>1</td>\n",
       "      <td>0</td>\n",
       "      <td>71.2833</td>\n",
       "      <td>1</td>\n",
       "      <td>0</td>\n",
       "      <td>0</td>\n",
       "      <td>0</td>\n",
       "      <td>1</td>\n",
       "      <td>0</td>\n",
       "    </tr>\n",
       "    <tr>\n",
       "      <th>2</th>\n",
       "      <td>3</td>\n",
       "      <td>3</td>\n",
       "      <td>26.0</td>\n",
       "      <td>0</td>\n",
       "      <td>0</td>\n",
       "      <td>7.9250</td>\n",
       "      <td>0</td>\n",
       "      <td>0</td>\n",
       "      <td>1</td>\n",
       "      <td>0</td>\n",
       "      <td>1</td>\n",
       "      <td>0</td>\n",
       "    </tr>\n",
       "    <tr>\n",
       "      <th>3</th>\n",
       "      <td>4</td>\n",
       "      <td>1</td>\n",
       "      <td>35.0</td>\n",
       "      <td>1</td>\n",
       "      <td>0</td>\n",
       "      <td>53.1000</td>\n",
       "      <td>0</td>\n",
       "      <td>0</td>\n",
       "      <td>1</td>\n",
       "      <td>0</td>\n",
       "      <td>1</td>\n",
       "      <td>0</td>\n",
       "    </tr>\n",
       "    <tr>\n",
       "      <th>4</th>\n",
       "      <td>5</td>\n",
       "      <td>3</td>\n",
       "      <td>35.0</td>\n",
       "      <td>0</td>\n",
       "      <td>0</td>\n",
       "      <td>8.0500</td>\n",
       "      <td>0</td>\n",
       "      <td>0</td>\n",
       "      <td>1</td>\n",
       "      <td>0</td>\n",
       "      <td>0</td>\n",
       "      <td>1</td>\n",
       "    </tr>\n",
       "  </tbody>\n",
       "</table>\n",
       "</div>"
      ],
      "text/plain": [
       "   PassengerId  Pclass   Age  SibSp  Parch     Fare  C  Q  S  child  female  \\\n",
       "0            1       3  22.0      1      0   7.2500  0  0  1      0       0   \n",
       "1            2       1  38.0      1      0  71.2833  1  0  0      0       1   \n",
       "2            3       3  26.0      0      0   7.9250  0  0  1      0       1   \n",
       "3            4       1  35.0      1      0  53.1000  0  0  1      0       1   \n",
       "4            5       3  35.0      0      0   8.0500  0  0  1      0       0   \n",
       "\n",
       "   male  \n",
       "0     1  \n",
       "1     0  \n",
       "2     0  \n",
       "3     0  \n",
       "4     1  "
      ]
     },
     "execution_count": 115,
     "metadata": {},
     "output_type": "execute_result"
    }
   ],
   "source": [
    "x_df.head()"
   ]
  },
  {
   "cell_type": "code",
   "execution_count": 116,
   "metadata": {},
   "outputs": [
    {
     "name": "stdout",
     "output_type": "stream",
     "text": [
      "<class 'pandas.core.frame.DataFrame'>\n",
      "RangeIndex: 891 entries, 0 to 890\n",
      "Data columns (total 12 columns):\n",
      " #   Column       Non-Null Count  Dtype  \n",
      "---  ------       --------------  -----  \n",
      " 0   PassengerId  891 non-null    int64  \n",
      " 1   Pclass       891 non-null    int64  \n",
      " 2   Age          714 non-null    float64\n",
      " 3   SibSp        891 non-null    int64  \n",
      " 4   Parch        891 non-null    int64  \n",
      " 5   Fare         891 non-null    float64\n",
      " 6   C            891 non-null    uint8  \n",
      " 7   Q            891 non-null    uint8  \n",
      " 8   S            891 non-null    uint8  \n",
      " 9   child        891 non-null    uint8  \n",
      " 10  female       891 non-null    uint8  \n",
      " 11  male         891 non-null    uint8  \n",
      "dtypes: float64(2), int64(4), uint8(6)\n",
      "memory usage: 47.1 KB\n"
     ]
    }
   ],
   "source": [
    "x_df.info()"
   ]
  },
  {
   "cell_type": "code",
   "execution_count": 132,
   "metadata": {},
   "outputs": [],
   "source": [
    "x_df[\"Age\"] = x_df[\"Age\"].fillna(round(x_df[\"Age\"].mean()))"
   ]
  },
  {
   "cell_type": "code",
   "execution_count": 133,
   "metadata": {},
   "outputs": [],
   "source": [
    "x = x_df.values"
   ]
  },
  {
   "cell_type": "code",
   "execution_count": 134,
   "metadata": {},
   "outputs": [
    {
     "data": {
      "text/plain": [
       "(891, 12)"
      ]
     },
     "execution_count": 134,
     "metadata": {},
     "output_type": "execute_result"
    }
   ],
   "source": [
    "x.shape"
   ]
  },
  {
   "cell_type": "code",
   "execution_count": 125,
   "metadata": {},
   "outputs": [],
   "source": [
    "from sklearn.model_selection import train_test_split"
   ]
  },
  {
   "cell_type": "code",
   "execution_count": 135,
   "metadata": {},
   "outputs": [],
   "source": [
    "x_train, x_test, y_train, y_test = train_test_split(x,y, stratify=y)"
   ]
  },
  {
   "cell_type": "code",
   "execution_count": 153,
   "metadata": {},
   "outputs": [
    {
     "data": {
      "text/plain": [
       "(668, 12)"
      ]
     },
     "execution_count": 153,
     "metadata": {},
     "output_type": "execute_result"
    }
   ],
   "source": [
    "x_train.shape"
   ]
  },
  {
   "cell_type": "code",
   "execution_count": 155,
   "metadata": {},
   "outputs": [
    {
     "data": {
      "text/plain": [
       "(223, 12)"
      ]
     },
     "execution_count": 155,
     "metadata": {},
     "output_type": "execute_result"
    }
   ],
   "source": [
    "x_test.shape"
   ]
  },
  {
   "cell_type": "code",
   "execution_count": 165,
   "metadata": {},
   "outputs": [],
   "source": [
    "y_train = np.asarray(y_train)"
   ]
  },
  {
   "cell_type": "code",
   "execution_count": 166,
   "metadata": {},
   "outputs": [
    {
     "data": {
      "text/plain": [
       "(668,)"
      ]
     },
     "execution_count": 166,
     "metadata": {},
     "output_type": "execute_result"
    }
   ],
   "source": [
    "y_train.shape"
   ]
  },
  {
   "cell_type": "code",
   "execution_count": 167,
   "metadata": {},
   "outputs": [],
   "source": [
    "y_test = np.asarray(y_test)"
   ]
  },
  {
   "cell_type": "code",
   "execution_count": 169,
   "metadata": {},
   "outputs": [
    {
     "data": {
      "text/plain": [
       "array([[1, 0, 1, 0, 1, 0, 0, 0, 0, 0, 1, 0, 0, 1, 1, 0, 0, 1, 1, 0, 1, 1,\n",
       "        0, 1, 0, 1, 0, 0, 0, 1, 0, 0, 0, 0, 1, 0, 0, 1, 0, 0, 0, 0, 1, 0,\n",
       "        1, 1, 1, 0, 1, 0, 0, 0, 0, 0, 0, 0, 1, 0, 1, 0, 1, 0, 1, 0, 1, 1,\n",
       "        0, 0, 0, 0, 0, 0, 0, 1, 1, 0, 0, 1, 0, 1, 0, 0, 0, 0, 0, 1, 0, 0,\n",
       "        0, 1, 0, 0, 1, 0, 1, 0, 1, 0, 0, 1, 0, 1, 1, 1, 0, 0, 1, 0, 0, 0,\n",
       "        0, 0, 0, 1, 1, 0, 1, 0, 1, 0, 0, 0, 0, 0, 0, 1, 1, 0, 1, 1, 0, 1,\n",
       "        0, 1, 0, 1, 1, 0, 0, 0, 1, 0, 1, 0, 0, 0, 1, 0, 0, 1, 0, 0, 0, 0,\n",
       "        0, 1, 1, 0, 1, 0, 1, 0, 0, 1, 0, 0, 1, 1, 0, 1, 0, 1, 1, 0, 0, 0,\n",
       "        0, 0, 1, 1, 1, 0, 0, 0, 0, 1, 0, 0, 1, 0, 1, 0, 0, 0, 1, 0, 1, 1,\n",
       "        0, 0, 0, 1, 1, 1, 0, 0, 0, 1, 1, 1, 0, 1, 0, 0, 0, 1, 1, 0, 0, 0,\n",
       "        1, 1, 0]])"
      ]
     },
     "execution_count": 169,
     "metadata": {},
     "output_type": "execute_result"
    }
   ],
   "source": [
    "y_test.reshape(1,-1)"
   ]
  },
  {
   "cell_type": "code",
   "execution_count": 185,
   "metadata": {},
   "outputs": [],
   "source": [
    "from tensorflow.keras.layers import Input, Dense, Dropout, BatchNormalization, \n",
    "from tensorflow.keras.optimizers import Adam\n",
    "from tensorflow.keras.models import Model\n",
    "from tensorflow.keras.backend import clear_session"
   ]
  },
  {
   "cell_type": "code",
   "execution_count": 201,
   "metadata": {},
   "outputs": [],
   "source": [
    "clear_session()\n",
    "inputs = Input((12,))\n",
    "x = BatchNormalization()(inputs)\n",
    "x = Dense(16, activation='tanh')(x)\n",
    "x = Dense(32, activation='relu')(x)\n",
    "# x = Dropout(0.1)(x)\n",
    "x = Dense(64, activation='relu')(x)\n",
    "# x = Dropout(0.1)(x)\n",
    "x = Dense(128, activation='relu')(x)\n",
    "x = Dropout(0.1)(x)\n",
    "x = Dense(256, activation='relu')(x)\n",
    "x = Dropout(0.1)(x)\n",
    "outputs = Dense(1, activation='sigmoid')(x)\n",
    "\n",
    "model = Model(inputs=inputs, outputs=outputs)\n",
    "optimizer = Adam(learning_rate=1e-4, decay=1e-5)\n",
    "model.compile(loss='binary_crossentropy', optimizer=optimizer, metrics=['accuracy'])"
   ]
  },
  {
   "cell_type": "code",
   "execution_count": 202,
   "metadata": {},
   "outputs": [
    {
     "name": "stdout",
     "output_type": "stream",
     "text": [
      "Model: \"functional_1\"\n",
      "_________________________________________________________________\n",
      "Layer (type)                 Output Shape              Param #   \n",
      "=================================================================\n",
      "input_1 (InputLayer)         [(None, 12)]              0         \n",
      "_________________________________________________________________\n",
      "batch_normalization (BatchNo (None, 12)                48        \n",
      "_________________________________________________________________\n",
      "dense (Dense)                (None, 16)                208       \n",
      "_________________________________________________________________\n",
      "dense_1 (Dense)              (None, 32)                544       \n",
      "_________________________________________________________________\n",
      "dense_2 (Dense)              (None, 64)                2112      \n",
      "_________________________________________________________________\n",
      "dense_3 (Dense)              (None, 128)               8320      \n",
      "_________________________________________________________________\n",
      "dropout (Dropout)            (None, 128)               0         \n",
      "_________________________________________________________________\n",
      "dense_4 (Dense)              (None, 256)               33024     \n",
      "_________________________________________________________________\n",
      "dropout_1 (Dropout)          (None, 256)               0         \n",
      "_________________________________________________________________\n",
      "dense_5 (Dense)              (None, 1)                 257       \n",
      "=================================================================\n",
      "Total params: 44,513\n",
      "Trainable params: 44,489\n",
      "Non-trainable params: 24\n",
      "_________________________________________________________________\n"
     ]
    }
   ],
   "source": [
    "model.summary()"
   ]
  },
  {
   "cell_type": "code",
   "execution_count": 203,
   "metadata": {
    "scrolled": true
   },
   "outputs": [
    {
     "name": "stdout",
     "output_type": "stream",
     "text": [
      "Epoch 1/500\n",
      "21/21 [==============================] - 0s 7ms/step - loss: 0.6956 - accuracy: 0.4835 - val_loss: 0.6794 - val_accuracy: 0.6009\n",
      "Epoch 2/500\n",
      "21/21 [==============================] - 0s 3ms/step - loss: 0.6749 - accuracy: 0.6677 - val_loss: 0.6662 - val_accuracy: 0.6413\n",
      "Epoch 3/500\n",
      "21/21 [==============================] - 0s 3ms/step - loss: 0.6549 - accuracy: 0.6617 - val_loss: 0.6524 - val_accuracy: 0.6547\n",
      "Epoch 4/500\n",
      "21/21 [==============================] - 0s 3ms/step - loss: 0.6370 - accuracy: 0.6707 - val_loss: 0.6363 - val_accuracy: 0.6457\n",
      "Epoch 5/500\n",
      "21/21 [==============================] - 0s 3ms/step - loss: 0.6122 - accuracy: 0.6931 - val_loss: 0.6134 - val_accuracy: 0.6682\n",
      "Epoch 6/500\n",
      "21/21 [==============================] - 0s 3ms/step - loss: 0.5901 - accuracy: 0.7350 - val_loss: 0.5830 - val_accuracy: 0.7040\n",
      "Epoch 7/500\n",
      "21/21 [==============================] - 0s 3ms/step - loss: 0.5615 - accuracy: 0.7485 - val_loss: 0.5492 - val_accuracy: 0.7444\n",
      "Epoch 8/500\n",
      "21/21 [==============================] - 0s 3ms/step - loss: 0.5421 - accuracy: 0.7710 - val_loss: 0.5176 - val_accuracy: 0.7803\n",
      "Epoch 9/500\n",
      "21/21 [==============================] - 0s 2ms/step - loss: 0.5214 - accuracy: 0.7740 - val_loss: 0.4917 - val_accuracy: 0.7892\n",
      "Epoch 10/500\n",
      "21/21 [==============================] - 0s 3ms/step - loss: 0.5069 - accuracy: 0.7904 - val_loss: 0.4707 - val_accuracy: 0.8161\n",
      "Epoch 11/500\n",
      "21/21 [==============================] - 0s 3ms/step - loss: 0.4969 - accuracy: 0.7874 - val_loss: 0.4536 - val_accuracy: 0.8251\n",
      "Epoch 12/500\n",
      "21/21 [==============================] - 0s 3ms/step - loss: 0.4975 - accuracy: 0.7844 - val_loss: 0.4403 - val_accuracy: 0.8341\n",
      "Epoch 13/500\n",
      "21/21 [==============================] - 0s 3ms/step - loss: 0.4883 - accuracy: 0.7889 - val_loss: 0.4276 - val_accuracy: 0.8430\n",
      "Epoch 14/500\n",
      "21/21 [==============================] - 0s 3ms/step - loss: 0.4890 - accuracy: 0.7814 - val_loss: 0.4209 - val_accuracy: 0.8430\n",
      "Epoch 15/500\n",
      "21/21 [==============================] - 0s 3ms/step - loss: 0.4893 - accuracy: 0.7725 - val_loss: 0.4128 - val_accuracy: 0.8475\n",
      "Epoch 16/500\n",
      "21/21 [==============================] - 0s 3ms/step - loss: 0.4746 - accuracy: 0.7994 - val_loss: 0.4070 - val_accuracy: 0.8475\n",
      "Epoch 17/500\n",
      "21/21 [==============================] - 0s 2ms/step - loss: 0.4685 - accuracy: 0.7994 - val_loss: 0.4005 - val_accuracy: 0.8475\n",
      "Epoch 18/500\n",
      "21/21 [==============================] - 0s 3ms/step - loss: 0.4654 - accuracy: 0.7904 - val_loss: 0.3966 - val_accuracy: 0.8475\n",
      "Epoch 19/500\n",
      "21/21 [==============================] - 0s 3ms/step - loss: 0.4722 - accuracy: 0.7994 - val_loss: 0.3918 - val_accuracy: 0.8520\n",
      "Epoch 20/500\n",
      "21/21 [==============================] - 0s 3ms/step - loss: 0.4623 - accuracy: 0.7964 - val_loss: 0.3882 - val_accuracy: 0.8565\n",
      "Epoch 21/500\n",
      "21/21 [==============================] - 0s 3ms/step - loss: 0.4650 - accuracy: 0.8009 - val_loss: 0.3858 - val_accuracy: 0.8565\n",
      "Epoch 22/500\n",
      "21/21 [==============================] - 0s 3ms/step - loss: 0.4579 - accuracy: 0.7934 - val_loss: 0.3839 - val_accuracy: 0.8610\n",
      "Epoch 23/500\n",
      "21/21 [==============================] - 0s 3ms/step - loss: 0.4674 - accuracy: 0.7994 - val_loss: 0.3826 - val_accuracy: 0.8610\n",
      "Epoch 24/500\n",
      "21/21 [==============================] - 0s 2ms/step - loss: 0.4542 - accuracy: 0.8129 - val_loss: 0.3800 - val_accuracy: 0.8610\n",
      "Epoch 25/500\n",
      "21/21 [==============================] - 0s 3ms/step - loss: 0.4535 - accuracy: 0.7994 - val_loss: 0.3801 - val_accuracy: 0.8610\n",
      "Epoch 26/500\n",
      "21/21 [==============================] - 0s 3ms/step - loss: 0.4544 - accuracy: 0.8084 - val_loss: 0.3776 - val_accuracy: 0.8610\n",
      "Epoch 27/500\n",
      "21/21 [==============================] - 0s 3ms/step - loss: 0.4426 - accuracy: 0.8054 - val_loss: 0.3777 - val_accuracy: 0.8655\n",
      "Epoch 28/500\n",
      "21/21 [==============================] - 0s 3ms/step - loss: 0.4576 - accuracy: 0.8084 - val_loss: 0.3754 - val_accuracy: 0.8565\n",
      "Epoch 29/500\n",
      "21/21 [==============================] - 0s 3ms/step - loss: 0.4508 - accuracy: 0.8069 - val_loss: 0.3742 - val_accuracy: 0.8565\n",
      "Epoch 30/500\n",
      "21/21 [==============================] - 0s 3ms/step - loss: 0.4378 - accuracy: 0.8204 - val_loss: 0.3728 - val_accuracy: 0.8520\n",
      "Epoch 31/500\n",
      "21/21 [==============================] - 0s 3ms/step - loss: 0.4458 - accuracy: 0.8024 - val_loss: 0.3729 - val_accuracy: 0.8565\n",
      "Epoch 32/500\n",
      "21/21 [==============================] - 0s 3ms/step - loss: 0.4358 - accuracy: 0.8039 - val_loss: 0.3711 - val_accuracy: 0.8520\n",
      "Epoch 33/500\n",
      "21/21 [==============================] - 0s 3ms/step - loss: 0.4462 - accuracy: 0.8054 - val_loss: 0.3716 - val_accuracy: 0.8610\n",
      "Epoch 34/500\n",
      "21/21 [==============================] - 0s 3ms/step - loss: 0.4397 - accuracy: 0.8054 - val_loss: 0.3700 - val_accuracy: 0.8565\n",
      "Epoch 35/500\n",
      "21/21 [==============================] - 0s 3ms/step - loss: 0.4403 - accuracy: 0.8114 - val_loss: 0.3701 - val_accuracy: 0.8520\n",
      "Epoch 36/500\n",
      "21/21 [==============================] - 0s 3ms/step - loss: 0.4345 - accuracy: 0.8144 - val_loss: 0.3701 - val_accuracy: 0.8565\n",
      "Epoch 37/500\n",
      "21/21 [==============================] - 0s 3ms/step - loss: 0.4380 - accuracy: 0.8069 - val_loss: 0.3690 - val_accuracy: 0.8565\n",
      "Epoch 38/500\n",
      "21/21 [==============================] - 0s 3ms/step - loss: 0.4414 - accuracy: 0.8099 - val_loss: 0.3688 - val_accuracy: 0.8565\n",
      "Epoch 39/500\n",
      "21/21 [==============================] - 0s 3ms/step - loss: 0.4322 - accuracy: 0.8099 - val_loss: 0.3683 - val_accuracy: 0.8565\n",
      "Epoch 40/500\n",
      "21/21 [==============================] - 0s 3ms/step - loss: 0.4317 - accuracy: 0.8129 - val_loss: 0.3675 - val_accuracy: 0.8565\n",
      "Epoch 41/500\n",
      "21/21 [==============================] - 0s 3ms/step - loss: 0.4294 - accuracy: 0.8099 - val_loss: 0.3676 - val_accuracy: 0.8610\n",
      "Epoch 42/500\n",
      "21/21 [==============================] - 0s 3ms/step - loss: 0.4240 - accuracy: 0.8144 - val_loss: 0.3680 - val_accuracy: 0.8565\n",
      "Epoch 43/500\n",
      "21/21 [==============================] - 0s 3ms/step - loss: 0.4287 - accuracy: 0.8114 - val_loss: 0.3680 - val_accuracy: 0.8655\n",
      "Epoch 44/500\n",
      "21/21 [==============================] - 0s 3ms/step - loss: 0.4261 - accuracy: 0.8159 - val_loss: 0.3672 - val_accuracy: 0.8610\n",
      "Epoch 45/500\n",
      "21/21 [==============================] - 0s 3ms/step - loss: 0.4295 - accuracy: 0.8234 - val_loss: 0.3674 - val_accuracy: 0.8565\n",
      "Epoch 46/500\n",
      "21/21 [==============================] - 0s 3ms/step - loss: 0.4262 - accuracy: 0.8129 - val_loss: 0.3669 - val_accuracy: 0.8610\n",
      "Epoch 47/500\n",
      "21/21 [==============================] - 0s 3ms/step - loss: 0.4322 - accuracy: 0.8069 - val_loss: 0.3671 - val_accuracy: 0.8475\n",
      "Epoch 48/500\n",
      "21/21 [==============================] - 0s 3ms/step - loss: 0.4319 - accuracy: 0.8054 - val_loss: 0.3677 - val_accuracy: 0.8610\n",
      "Epoch 49/500\n",
      "21/21 [==============================] - 0s 3ms/step - loss: 0.4350 - accuracy: 0.8084 - val_loss: 0.3669 - val_accuracy: 0.8520\n",
      "Epoch 50/500\n",
      "21/21 [==============================] - 0s 3ms/step - loss: 0.4251 - accuracy: 0.8144 - val_loss: 0.3681 - val_accuracy: 0.8565\n",
      "Epoch 51/500\n",
      "21/21 [==============================] - 0s 3ms/step - loss: 0.4189 - accuracy: 0.8144 - val_loss: 0.3664 - val_accuracy: 0.8520\n",
      "Epoch 52/500\n",
      "21/21 [==============================] - 0s 3ms/step - loss: 0.4192 - accuracy: 0.8144 - val_loss: 0.3675 - val_accuracy: 0.8520\n",
      "Epoch 53/500\n",
      "21/21 [==============================] - 0s 3ms/step - loss: 0.4203 - accuracy: 0.8204 - val_loss: 0.3661 - val_accuracy: 0.8520\n",
      "Epoch 54/500\n",
      "21/21 [==============================] - 0s 3ms/step - loss: 0.4153 - accuracy: 0.8293 - val_loss: 0.3658 - val_accuracy: 0.8341\n",
      "Epoch 55/500\n",
      "21/21 [==============================] - 0s 3ms/step - loss: 0.4132 - accuracy: 0.8219 - val_loss: 0.3661 - val_accuracy: 0.8520\n",
      "Epoch 56/500\n",
      "21/21 [==============================] - 0s 3ms/step - loss: 0.4146 - accuracy: 0.8249 - val_loss: 0.3656 - val_accuracy: 0.8475\n",
      "Epoch 57/500\n",
      "21/21 [==============================] - 0s 3ms/step - loss: 0.4226 - accuracy: 0.8129 - val_loss: 0.3659 - val_accuracy: 0.8520\n",
      "Epoch 58/500\n",
      "21/21 [==============================] - 0s 3ms/step - loss: 0.4191 - accuracy: 0.8129 - val_loss: 0.3660 - val_accuracy: 0.8520\n"
     ]
    },
    {
     "name": "stdout",
     "output_type": "stream",
     "text": [
      "Epoch 59/500\n",
      "21/21 [==============================] - 0s 3ms/step - loss: 0.4092 - accuracy: 0.8114 - val_loss: 0.3671 - val_accuracy: 0.8475\n",
      "Epoch 60/500\n",
      "21/21 [==============================] - 0s 3ms/step - loss: 0.4138 - accuracy: 0.8129 - val_loss: 0.3663 - val_accuracy: 0.8430\n",
      "Epoch 61/500\n",
      "21/21 [==============================] - 0s 3ms/step - loss: 0.4155 - accuracy: 0.8204 - val_loss: 0.3658 - val_accuracy: 0.8386\n",
      "Epoch 62/500\n",
      "21/21 [==============================] - 0s 3ms/step - loss: 0.4275 - accuracy: 0.8263 - val_loss: 0.3668 - val_accuracy: 0.8430\n",
      "Epoch 63/500\n",
      "21/21 [==============================] - 0s 3ms/step - loss: 0.4128 - accuracy: 0.8323 - val_loss: 0.3667 - val_accuracy: 0.8430\n",
      "Epoch 64/500\n",
      "21/21 [==============================] - 0s 3ms/step - loss: 0.4093 - accuracy: 0.8249 - val_loss: 0.3652 - val_accuracy: 0.8430\n",
      "Epoch 65/500\n",
      "21/21 [==============================] - 0s 3ms/step - loss: 0.4073 - accuracy: 0.8263 - val_loss: 0.3650 - val_accuracy: 0.8430\n",
      "Epoch 66/500\n",
      "21/21 [==============================] - 0s 3ms/step - loss: 0.4048 - accuracy: 0.8323 - val_loss: 0.3649 - val_accuracy: 0.8386\n",
      "Epoch 67/500\n",
      "21/21 [==============================] - 0s 3ms/step - loss: 0.4073 - accuracy: 0.8278 - val_loss: 0.3660 - val_accuracy: 0.8386\n",
      "Epoch 68/500\n",
      "21/21 [==============================] - 0s 3ms/step - loss: 0.4065 - accuracy: 0.8234 - val_loss: 0.3660 - val_accuracy: 0.8430\n",
      "Epoch 69/500\n",
      "21/21 [==============================] - 0s 3ms/step - loss: 0.4180 - accuracy: 0.8189 - val_loss: 0.3660 - val_accuracy: 0.8430\n",
      "Epoch 70/500\n",
      "21/21 [==============================] - 0s 3ms/step - loss: 0.4168 - accuracy: 0.8159 - val_loss: 0.3679 - val_accuracy: 0.8430\n",
      "Epoch 71/500\n",
      "21/21 [==============================] - 0s 3ms/step - loss: 0.4067 - accuracy: 0.8189 - val_loss: 0.3665 - val_accuracy: 0.8430\n",
      "Epoch 72/500\n",
      "21/21 [==============================] - 0s 2ms/step - loss: 0.4219 - accuracy: 0.8249 - val_loss: 0.3680 - val_accuracy: 0.8475\n",
      "Epoch 73/500\n",
      "21/21 [==============================] - 0s 3ms/step - loss: 0.4162 - accuracy: 0.8159 - val_loss: 0.3678 - val_accuracy: 0.8430\n",
      "Epoch 74/500\n",
      "21/21 [==============================] - 0s 3ms/step - loss: 0.4022 - accuracy: 0.8338 - val_loss: 0.3668 - val_accuracy: 0.8475\n",
      "Epoch 75/500\n",
      "21/21 [==============================] - 0s 3ms/step - loss: 0.4090 - accuracy: 0.8308 - val_loss: 0.3658 - val_accuracy: 0.8475\n",
      "Epoch 76/500\n",
      "21/21 [==============================] - 0s 3ms/step - loss: 0.4014 - accuracy: 0.8413 - val_loss: 0.3662 - val_accuracy: 0.8520\n",
      "Epoch 77/500\n",
      "21/21 [==============================] - 0s 3ms/step - loss: 0.4071 - accuracy: 0.8278 - val_loss: 0.3664 - val_accuracy: 0.8475\n",
      "Epoch 78/500\n",
      "21/21 [==============================] - 0s 3ms/step - loss: 0.4043 - accuracy: 0.8308 - val_loss: 0.3670 - val_accuracy: 0.8475\n",
      "Epoch 79/500\n",
      "21/21 [==============================] - 0s 3ms/step - loss: 0.4056 - accuracy: 0.8293 - val_loss: 0.3666 - val_accuracy: 0.8475\n",
      "Epoch 80/500\n",
      "21/21 [==============================] - 0s 3ms/step - loss: 0.4085 - accuracy: 0.8278 - val_loss: 0.3658 - val_accuracy: 0.8475\n",
      "Epoch 81/500\n",
      "21/21 [==============================] - 0s 3ms/step - loss: 0.3964 - accuracy: 0.8383 - val_loss: 0.3656 - val_accuracy: 0.8475\n",
      "Epoch 82/500\n",
      "21/21 [==============================] - 0s 3ms/step - loss: 0.4007 - accuracy: 0.8263 - val_loss: 0.3678 - val_accuracy: 0.8475\n",
      "Epoch 83/500\n",
      "21/21 [==============================] - 0s 3ms/step - loss: 0.4089 - accuracy: 0.8278 - val_loss: 0.3652 - val_accuracy: 0.8520\n",
      "Epoch 84/500\n",
      "21/21 [==============================] - 0s 3ms/step - loss: 0.4110 - accuracy: 0.8278 - val_loss: 0.3672 - val_accuracy: 0.8520\n",
      "Epoch 85/500\n",
      "21/21 [==============================] - 0s 3ms/step - loss: 0.4024 - accuracy: 0.8293 - val_loss: 0.3678 - val_accuracy: 0.8475\n",
      "Epoch 86/500\n",
      "21/21 [==============================] - 0s 3ms/step - loss: 0.4065 - accuracy: 0.8249 - val_loss: 0.3682 - val_accuracy: 0.8520\n",
      "Epoch 87/500\n",
      "21/21 [==============================] - 0s 3ms/step - loss: 0.3957 - accuracy: 0.8234 - val_loss: 0.3685 - val_accuracy: 0.8475\n",
      "Epoch 88/500\n",
      "21/21 [==============================] - 0s 3ms/step - loss: 0.4083 - accuracy: 0.8308 - val_loss: 0.3684 - val_accuracy: 0.8520\n",
      "Epoch 89/500\n",
      "21/21 [==============================] - 0s 3ms/step - loss: 0.3984 - accuracy: 0.8249 - val_loss: 0.3680 - val_accuracy: 0.8520\n",
      "Epoch 90/500\n",
      "21/21 [==============================] - 0s 3ms/step - loss: 0.4072 - accuracy: 0.8338 - val_loss: 0.3679 - val_accuracy: 0.8475\n",
      "Epoch 91/500\n",
      "21/21 [==============================] - 0s 3ms/step - loss: 0.4136 - accuracy: 0.8249 - val_loss: 0.3688 - val_accuracy: 0.8475\n",
      "Epoch 92/500\n",
      "21/21 [==============================] - 0s 3ms/step - loss: 0.3858 - accuracy: 0.8368 - val_loss: 0.3682 - val_accuracy: 0.8475\n",
      "Epoch 93/500\n",
      "21/21 [==============================] - 0s 3ms/step - loss: 0.3887 - accuracy: 0.8368 - val_loss: 0.3676 - val_accuracy: 0.8520\n",
      "Epoch 94/500\n",
      "21/21 [==============================] - 0s 2ms/step - loss: 0.3943 - accuracy: 0.8368 - val_loss: 0.3689 - val_accuracy: 0.8520\n",
      "Epoch 95/500\n",
      "21/21 [==============================] - 0s 3ms/step - loss: 0.3944 - accuracy: 0.8338 - val_loss: 0.3677 - val_accuracy: 0.8520\n",
      "Epoch 96/500\n",
      "21/21 [==============================] - 0s 3ms/step - loss: 0.4083 - accuracy: 0.8219 - val_loss: 0.3687 - val_accuracy: 0.8565\n",
      "Epoch 97/500\n",
      "21/21 [==============================] - 0s 3ms/step - loss: 0.3944 - accuracy: 0.8278 - val_loss: 0.3703 - val_accuracy: 0.8475\n",
      "Epoch 98/500\n",
      "21/21 [==============================] - 0s 3ms/step - loss: 0.3880 - accuracy: 0.8323 - val_loss: 0.3701 - val_accuracy: 0.8565\n",
      "Epoch 99/500\n",
      "21/21 [==============================] - 0s 3ms/step - loss: 0.3945 - accuracy: 0.8353 - val_loss: 0.3708 - val_accuracy: 0.8565\n",
      "Epoch 100/500\n",
      "21/21 [==============================] - 0s 3ms/step - loss: 0.4000 - accuracy: 0.8219 - val_loss: 0.3703 - val_accuracy: 0.8565\n",
      "Epoch 101/500\n",
      "21/21 [==============================] - 0s 3ms/step - loss: 0.3963 - accuracy: 0.8293 - val_loss: 0.3690 - val_accuracy: 0.8565\n",
      "Epoch 102/500\n",
      "21/21 [==============================] - 0s 3ms/step - loss: 0.4015 - accuracy: 0.8278 - val_loss: 0.3698 - val_accuracy: 0.8475\n",
      "Epoch 103/500\n",
      "21/21 [==============================] - 0s 3ms/step - loss: 0.3983 - accuracy: 0.8293 - val_loss: 0.3681 - val_accuracy: 0.8565\n",
      "Epoch 104/500\n",
      "21/21 [==============================] - 0s 3ms/step - loss: 0.3947 - accuracy: 0.8323 - val_loss: 0.3683 - val_accuracy: 0.8565\n",
      "Epoch 105/500\n",
      "21/21 [==============================] - 0s 3ms/step - loss: 0.3892 - accuracy: 0.8488 - val_loss: 0.3696 - val_accuracy: 0.8520\n",
      "Epoch 106/500\n",
      "21/21 [==============================] - 0s 3ms/step - loss: 0.3848 - accuracy: 0.8278 - val_loss: 0.3686 - val_accuracy: 0.8565\n",
      "Epoch 107/500\n",
      "21/21 [==============================] - 0s 3ms/step - loss: 0.3918 - accuracy: 0.8353 - val_loss: 0.3693 - val_accuracy: 0.8520\n",
      "Epoch 108/500\n",
      "21/21 [==============================] - 0s 3ms/step - loss: 0.3741 - accuracy: 0.8323 - val_loss: 0.3685 - val_accuracy: 0.8520\n",
      "Epoch 109/500\n",
      "21/21 [==============================] - 0s 3ms/step - loss: 0.3899 - accuracy: 0.8263 - val_loss: 0.3703 - val_accuracy: 0.8520\n",
      "Epoch 110/500\n",
      "21/21 [==============================] - 0s 3ms/step - loss: 0.3822 - accuracy: 0.8323 - val_loss: 0.3705 - val_accuracy: 0.8520\n",
      "Epoch 111/500\n",
      "21/21 [==============================] - 0s 3ms/step - loss: 0.3899 - accuracy: 0.8413 - val_loss: 0.3707 - val_accuracy: 0.8520\n",
      "Epoch 112/500\n",
      "21/21 [==============================] - 0s 3ms/step - loss: 0.3885 - accuracy: 0.8353 - val_loss: 0.3718 - val_accuracy: 0.8475\n",
      "Epoch 113/500\n",
      "21/21 [==============================] - 0s 2ms/step - loss: 0.3807 - accuracy: 0.8353 - val_loss: 0.3708 - val_accuracy: 0.8475\n",
      "Epoch 114/500\n",
      "21/21 [==============================] - 0s 3ms/step - loss: 0.3980 - accuracy: 0.8234 - val_loss: 0.3711 - val_accuracy: 0.8475\n",
      "Epoch 115/500\n",
      "21/21 [==============================] - 0s 3ms/step - loss: 0.3935 - accuracy: 0.8368 - val_loss: 0.3719 - val_accuracy: 0.8565\n",
      "Epoch 116/500\n"
     ]
    },
    {
     "name": "stdout",
     "output_type": "stream",
     "text": [
      "21/21 [==============================] - 0s 3ms/step - loss: 0.3978 - accuracy: 0.8204 - val_loss: 0.3738 - val_accuracy: 0.8430\n",
      "Epoch 117/500\n",
      "21/21 [==============================] - 0s 3ms/step - loss: 0.4034 - accuracy: 0.8383 - val_loss: 0.3740 - val_accuracy: 0.8520\n",
      "Epoch 118/500\n",
      "21/21 [==============================] - 0s 3ms/step - loss: 0.3887 - accuracy: 0.8428 - val_loss: 0.3729 - val_accuracy: 0.8565\n",
      "Epoch 119/500\n",
      "21/21 [==============================] - 0s 3ms/step - loss: 0.3890 - accuracy: 0.8383 - val_loss: 0.3716 - val_accuracy: 0.8565\n",
      "Epoch 120/500\n",
      "21/21 [==============================] - 0s 3ms/step - loss: 0.3918 - accuracy: 0.8353 - val_loss: 0.3712 - val_accuracy: 0.8520\n",
      "Epoch 121/500\n",
      "21/21 [==============================] - 0s 3ms/step - loss: 0.4025 - accuracy: 0.8323 - val_loss: 0.3720 - val_accuracy: 0.8520\n",
      "Epoch 122/500\n",
      "21/21 [==============================] - 0s 3ms/step - loss: 0.3879 - accuracy: 0.8398 - val_loss: 0.3722 - val_accuracy: 0.8430\n",
      "Epoch 123/500\n",
      "21/21 [==============================] - 0s 3ms/step - loss: 0.3760 - accuracy: 0.8413 - val_loss: 0.3709 - val_accuracy: 0.8475\n",
      "Epoch 124/500\n",
      "21/21 [==============================] - 0s 3ms/step - loss: 0.3799 - accuracy: 0.8308 - val_loss: 0.3690 - val_accuracy: 0.8520\n",
      "Epoch 125/500\n",
      "21/21 [==============================] - 0s 3ms/step - loss: 0.3891 - accuracy: 0.8488 - val_loss: 0.3692 - val_accuracy: 0.8475\n",
      "Epoch 126/500\n",
      "21/21 [==============================] - 0s 3ms/step - loss: 0.3866 - accuracy: 0.8308 - val_loss: 0.3694 - val_accuracy: 0.8520\n",
      "Epoch 127/500\n",
      "21/21 [==============================] - 0s 3ms/step - loss: 0.3878 - accuracy: 0.8323 - val_loss: 0.3712 - val_accuracy: 0.8520\n",
      "Epoch 128/500\n",
      "21/21 [==============================] - 0s 3ms/step - loss: 0.3907 - accuracy: 0.8353 - val_loss: 0.3710 - val_accuracy: 0.8565\n",
      "Epoch 129/500\n",
      "21/21 [==============================] - 0s 3ms/step - loss: 0.3955 - accuracy: 0.8323 - val_loss: 0.3710 - val_accuracy: 0.8520\n",
      "Epoch 130/500\n",
      "21/21 [==============================] - 0s 3ms/step - loss: 0.3829 - accuracy: 0.8413 - val_loss: 0.3722 - val_accuracy: 0.8520\n",
      "Epoch 131/500\n",
      "21/21 [==============================] - 0s 3ms/step - loss: 0.3867 - accuracy: 0.8413 - val_loss: 0.3724 - val_accuracy: 0.8520\n",
      "Epoch 132/500\n",
      "21/21 [==============================] - 0s 3ms/step - loss: 0.3812 - accuracy: 0.8398 - val_loss: 0.3730 - val_accuracy: 0.8475\n",
      "Epoch 133/500\n",
      "21/21 [==============================] - 0s 3ms/step - loss: 0.3749 - accuracy: 0.8443 - val_loss: 0.3713 - val_accuracy: 0.8475\n",
      "Epoch 134/500\n",
      "21/21 [==============================] - 0s 3ms/step - loss: 0.3899 - accuracy: 0.8413 - val_loss: 0.3712 - val_accuracy: 0.8520\n",
      "Epoch 135/500\n",
      "21/21 [==============================] - 0s 3ms/step - loss: 0.3873 - accuracy: 0.8293 - val_loss: 0.3717 - val_accuracy: 0.8520\n",
      "Epoch 136/500\n",
      "21/21 [==============================] - 0s 3ms/step - loss: 0.3891 - accuracy: 0.8308 - val_loss: 0.3742 - val_accuracy: 0.8341\n",
      "Epoch 137/500\n",
      "21/21 [==============================] - 0s 3ms/step - loss: 0.3850 - accuracy: 0.8368 - val_loss: 0.3730 - val_accuracy: 0.8475\n",
      "Epoch 138/500\n",
      "21/21 [==============================] - 0s 3ms/step - loss: 0.3880 - accuracy: 0.8368 - val_loss: 0.3745 - val_accuracy: 0.8520\n",
      "Epoch 139/500\n",
      "21/21 [==============================] - 0s 3ms/step - loss: 0.3797 - accuracy: 0.8353 - val_loss: 0.3743 - val_accuracy: 0.8520\n",
      "Epoch 140/500\n",
      "21/21 [==============================] - 0s 3ms/step - loss: 0.3855 - accuracy: 0.8278 - val_loss: 0.3733 - val_accuracy: 0.8520\n",
      "Epoch 141/500\n",
      "21/21 [==============================] - 0s 3ms/step - loss: 0.3795 - accuracy: 0.8338 - val_loss: 0.3734 - val_accuracy: 0.8430\n",
      "Epoch 142/500\n",
      "21/21 [==============================] - 0s 3ms/step - loss: 0.3811 - accuracy: 0.8293 - val_loss: 0.3744 - val_accuracy: 0.8430\n",
      "Epoch 143/500\n",
      "21/21 [==============================] - 0s 3ms/step - loss: 0.3794 - accuracy: 0.8488 - val_loss: 0.3747 - val_accuracy: 0.8430\n",
      "Epoch 144/500\n",
      "21/21 [==============================] - 0s 3ms/step - loss: 0.3783 - accuracy: 0.8458 - val_loss: 0.3756 - val_accuracy: 0.8430\n",
      "Epoch 145/500\n",
      "21/21 [==============================] - 0s 3ms/step - loss: 0.3819 - accuracy: 0.8368 - val_loss: 0.3764 - val_accuracy: 0.8430\n",
      "Epoch 146/500\n",
      "21/21 [==============================] - 0s 3ms/step - loss: 0.3728 - accuracy: 0.8443 - val_loss: 0.3751 - val_accuracy: 0.8430\n",
      "Epoch 147/500\n",
      "21/21 [==============================] - 0s 3ms/step - loss: 0.3780 - accuracy: 0.8443 - val_loss: 0.3755 - val_accuracy: 0.8430\n",
      "Epoch 148/500\n",
      "21/21 [==============================] - 0s 3ms/step - loss: 0.3777 - accuracy: 0.8413 - val_loss: 0.3770 - val_accuracy: 0.8430\n",
      "Epoch 149/500\n",
      "21/21 [==============================] - 0s 3ms/step - loss: 0.3755 - accuracy: 0.8413 - val_loss: 0.3772 - val_accuracy: 0.8386\n",
      "Epoch 150/500\n",
      "21/21 [==============================] - 0s 3ms/step - loss: 0.3852 - accuracy: 0.8353 - val_loss: 0.3769 - val_accuracy: 0.8386\n",
      "Epoch 151/500\n",
      "21/21 [==============================] - 0s 3ms/step - loss: 0.3849 - accuracy: 0.8338 - val_loss: 0.3771 - val_accuracy: 0.8520\n",
      "Epoch 152/500\n",
      "21/21 [==============================] - 0s 3ms/step - loss: 0.3888 - accuracy: 0.8338 - val_loss: 0.3758 - val_accuracy: 0.8520\n",
      "Epoch 153/500\n",
      "21/21 [==============================] - 0s 3ms/step - loss: 0.3749 - accuracy: 0.8368 - val_loss: 0.3776 - val_accuracy: 0.8251\n",
      "Epoch 154/500\n",
      "21/21 [==============================] - 0s 3ms/step - loss: 0.3847 - accuracy: 0.8234 - val_loss: 0.3756 - val_accuracy: 0.8475\n",
      "Epoch 155/500\n",
      "21/21 [==============================] - 0s 3ms/step - loss: 0.3873 - accuracy: 0.8368 - val_loss: 0.3764 - val_accuracy: 0.8386\n",
      "Epoch 156/500\n",
      "21/21 [==============================] - 0s 2ms/step - loss: 0.3788 - accuracy: 0.8458 - val_loss: 0.3760 - val_accuracy: 0.8475\n",
      "Epoch 157/500\n",
      "21/21 [==============================] - 0s 3ms/step - loss: 0.3744 - accuracy: 0.8398 - val_loss: 0.3759 - val_accuracy: 0.8475\n",
      "Epoch 158/500\n",
      "21/21 [==============================] - 0s 3ms/step - loss: 0.3825 - accuracy: 0.8383 - val_loss: 0.3774 - val_accuracy: 0.8386\n",
      "Epoch 159/500\n",
      "21/21 [==============================] - 0s 3ms/step - loss: 0.3823 - accuracy: 0.8323 - val_loss: 0.3764 - val_accuracy: 0.8430\n",
      "Epoch 160/500\n",
      "21/21 [==============================] - 0s 3ms/step - loss: 0.3802 - accuracy: 0.8548 - val_loss: 0.3781 - val_accuracy: 0.8565\n",
      "Epoch 161/500\n",
      "21/21 [==============================] - 0s 3ms/step - loss: 0.3872 - accuracy: 0.8293 - val_loss: 0.3782 - val_accuracy: 0.8430\n",
      "Epoch 162/500\n",
      "21/21 [==============================] - 0s 3ms/step - loss: 0.3694 - accuracy: 0.8368 - val_loss: 0.3793 - val_accuracy: 0.8520\n",
      "Epoch 163/500\n",
      "21/21 [==============================] - 0s 3ms/step - loss: 0.3719 - accuracy: 0.8518 - val_loss: 0.3796 - val_accuracy: 0.8520\n",
      "Epoch 164/500\n",
      "21/21 [==============================] - 0s 3ms/step - loss: 0.3587 - accuracy: 0.8458 - val_loss: 0.3783 - val_accuracy: 0.8565\n",
      "Epoch 165/500\n",
      "21/21 [==============================] - 0s 3ms/step - loss: 0.3755 - accuracy: 0.8443 - val_loss: 0.3789 - val_accuracy: 0.8475\n",
      "Epoch 166/500\n",
      "21/21 [==============================] - 0s 3ms/step - loss: 0.3919 - accuracy: 0.8383 - val_loss: 0.3785 - val_accuracy: 0.8386\n",
      "Epoch 167/500\n",
      "21/21 [==============================] - 0s 3ms/step - loss: 0.3755 - accuracy: 0.8473 - val_loss: 0.3794 - val_accuracy: 0.8430\n",
      "Epoch 168/500\n",
      "21/21 [==============================] - 0s 3ms/step - loss: 0.3725 - accuracy: 0.8338 - val_loss: 0.3784 - val_accuracy: 0.8430\n",
      "Epoch 169/500\n",
      "21/21 [==============================] - 0s 2ms/step - loss: 0.3882 - accuracy: 0.8353 - val_loss: 0.3780 - val_accuracy: 0.8430\n",
      "Epoch 170/500\n",
      "21/21 [==============================] - 0s 3ms/step - loss: 0.3883 - accuracy: 0.8458 - val_loss: 0.3775 - val_accuracy: 0.8430\n",
      "Epoch 171/500\n",
      "21/21 [==============================] - 0s 2ms/step - loss: 0.3697 - accuracy: 0.8398 - val_loss: 0.3798 - val_accuracy: 0.8520\n",
      "Epoch 172/500\n",
      "21/21 [==============================] - 0s 3ms/step - loss: 0.3699 - accuracy: 0.8368 - val_loss: 0.3791 - val_accuracy: 0.8475\n",
      "Epoch 173/500\n"
     ]
    },
    {
     "name": "stdout",
     "output_type": "stream",
     "text": [
      "21/21 [==============================] - 0s 3ms/step - loss: 0.3649 - accuracy: 0.8458 - val_loss: 0.3786 - val_accuracy: 0.8520\n",
      "Epoch 174/500\n",
      "21/21 [==============================] - 0s 3ms/step - loss: 0.3845 - accuracy: 0.8308 - val_loss: 0.3779 - val_accuracy: 0.8430\n",
      "Epoch 175/500\n",
      "21/21 [==============================] - 0s 3ms/step - loss: 0.3585 - accuracy: 0.8518 - val_loss: 0.3784 - val_accuracy: 0.8430\n",
      "Epoch 176/500\n",
      "21/21 [==============================] - 0s 3ms/step - loss: 0.3710 - accuracy: 0.8473 - val_loss: 0.3791 - val_accuracy: 0.8341\n",
      "Epoch 177/500\n",
      "21/21 [==============================] - 0s 3ms/step - loss: 0.3607 - accuracy: 0.8563 - val_loss: 0.3783 - val_accuracy: 0.8430\n",
      "Epoch 178/500\n",
      "21/21 [==============================] - 0s 3ms/step - loss: 0.3716 - accuracy: 0.8398 - val_loss: 0.3802 - val_accuracy: 0.8475\n",
      "Epoch 179/500\n",
      "21/21 [==============================] - 0s 3ms/step - loss: 0.3772 - accuracy: 0.8293 - val_loss: 0.3825 - val_accuracy: 0.8386\n",
      "Epoch 180/500\n",
      "21/21 [==============================] - 0s 3ms/step - loss: 0.3609 - accuracy: 0.8413 - val_loss: 0.3797 - val_accuracy: 0.8430\n",
      "Epoch 181/500\n",
      "21/21 [==============================] - 0s 3ms/step - loss: 0.3665 - accuracy: 0.8488 - val_loss: 0.3812 - val_accuracy: 0.8475\n",
      "Epoch 182/500\n",
      "21/21 [==============================] - 0s 3ms/step - loss: 0.3685 - accuracy: 0.8488 - val_loss: 0.3841 - val_accuracy: 0.8386\n",
      "Epoch 183/500\n",
      "21/21 [==============================] - 0s 3ms/step - loss: 0.3553 - accuracy: 0.8623 - val_loss: 0.3826 - val_accuracy: 0.8430\n",
      "Epoch 184/500\n",
      "21/21 [==============================] - 0s 3ms/step - loss: 0.3588 - accuracy: 0.8653 - val_loss: 0.3815 - val_accuracy: 0.8386\n",
      "Epoch 185/500\n",
      "21/21 [==============================] - 0s 3ms/step - loss: 0.3651 - accuracy: 0.8548 - val_loss: 0.3819 - val_accuracy: 0.8475\n",
      "Epoch 186/500\n",
      "21/21 [==============================] - 0s 3ms/step - loss: 0.3727 - accuracy: 0.8548 - val_loss: 0.3818 - val_accuracy: 0.8386\n",
      "Epoch 187/500\n",
      "21/21 [==============================] - 0s 3ms/step - loss: 0.3655 - accuracy: 0.8548 - val_loss: 0.3799 - val_accuracy: 0.8430\n",
      "Epoch 188/500\n",
      "21/21 [==============================] - 0s 3ms/step - loss: 0.3713 - accuracy: 0.8473 - val_loss: 0.3786 - val_accuracy: 0.8475\n",
      "Epoch 189/500\n",
      "21/21 [==============================] - 0s 3ms/step - loss: 0.3754 - accuracy: 0.8383 - val_loss: 0.3804 - val_accuracy: 0.8475\n",
      "Epoch 190/500\n",
      "21/21 [==============================] - 0s 2ms/step - loss: 0.3517 - accuracy: 0.8563 - val_loss: 0.3797 - val_accuracy: 0.8386\n",
      "Epoch 191/500\n",
      "21/21 [==============================] - 0s 2ms/step - loss: 0.3654 - accuracy: 0.8398 - val_loss: 0.3818 - val_accuracy: 0.8475\n",
      "Epoch 192/500\n",
      "21/21 [==============================] - 0s 3ms/step - loss: 0.3552 - accuracy: 0.8518 - val_loss: 0.3819 - val_accuracy: 0.8430\n",
      "Epoch 193/500\n",
      "21/21 [==============================] - 0s 3ms/step - loss: 0.3736 - accuracy: 0.8383 - val_loss: 0.3814 - val_accuracy: 0.8475\n",
      "Epoch 194/500\n",
      "21/21 [==============================] - 0s 3ms/step - loss: 0.3658 - accuracy: 0.8428 - val_loss: 0.3821 - val_accuracy: 0.8475\n",
      "Epoch 195/500\n",
      "21/21 [==============================] - 0s 3ms/step - loss: 0.3566 - accuracy: 0.8503 - val_loss: 0.3822 - val_accuracy: 0.8386\n",
      "Epoch 196/500\n",
      "21/21 [==============================] - 0s 3ms/step - loss: 0.3702 - accuracy: 0.8323 - val_loss: 0.3819 - val_accuracy: 0.8386\n",
      "Epoch 197/500\n",
      "21/21 [==============================] - 0s 3ms/step - loss: 0.3724 - accuracy: 0.8368 - val_loss: 0.3827 - val_accuracy: 0.8430\n",
      "Epoch 198/500\n",
      "21/21 [==============================] - 0s 3ms/step - loss: 0.3644 - accuracy: 0.8488 - val_loss: 0.3844 - val_accuracy: 0.8386\n",
      "Epoch 199/500\n",
      "21/21 [==============================] - 0s 3ms/step - loss: 0.3596 - accuracy: 0.8518 - val_loss: 0.3819 - val_accuracy: 0.8386\n",
      "Epoch 200/500\n",
      "21/21 [==============================] - 0s 2ms/step - loss: 0.3555 - accuracy: 0.8413 - val_loss: 0.3827 - val_accuracy: 0.8475\n",
      "Epoch 201/500\n",
      "21/21 [==============================] - 0s 3ms/step - loss: 0.3644 - accuracy: 0.8458 - val_loss: 0.3830 - val_accuracy: 0.8386\n",
      "Epoch 202/500\n",
      "21/21 [==============================] - 0s 3ms/step - loss: 0.3657 - accuracy: 0.8548 - val_loss: 0.3848 - val_accuracy: 0.8386\n",
      "Epoch 203/500\n",
      "21/21 [==============================] - 0s 3ms/step - loss: 0.3601 - accuracy: 0.8473 - val_loss: 0.3832 - val_accuracy: 0.8430\n",
      "Epoch 204/500\n",
      "21/21 [==============================] - 0s 3ms/step - loss: 0.3597 - accuracy: 0.8578 - val_loss: 0.3823 - val_accuracy: 0.8475\n",
      "Epoch 205/500\n",
      "21/21 [==============================] - 0s 3ms/step - loss: 0.3656 - accuracy: 0.8413 - val_loss: 0.3825 - val_accuracy: 0.8430\n",
      "Epoch 206/500\n",
      "21/21 [==============================] - 0s 3ms/step - loss: 0.3524 - accuracy: 0.8488 - val_loss: 0.3817 - val_accuracy: 0.8430\n",
      "Epoch 207/500\n",
      "21/21 [==============================] - 0s 3ms/step - loss: 0.3636 - accuracy: 0.8443 - val_loss: 0.3837 - val_accuracy: 0.8341\n",
      "Epoch 208/500\n",
      "21/21 [==============================] - 0s 3ms/step - loss: 0.3512 - accuracy: 0.8488 - val_loss: 0.3835 - val_accuracy: 0.8520\n",
      "Epoch 209/500\n",
      "21/21 [==============================] - 0s 3ms/step - loss: 0.3771 - accuracy: 0.8488 - val_loss: 0.3845 - val_accuracy: 0.8475\n",
      "Epoch 210/500\n",
      "21/21 [==============================] - 0s 3ms/step - loss: 0.3574 - accuracy: 0.8548 - val_loss: 0.3853 - val_accuracy: 0.8565\n",
      "Epoch 211/500\n",
      "21/21 [==============================] - 0s 3ms/step - loss: 0.3614 - accuracy: 0.8368 - val_loss: 0.3872 - val_accuracy: 0.8475\n",
      "Epoch 212/500\n",
      "21/21 [==============================] - 0s 2ms/step - loss: 0.3731 - accuracy: 0.8503 - val_loss: 0.3846 - val_accuracy: 0.8520\n",
      "Epoch 213/500\n",
      "21/21 [==============================] - 0s 3ms/step - loss: 0.3633 - accuracy: 0.8533 - val_loss: 0.3868 - val_accuracy: 0.8251\n",
      "Epoch 214/500\n",
      "21/21 [==============================] - 0s 3ms/step - loss: 0.3547 - accuracy: 0.8503 - val_loss: 0.3838 - val_accuracy: 0.8475\n",
      "Epoch 215/500\n",
      "21/21 [==============================] - 0s 3ms/step - loss: 0.3590 - accuracy: 0.8428 - val_loss: 0.3854 - val_accuracy: 0.8520\n",
      "Epoch 216/500\n",
      "21/21 [==============================] - 0s 3ms/step - loss: 0.3589 - accuracy: 0.8503 - val_loss: 0.3834 - val_accuracy: 0.8386\n",
      "Epoch 217/500\n",
      "21/21 [==============================] - 0s 3ms/step - loss: 0.3659 - accuracy: 0.8458 - val_loss: 0.3837 - val_accuracy: 0.8520\n",
      "Epoch 218/500\n",
      "21/21 [==============================] - 0s 3ms/step - loss: 0.3554 - accuracy: 0.8518 - val_loss: 0.3871 - val_accuracy: 0.8475\n",
      "Epoch 219/500\n",
      "21/21 [==============================] - 0s 3ms/step - loss: 0.3702 - accuracy: 0.8413 - val_loss: 0.3877 - val_accuracy: 0.8520\n",
      "Epoch 220/500\n",
      "21/21 [==============================] - 0s 3ms/step - loss: 0.3662 - accuracy: 0.8503 - val_loss: 0.3878 - val_accuracy: 0.8386\n",
      "Epoch 221/500\n",
      "21/21 [==============================] - 0s 3ms/step - loss: 0.3698 - accuracy: 0.8488 - val_loss: 0.3869 - val_accuracy: 0.8386\n",
      "Epoch 222/500\n",
      "21/21 [==============================] - 0s 3ms/step - loss: 0.3404 - accuracy: 0.8563 - val_loss: 0.3863 - val_accuracy: 0.8520\n",
      "Epoch 223/500\n",
      "21/21 [==============================] - 0s 3ms/step - loss: 0.3704 - accuracy: 0.8458 - val_loss: 0.3854 - val_accuracy: 0.8520\n",
      "Epoch 224/500\n",
      "21/21 [==============================] - 0s 3ms/step - loss: 0.3380 - accuracy: 0.8593 - val_loss: 0.3862 - val_accuracy: 0.8341\n",
      "Epoch 225/500\n",
      "21/21 [==============================] - 0s 3ms/step - loss: 0.3735 - accuracy: 0.8518 - val_loss: 0.3868 - val_accuracy: 0.8475\n",
      "Epoch 226/500\n",
      "21/21 [==============================] - 0s 3ms/step - loss: 0.3538 - accuracy: 0.8383 - val_loss: 0.3866 - val_accuracy: 0.8475\n",
      "Epoch 227/500\n",
      "21/21 [==============================] - 0s 3ms/step - loss: 0.3649 - accuracy: 0.8428 - val_loss: 0.3860 - val_accuracy: 0.8430\n",
      "Epoch 228/500\n",
      "21/21 [==============================] - 0s 3ms/step - loss: 0.3695 - accuracy: 0.8548 - val_loss: 0.3874 - val_accuracy: 0.8520\n",
      "Epoch 229/500\n",
      "21/21 [==============================] - 0s 3ms/step - loss: 0.3456 - accuracy: 0.8473 - val_loss: 0.3879 - val_accuracy: 0.8430\n",
      "Epoch 230/500\n"
     ]
    },
    {
     "name": "stdout",
     "output_type": "stream",
     "text": [
      "21/21 [==============================] - 0s 3ms/step - loss: 0.3629 - accuracy: 0.8473 - val_loss: 0.3881 - val_accuracy: 0.8386\n",
      "Epoch 231/500\n",
      "21/21 [==============================] - 0s 3ms/step - loss: 0.3604 - accuracy: 0.8503 - val_loss: 0.3866 - val_accuracy: 0.8386\n",
      "Epoch 232/500\n",
      "21/21 [==============================] - 0s 3ms/step - loss: 0.3593 - accuracy: 0.8428 - val_loss: 0.3878 - val_accuracy: 0.8386\n",
      "Epoch 233/500\n",
      "21/21 [==============================] - 0s 3ms/step - loss: 0.3677 - accuracy: 0.8548 - val_loss: 0.3888 - val_accuracy: 0.8386\n",
      "Epoch 234/500\n",
      "21/21 [==============================] - 0s 2ms/step - loss: 0.3423 - accuracy: 0.8473 - val_loss: 0.3900 - val_accuracy: 0.8386\n",
      "Epoch 235/500\n",
      "21/21 [==============================] - 0s 3ms/step - loss: 0.3526 - accuracy: 0.8503 - val_loss: 0.3914 - val_accuracy: 0.8386\n",
      "Epoch 236/500\n",
      "21/21 [==============================] - 0s 3ms/step - loss: 0.3408 - accuracy: 0.8668 - val_loss: 0.3912 - val_accuracy: 0.8386\n",
      "Epoch 237/500\n",
      "21/21 [==============================] - 0s 3ms/step - loss: 0.3433 - accuracy: 0.8473 - val_loss: 0.3926 - val_accuracy: 0.8386\n",
      "Epoch 238/500\n",
      "21/21 [==============================] - 0s 3ms/step - loss: 0.3498 - accuracy: 0.8503 - val_loss: 0.3931 - val_accuracy: 0.8341\n",
      "Epoch 239/500\n",
      "21/21 [==============================] - 0s 3ms/step - loss: 0.3501 - accuracy: 0.8458 - val_loss: 0.3911 - val_accuracy: 0.8386\n",
      "Epoch 240/500\n",
      "21/21 [==============================] - 0s 3ms/step - loss: 0.3509 - accuracy: 0.8458 - val_loss: 0.3933 - val_accuracy: 0.8296\n",
      "Epoch 241/500\n",
      "21/21 [==============================] - 0s 3ms/step - loss: 0.3533 - accuracy: 0.8458 - val_loss: 0.3932 - val_accuracy: 0.8296\n",
      "Epoch 242/500\n",
      "21/21 [==============================] - 0s 3ms/step - loss: 0.3454 - accuracy: 0.8638 - val_loss: 0.3913 - val_accuracy: 0.8296\n",
      "Epoch 243/500\n",
      "21/21 [==============================] - 0s 3ms/step - loss: 0.3685 - accuracy: 0.8428 - val_loss: 0.3907 - val_accuracy: 0.8341\n",
      "Epoch 244/500\n",
      "21/21 [==============================] - 0s 3ms/step - loss: 0.3524 - accuracy: 0.8548 - val_loss: 0.3902 - val_accuracy: 0.8341\n",
      "Epoch 245/500\n",
      "21/21 [==============================] - 0s 3ms/step - loss: 0.3482 - accuracy: 0.8638 - val_loss: 0.3925 - val_accuracy: 0.8296\n",
      "Epoch 246/500\n",
      "21/21 [==============================] - 0s 3ms/step - loss: 0.3509 - accuracy: 0.8548 - val_loss: 0.3920 - val_accuracy: 0.8341\n",
      "Epoch 247/500\n",
      "21/21 [==============================] - 0s 3ms/step - loss: 0.3663 - accuracy: 0.8518 - val_loss: 0.3919 - val_accuracy: 0.8341\n",
      "Epoch 248/500\n",
      "21/21 [==============================] - 0s 3ms/step - loss: 0.3760 - accuracy: 0.8428 - val_loss: 0.3898 - val_accuracy: 0.8341\n",
      "Epoch 249/500\n",
      "21/21 [==============================] - 0s 3ms/step - loss: 0.3458 - accuracy: 0.8563 - val_loss: 0.3925 - val_accuracy: 0.8296\n",
      "Epoch 250/500\n",
      "21/21 [==============================] - 0s 3ms/step - loss: 0.3481 - accuracy: 0.8473 - val_loss: 0.3901 - val_accuracy: 0.8430\n",
      "Epoch 251/500\n",
      "21/21 [==============================] - 0s 3ms/step - loss: 0.3454 - accuracy: 0.8443 - val_loss: 0.3906 - val_accuracy: 0.8296\n",
      "Epoch 252/500\n",
      "21/21 [==============================] - 0s 3ms/step - loss: 0.3514 - accuracy: 0.8503 - val_loss: 0.3928 - val_accuracy: 0.8296\n",
      "Epoch 253/500\n",
      "21/21 [==============================] - 0s 3ms/step - loss: 0.3455 - accuracy: 0.8518 - val_loss: 0.3926 - val_accuracy: 0.8341\n",
      "Epoch 254/500\n",
      "21/21 [==============================] - 0s 3ms/step - loss: 0.3532 - accuracy: 0.8473 - val_loss: 0.3916 - val_accuracy: 0.8341\n",
      "Epoch 255/500\n",
      "21/21 [==============================] - 0s 3ms/step - loss: 0.3588 - accuracy: 0.8608 - val_loss: 0.3913 - val_accuracy: 0.8386\n",
      "Epoch 256/500\n",
      "21/21 [==============================] - 0s 3ms/step - loss: 0.3301 - accuracy: 0.8623 - val_loss: 0.3918 - val_accuracy: 0.8341\n",
      "Epoch 257/500\n",
      "21/21 [==============================] - 0s 3ms/step - loss: 0.3469 - accuracy: 0.8533 - val_loss: 0.3930 - val_accuracy: 0.8341\n",
      "Epoch 258/500\n",
      "21/21 [==============================] - 0s 3ms/step - loss: 0.3643 - accuracy: 0.8428 - val_loss: 0.3924 - val_accuracy: 0.8341\n",
      "Epoch 259/500\n",
      "21/21 [==============================] - 0s 3ms/step - loss: 0.3336 - accuracy: 0.8608 - val_loss: 0.3919 - val_accuracy: 0.8341\n",
      "Epoch 260/500\n",
      "21/21 [==============================] - 0s 3ms/step - loss: 0.3429 - accuracy: 0.8548 - val_loss: 0.3934 - val_accuracy: 0.8341\n",
      "Epoch 261/500\n",
      "21/21 [==============================] - 0s 3ms/step - loss: 0.3575 - accuracy: 0.8458 - val_loss: 0.3952 - val_accuracy: 0.8296\n",
      "Epoch 262/500\n",
      "21/21 [==============================] - 0s 3ms/step - loss: 0.3463 - accuracy: 0.8518 - val_loss: 0.3947 - val_accuracy: 0.8386\n",
      "Epoch 263/500\n",
      "21/21 [==============================] - 0s 3ms/step - loss: 0.3403 - accuracy: 0.8488 - val_loss: 0.3937 - val_accuracy: 0.8341\n",
      "Epoch 264/500\n",
      "21/21 [==============================] - 0s 3ms/step - loss: 0.3538 - accuracy: 0.8578 - val_loss: 0.3936 - val_accuracy: 0.8341\n",
      "Epoch 265/500\n",
      "21/21 [==============================] - 0s 3ms/step - loss: 0.3519 - accuracy: 0.8533 - val_loss: 0.3946 - val_accuracy: 0.8386\n",
      "Epoch 266/500\n",
      "21/21 [==============================] - 0s 3ms/step - loss: 0.3443 - accuracy: 0.8593 - val_loss: 0.3913 - val_accuracy: 0.8341\n",
      "Epoch 267/500\n",
      "21/21 [==============================] - 0s 3ms/step - loss: 0.3427 - accuracy: 0.8548 - val_loss: 0.3918 - val_accuracy: 0.8341\n",
      "Epoch 268/500\n",
      "21/21 [==============================] - 0s 3ms/step - loss: 0.3505 - accuracy: 0.8608 - val_loss: 0.3922 - val_accuracy: 0.8296\n",
      "Epoch 269/500\n",
      "21/21 [==============================] - 0s 3ms/step - loss: 0.3517 - accuracy: 0.8518 - val_loss: 0.3933 - val_accuracy: 0.8341\n",
      "Epoch 270/500\n",
      "21/21 [==============================] - 0s 3ms/step - loss: 0.3353 - accuracy: 0.8593 - val_loss: 0.3933 - val_accuracy: 0.8296\n",
      "Epoch 271/500\n",
      "21/21 [==============================] - 0s 3ms/step - loss: 0.3441 - accuracy: 0.8473 - val_loss: 0.3945 - val_accuracy: 0.8206\n",
      "Epoch 272/500\n",
      "21/21 [==============================] - 0s 3ms/step - loss: 0.3447 - accuracy: 0.8503 - val_loss: 0.3914 - val_accuracy: 0.8341\n",
      "Epoch 273/500\n",
      "21/21 [==============================] - 0s 3ms/step - loss: 0.3512 - accuracy: 0.8458 - val_loss: 0.3922 - val_accuracy: 0.8296\n",
      "Epoch 274/500\n",
      "21/21 [==============================] - 0s 3ms/step - loss: 0.3513 - accuracy: 0.8518 - val_loss: 0.3913 - val_accuracy: 0.8251\n",
      "Epoch 275/500\n",
      "21/21 [==============================] - 0s 3ms/step - loss: 0.3394 - accuracy: 0.8578 - val_loss: 0.3910 - val_accuracy: 0.8251\n",
      "Epoch 276/500\n",
      "21/21 [==============================] - 0s 3ms/step - loss: 0.3373 - accuracy: 0.8623 - val_loss: 0.3937 - val_accuracy: 0.8296\n",
      "Epoch 277/500\n",
      "21/21 [==============================] - 0s 3ms/step - loss: 0.3326 - accuracy: 0.8698 - val_loss: 0.3927 - val_accuracy: 0.8341\n",
      "Epoch 278/500\n",
      "21/21 [==============================] - 0s 2ms/step - loss: 0.3673 - accuracy: 0.8413 - val_loss: 0.3959 - val_accuracy: 0.8296\n",
      "Epoch 279/500\n",
      "21/21 [==============================] - 0s 3ms/step - loss: 0.3453 - accuracy: 0.8623 - val_loss: 0.3933 - val_accuracy: 0.8251\n",
      "Epoch 280/500\n",
      "21/21 [==============================] - 0s 3ms/step - loss: 0.3541 - accuracy: 0.8458 - val_loss: 0.3921 - val_accuracy: 0.8251\n",
      "Epoch 281/500\n",
      "21/21 [==============================] - 0s 3ms/step - loss: 0.3387 - accuracy: 0.8623 - val_loss: 0.3923 - val_accuracy: 0.8251\n",
      "Epoch 282/500\n",
      "21/21 [==============================] - 0s 3ms/step - loss: 0.3466 - accuracy: 0.8458 - val_loss: 0.3936 - val_accuracy: 0.8296\n",
      "Epoch 283/500\n",
      "21/21 [==============================] - 0s 2ms/step - loss: 0.3397 - accuracy: 0.8563 - val_loss: 0.3925 - val_accuracy: 0.8296\n",
      "Epoch 284/500\n",
      "21/21 [==============================] - 0s 3ms/step - loss: 0.3366 - accuracy: 0.8503 - val_loss: 0.3922 - val_accuracy: 0.8296\n",
      "Epoch 285/500\n",
      "21/21 [==============================] - 0s 3ms/step - loss: 0.3343 - accuracy: 0.8608 - val_loss: 0.3937 - val_accuracy: 0.8296\n",
      "Epoch 286/500\n",
      "21/21 [==============================] - 0s 3ms/step - loss: 0.3488 - accuracy: 0.8548 - val_loss: 0.3917 - val_accuracy: 0.8251\n",
      "Epoch 287/500\n"
     ]
    },
    {
     "name": "stdout",
     "output_type": "stream",
     "text": [
      "21/21 [==============================] - 0s 3ms/step - loss: 0.3463 - accuracy: 0.8518 - val_loss: 0.3937 - val_accuracy: 0.8206\n",
      "Epoch 288/500\n",
      "21/21 [==============================] - 0s 3ms/step - loss: 0.3388 - accuracy: 0.8533 - val_loss: 0.3916 - val_accuracy: 0.8251\n",
      "Epoch 289/500\n",
      "21/21 [==============================] - 0s 3ms/step - loss: 0.3330 - accuracy: 0.8593 - val_loss: 0.3914 - val_accuracy: 0.8341\n",
      "Epoch 290/500\n",
      "21/21 [==============================] - 0s 3ms/step - loss: 0.3324 - accuracy: 0.8548 - val_loss: 0.3898 - val_accuracy: 0.8386\n",
      "Epoch 291/500\n",
      "21/21 [==============================] - 0s 3ms/step - loss: 0.3397 - accuracy: 0.8713 - val_loss: 0.3926 - val_accuracy: 0.8341\n",
      "Epoch 292/500\n",
      "21/21 [==============================] - 0s 3ms/step - loss: 0.3441 - accuracy: 0.8503 - val_loss: 0.3941 - val_accuracy: 0.8386\n",
      "Epoch 293/500\n",
      "21/21 [==============================] - 0s 3ms/step - loss: 0.3273 - accuracy: 0.8638 - val_loss: 0.3933 - val_accuracy: 0.8386\n",
      "Epoch 294/500\n",
      "21/21 [==============================] - 0s 3ms/step - loss: 0.3356 - accuracy: 0.8518 - val_loss: 0.3918 - val_accuracy: 0.8341\n",
      "Epoch 295/500\n",
      "21/21 [==============================] - 0s 3ms/step - loss: 0.3376 - accuracy: 0.8563 - val_loss: 0.3908 - val_accuracy: 0.8386\n",
      "Epoch 296/500\n",
      "21/21 [==============================] - 0s 3ms/step - loss: 0.3359 - accuracy: 0.8533 - val_loss: 0.3925 - val_accuracy: 0.8296\n",
      "Epoch 297/500\n",
      "21/21 [==============================] - 0s 3ms/step - loss: 0.3412 - accuracy: 0.8488 - val_loss: 0.3931 - val_accuracy: 0.8341\n",
      "Epoch 298/500\n",
      "21/21 [==============================] - 0s 2ms/step - loss: 0.3380 - accuracy: 0.8503 - val_loss: 0.3947 - val_accuracy: 0.8206\n",
      "Epoch 299/500\n",
      "21/21 [==============================] - 0s 3ms/step - loss: 0.3515 - accuracy: 0.8473 - val_loss: 0.3961 - val_accuracy: 0.8296\n",
      "Epoch 300/500\n",
      "21/21 [==============================] - 0s 3ms/step - loss: 0.3368 - accuracy: 0.8668 - val_loss: 0.3930 - val_accuracy: 0.8341\n",
      "Epoch 301/500\n",
      "21/21 [==============================] - 0s 3ms/step - loss: 0.3539 - accuracy: 0.8458 - val_loss: 0.3947 - val_accuracy: 0.8251\n",
      "Epoch 302/500\n",
      "21/21 [==============================] - 0s 3ms/step - loss: 0.3461 - accuracy: 0.8518 - val_loss: 0.3944 - val_accuracy: 0.8296\n",
      "Epoch 303/500\n",
      "21/21 [==============================] - 0s 3ms/step - loss: 0.3377 - accuracy: 0.8548 - val_loss: 0.3950 - val_accuracy: 0.8386\n",
      "Epoch 304/500\n",
      "21/21 [==============================] - 0s 3ms/step - loss: 0.3246 - accuracy: 0.8683 - val_loss: 0.3950 - val_accuracy: 0.8251\n",
      "Epoch 305/500\n",
      "21/21 [==============================] - 0s 3ms/step - loss: 0.3480 - accuracy: 0.8503 - val_loss: 0.3983 - val_accuracy: 0.8341\n",
      "Epoch 306/500\n",
      "21/21 [==============================] - 0s 2ms/step - loss: 0.3421 - accuracy: 0.8593 - val_loss: 0.3975 - val_accuracy: 0.8251\n",
      "Epoch 307/500\n",
      "21/21 [==============================] - 0s 3ms/step - loss: 0.3247 - accuracy: 0.8683 - val_loss: 0.3980 - val_accuracy: 0.8161\n",
      "Epoch 308/500\n",
      "21/21 [==============================] - 0s 3ms/step - loss: 0.3342 - accuracy: 0.8548 - val_loss: 0.3987 - val_accuracy: 0.8251\n",
      "Epoch 309/500\n",
      "21/21 [==============================] - 0s 3ms/step - loss: 0.3335 - accuracy: 0.8578 - val_loss: 0.3998 - val_accuracy: 0.8251\n",
      "Epoch 310/500\n",
      "21/21 [==============================] - 0s 3ms/step - loss: 0.3585 - accuracy: 0.8458 - val_loss: 0.4020 - val_accuracy: 0.8296\n",
      "Epoch 311/500\n",
      "21/21 [==============================] - 0s 3ms/step - loss: 0.3496 - accuracy: 0.8503 - val_loss: 0.4018 - val_accuracy: 0.8296\n",
      "Epoch 312/500\n",
      "21/21 [==============================] - 0s 2ms/step - loss: 0.3299 - accuracy: 0.8548 - val_loss: 0.4010 - val_accuracy: 0.8206\n",
      "Epoch 313/500\n",
      "21/21 [==============================] - 0s 3ms/step - loss: 0.3502 - accuracy: 0.8383 - val_loss: 0.3990 - val_accuracy: 0.8296\n",
      "Epoch 314/500\n",
      "21/21 [==============================] - 0s 3ms/step - loss: 0.3369 - accuracy: 0.8608 - val_loss: 0.4007 - val_accuracy: 0.8251\n",
      "Epoch 315/500\n",
      "21/21 [==============================] - 0s 3ms/step - loss: 0.3336 - accuracy: 0.8683 - val_loss: 0.4026 - val_accuracy: 0.8206\n",
      "Epoch 316/500\n",
      "21/21 [==============================] - 0s 3ms/step - loss: 0.3263 - accuracy: 0.8638 - val_loss: 0.4005 - val_accuracy: 0.8296\n",
      "Epoch 317/500\n",
      "21/21 [==============================] - 0s 3ms/step - loss: 0.3316 - accuracy: 0.8518 - val_loss: 0.4034 - val_accuracy: 0.8251\n",
      "Epoch 318/500\n",
      "21/21 [==============================] - 0s 3ms/step - loss: 0.3323 - accuracy: 0.8593 - val_loss: 0.4019 - val_accuracy: 0.8296\n",
      "Epoch 319/500\n",
      "21/21 [==============================] - 0s 3ms/step - loss: 0.3203 - accuracy: 0.8772 - val_loss: 0.4040 - val_accuracy: 0.8251\n",
      "Epoch 320/500\n",
      "21/21 [==============================] - 0s 3ms/step - loss: 0.3336 - accuracy: 0.8548 - val_loss: 0.4017 - val_accuracy: 0.8251\n",
      "Epoch 321/500\n",
      "21/21 [==============================] - 0s 3ms/step - loss: 0.3341 - accuracy: 0.8638 - val_loss: 0.4018 - val_accuracy: 0.8251\n",
      "Epoch 322/500\n",
      "21/21 [==============================] - 0s 3ms/step - loss: 0.3369 - accuracy: 0.8608 - val_loss: 0.4008 - val_accuracy: 0.8296\n",
      "Epoch 323/500\n",
      "21/21 [==============================] - 0s 3ms/step - loss: 0.3430 - accuracy: 0.8533 - val_loss: 0.3987 - val_accuracy: 0.8251\n",
      "Epoch 324/500\n",
      "21/21 [==============================] - 0s 3ms/step - loss: 0.3403 - accuracy: 0.8698 - val_loss: 0.3984 - val_accuracy: 0.8296\n",
      "Epoch 325/500\n",
      "21/21 [==============================] - 0s 3ms/step - loss: 0.3315 - accuracy: 0.8698 - val_loss: 0.3975 - val_accuracy: 0.8341\n",
      "Epoch 326/500\n",
      "21/21 [==============================] - 0s 3ms/step - loss: 0.3327 - accuracy: 0.8608 - val_loss: 0.3979 - val_accuracy: 0.8251\n",
      "Epoch 327/500\n",
      "21/21 [==============================] - 0s 2ms/step - loss: 0.3444 - accuracy: 0.8443 - val_loss: 0.3990 - val_accuracy: 0.8251\n",
      "Epoch 328/500\n",
      "21/21 [==============================] - 0s 3ms/step - loss: 0.3240 - accuracy: 0.8668 - val_loss: 0.3986 - val_accuracy: 0.8161\n",
      "Epoch 329/500\n",
      "21/21 [==============================] - 0s 3ms/step - loss: 0.3364 - accuracy: 0.8563 - val_loss: 0.3979 - val_accuracy: 0.8206\n",
      "Epoch 330/500\n",
      "21/21 [==============================] - 0s 3ms/step - loss: 0.3380 - accuracy: 0.8578 - val_loss: 0.3995 - val_accuracy: 0.8206\n",
      "Epoch 331/500\n",
      "21/21 [==============================] - 0s 3ms/step - loss: 0.3164 - accuracy: 0.8623 - val_loss: 0.3991 - val_accuracy: 0.8206\n",
      "Epoch 332/500\n",
      "21/21 [==============================] - 0s 3ms/step - loss: 0.3287 - accuracy: 0.8668 - val_loss: 0.3993 - val_accuracy: 0.8251\n",
      "Epoch 333/500\n",
      "21/21 [==============================] - 0s 3ms/step - loss: 0.3346 - accuracy: 0.8548 - val_loss: 0.3992 - val_accuracy: 0.8251\n",
      "Epoch 334/500\n",
      "21/21 [==============================] - 0s 3ms/step - loss: 0.3520 - accuracy: 0.8473 - val_loss: 0.3987 - val_accuracy: 0.8251\n",
      "Epoch 335/500\n",
      "21/21 [==============================] - 0s 3ms/step - loss: 0.3184 - accuracy: 0.8683 - val_loss: 0.4002 - val_accuracy: 0.8251\n",
      "Epoch 336/500\n",
      "21/21 [==============================] - 0s 3ms/step - loss: 0.3122 - accuracy: 0.8653 - val_loss: 0.4002 - val_accuracy: 0.8251\n",
      "Epoch 337/500\n",
      "21/21 [==============================] - 0s 3ms/step - loss: 0.3353 - accuracy: 0.8503 - val_loss: 0.4028 - val_accuracy: 0.8161\n",
      "Epoch 338/500\n",
      "21/21 [==============================] - 0s 3ms/step - loss: 0.3147 - accuracy: 0.8593 - val_loss: 0.3995 - val_accuracy: 0.8251\n",
      "Epoch 339/500\n",
      "21/21 [==============================] - 0s 3ms/step - loss: 0.3251 - accuracy: 0.8638 - val_loss: 0.3997 - val_accuracy: 0.8206\n",
      "Epoch 340/500\n",
      "21/21 [==============================] - 0s 3ms/step - loss: 0.3290 - accuracy: 0.8608 - val_loss: 0.4020 - val_accuracy: 0.8117\n",
      "Epoch 341/500\n",
      "21/21 [==============================] - 0s 3ms/step - loss: 0.3313 - accuracy: 0.8533 - val_loss: 0.4021 - val_accuracy: 0.8296\n",
      "Epoch 342/500\n",
      "21/21 [==============================] - 0s 3ms/step - loss: 0.3219 - accuracy: 0.8668 - val_loss: 0.4043 - val_accuracy: 0.8206\n",
      "Epoch 343/500\n",
      "21/21 [==============================] - 0s 3ms/step - loss: 0.3359 - accuracy: 0.8533 - val_loss: 0.4045 - val_accuracy: 0.8251\n",
      "Epoch 344/500\n"
     ]
    },
    {
     "name": "stdout",
     "output_type": "stream",
     "text": [
      "21/21 [==============================] - 0s 3ms/step - loss: 0.3151 - accuracy: 0.8608 - val_loss: 0.4020 - val_accuracy: 0.8296\n",
      "Epoch 345/500\n",
      "21/21 [==============================] - 0s 3ms/step - loss: 0.3256 - accuracy: 0.8638 - val_loss: 0.4046 - val_accuracy: 0.8341\n",
      "Epoch 346/500\n",
      "21/21 [==============================] - 0s 3ms/step - loss: 0.3516 - accuracy: 0.8533 - val_loss: 0.4042 - val_accuracy: 0.8206\n",
      "Epoch 347/500\n",
      "21/21 [==============================] - 0s 3ms/step - loss: 0.3459 - accuracy: 0.8533 - val_loss: 0.4064 - val_accuracy: 0.8251\n",
      "Epoch 348/500\n",
      "21/21 [==============================] - 0s 3ms/step - loss: 0.3279 - accuracy: 0.8623 - val_loss: 0.4044 - val_accuracy: 0.8206\n",
      "Epoch 349/500\n",
      "21/21 [==============================] - 0s 3ms/step - loss: 0.3261 - accuracy: 0.8593 - val_loss: 0.4066 - val_accuracy: 0.8251\n",
      "Epoch 350/500\n",
      "21/21 [==============================] - 0s 3ms/step - loss: 0.3539 - accuracy: 0.8533 - val_loss: 0.4094 - val_accuracy: 0.8206\n",
      "Epoch 351/500\n",
      "21/21 [==============================] - 0s 3ms/step - loss: 0.3287 - accuracy: 0.8383 - val_loss: 0.4078 - val_accuracy: 0.8251\n",
      "Epoch 352/500\n",
      "21/21 [==============================] - 0s 3ms/step - loss: 0.3273 - accuracy: 0.8593 - val_loss: 0.4071 - val_accuracy: 0.8296\n",
      "Epoch 353/500\n",
      "21/21 [==============================] - 0s 2ms/step - loss: 0.3397 - accuracy: 0.8533 - val_loss: 0.4071 - val_accuracy: 0.8296\n",
      "Epoch 354/500\n",
      "21/21 [==============================] - 0s 3ms/step - loss: 0.3289 - accuracy: 0.8713 - val_loss: 0.4082 - val_accuracy: 0.8251\n",
      "Epoch 355/500\n",
      "21/21 [==============================] - 0s 3ms/step - loss: 0.3315 - accuracy: 0.8668 - val_loss: 0.4098 - val_accuracy: 0.8251\n",
      "Epoch 356/500\n",
      "21/21 [==============================] - 0s 3ms/step - loss: 0.3395 - accuracy: 0.8638 - val_loss: 0.4087 - val_accuracy: 0.8206\n",
      "Epoch 357/500\n",
      "21/21 [==============================] - 0s 3ms/step - loss: 0.3495 - accuracy: 0.8683 - val_loss: 0.4120 - val_accuracy: 0.8206\n",
      "Epoch 358/500\n",
      "21/21 [==============================] - 0s 3ms/step - loss: 0.3311 - accuracy: 0.8608 - val_loss: 0.4106 - val_accuracy: 0.8251\n",
      "Epoch 359/500\n",
      "21/21 [==============================] - 0s 3ms/step - loss: 0.3468 - accuracy: 0.8518 - val_loss: 0.4099 - val_accuracy: 0.8251\n",
      "Epoch 360/500\n",
      "21/21 [==============================] - 0s 3ms/step - loss: 0.3224 - accuracy: 0.8563 - val_loss: 0.4083 - val_accuracy: 0.8206\n",
      "Epoch 361/500\n",
      "21/21 [==============================] - 0s 2ms/step - loss: 0.3147 - accuracy: 0.8772 - val_loss: 0.4084 - val_accuracy: 0.8296\n",
      "Epoch 362/500\n",
      "21/21 [==============================] - 0s 3ms/step - loss: 0.3196 - accuracy: 0.8563 - val_loss: 0.4101 - val_accuracy: 0.8161\n",
      "Epoch 363/500\n",
      "21/21 [==============================] - 0s 3ms/step - loss: 0.3271 - accuracy: 0.8698 - val_loss: 0.4111 - val_accuracy: 0.8251\n",
      "Epoch 364/500\n",
      "21/21 [==============================] - 0s 3ms/step - loss: 0.3318 - accuracy: 0.8578 - val_loss: 0.4113 - val_accuracy: 0.8072\n",
      "Epoch 365/500\n",
      "21/21 [==============================] - 0s 3ms/step - loss: 0.3307 - accuracy: 0.8533 - val_loss: 0.4125 - val_accuracy: 0.8117\n",
      "Epoch 366/500\n",
      "21/21 [==============================] - 0s 3ms/step - loss: 0.3193 - accuracy: 0.8623 - val_loss: 0.4096 - val_accuracy: 0.8206\n",
      "Epoch 367/500\n",
      "21/21 [==============================] - 0s 3ms/step - loss: 0.3242 - accuracy: 0.8638 - val_loss: 0.4066 - val_accuracy: 0.8296\n",
      "Epoch 368/500\n",
      "21/21 [==============================] - 0s 3ms/step - loss: 0.3149 - accuracy: 0.8593 - val_loss: 0.4080 - val_accuracy: 0.8296\n",
      "Epoch 369/500\n",
      "21/21 [==============================] - 0s 3ms/step - loss: 0.3277 - accuracy: 0.8593 - val_loss: 0.4086 - val_accuracy: 0.8251\n",
      "Epoch 370/500\n",
      "21/21 [==============================] - 0s 3ms/step - loss: 0.3263 - accuracy: 0.8608 - val_loss: 0.4084 - val_accuracy: 0.8206\n",
      "Epoch 371/500\n",
      "21/21 [==============================] - 0s 3ms/step - loss: 0.3024 - accuracy: 0.8728 - val_loss: 0.4077 - val_accuracy: 0.8206\n",
      "Epoch 372/500\n",
      "21/21 [==============================] - 0s 3ms/step - loss: 0.3106 - accuracy: 0.8668 - val_loss: 0.4096 - val_accuracy: 0.8206\n",
      "Epoch 373/500\n",
      "21/21 [==============================] - 0s 3ms/step - loss: 0.3224 - accuracy: 0.8713 - val_loss: 0.4101 - val_accuracy: 0.8206\n",
      "Epoch 374/500\n",
      "21/21 [==============================] - 0s 3ms/step - loss: 0.3226 - accuracy: 0.8653 - val_loss: 0.4099 - val_accuracy: 0.8206\n",
      "Epoch 375/500\n",
      "21/21 [==============================] - 0s 3ms/step - loss: 0.3161 - accuracy: 0.8623 - val_loss: 0.4094 - val_accuracy: 0.8161\n",
      "Epoch 376/500\n",
      "21/21 [==============================] - 0s 2ms/step - loss: 0.3181 - accuracy: 0.8743 - val_loss: 0.4113 - val_accuracy: 0.8206\n",
      "Epoch 377/500\n",
      "21/21 [==============================] - 0s 3ms/step - loss: 0.3360 - accuracy: 0.8563 - val_loss: 0.4105 - val_accuracy: 0.8206\n",
      "Epoch 378/500\n",
      "21/21 [==============================] - 0s 2ms/step - loss: 0.3110 - accuracy: 0.8772 - val_loss: 0.4090 - val_accuracy: 0.8206\n",
      "Epoch 379/500\n",
      "21/21 [==============================] - 0s 3ms/step - loss: 0.3253 - accuracy: 0.8578 - val_loss: 0.4066 - val_accuracy: 0.8251\n",
      "Epoch 380/500\n",
      "21/21 [==============================] - 0s 3ms/step - loss: 0.3250 - accuracy: 0.8608 - val_loss: 0.4081 - val_accuracy: 0.8251\n",
      "Epoch 381/500\n",
      "21/21 [==============================] - 0s 3ms/step - loss: 0.3305 - accuracy: 0.8638 - val_loss: 0.4092 - val_accuracy: 0.8161\n",
      "Epoch 382/500\n",
      "21/21 [==============================] - 0s 3ms/step - loss: 0.3258 - accuracy: 0.8683 - val_loss: 0.4084 - val_accuracy: 0.8251\n",
      "Epoch 383/500\n",
      "21/21 [==============================] - 0s 3ms/step - loss: 0.3356 - accuracy: 0.8623 - val_loss: 0.4043 - val_accuracy: 0.8341\n",
      "Epoch 384/500\n",
      "21/21 [==============================] - 0s 3ms/step - loss: 0.3163 - accuracy: 0.8578 - val_loss: 0.4051 - val_accuracy: 0.8296\n",
      "Epoch 385/500\n",
      "21/21 [==============================] - 0s 3ms/step - loss: 0.3126 - accuracy: 0.8683 - val_loss: 0.4069 - val_accuracy: 0.8251\n",
      "Epoch 386/500\n",
      "21/21 [==============================] - 0s 3ms/step - loss: 0.3363 - accuracy: 0.8668 - val_loss: 0.4067 - val_accuracy: 0.8206\n",
      "Epoch 387/500\n",
      "21/21 [==============================] - 0s 3ms/step - loss: 0.3125 - accuracy: 0.8728 - val_loss: 0.4088 - val_accuracy: 0.8251\n",
      "Epoch 388/500\n",
      "21/21 [==============================] - 0s 3ms/step - loss: 0.3381 - accuracy: 0.8608 - val_loss: 0.4057 - val_accuracy: 0.8251\n",
      "Epoch 389/500\n",
      "21/21 [==============================] - 0s 3ms/step - loss: 0.3312 - accuracy: 0.8518 - val_loss: 0.4106 - val_accuracy: 0.8206\n",
      "Epoch 390/500\n",
      "21/21 [==============================] - 0s 3ms/step - loss: 0.3150 - accuracy: 0.8608 - val_loss: 0.4128 - val_accuracy: 0.8251\n",
      "Epoch 391/500\n",
      "21/21 [==============================] - 0s 3ms/step - loss: 0.3353 - accuracy: 0.8563 - val_loss: 0.4112 - val_accuracy: 0.8206\n",
      "Epoch 392/500\n",
      "21/21 [==============================] - 0s 3ms/step - loss: 0.3263 - accuracy: 0.8653 - val_loss: 0.4105 - val_accuracy: 0.8251\n",
      "Epoch 393/500\n",
      "21/21 [==============================] - 0s 3ms/step - loss: 0.3176 - accuracy: 0.8593 - val_loss: 0.4082 - val_accuracy: 0.8206\n",
      "Epoch 394/500\n",
      "21/21 [==============================] - 0s 3ms/step - loss: 0.3147 - accuracy: 0.8668 - val_loss: 0.4061 - val_accuracy: 0.8296\n",
      "Epoch 395/500\n",
      "21/21 [==============================] - 0s 3ms/step - loss: 0.3207 - accuracy: 0.8638 - val_loss: 0.4079 - val_accuracy: 0.8161\n",
      "Epoch 396/500\n",
      "21/21 [==============================] - 0s 3ms/step - loss: 0.3118 - accuracy: 0.8623 - val_loss: 0.4089 - val_accuracy: 0.8206\n",
      "Epoch 397/500\n",
      "21/21 [==============================] - 0s 3ms/step - loss: 0.3136 - accuracy: 0.8713 - val_loss: 0.4098 - val_accuracy: 0.8251\n",
      "Epoch 398/500\n",
      "21/21 [==============================] - 0s 2ms/step - loss: 0.3177 - accuracy: 0.8653 - val_loss: 0.4103 - val_accuracy: 0.8206\n",
      "Epoch 399/500\n",
      "21/21 [==============================] - 0s 3ms/step - loss: 0.3422 - accuracy: 0.8458 - val_loss: 0.4087 - val_accuracy: 0.8251\n",
      "Epoch 400/500\n",
      "21/21 [==============================] - 0s 3ms/step - loss: 0.2969 - accuracy: 0.8832 - val_loss: 0.4113 - val_accuracy: 0.8251\n",
      "Epoch 401/500\n"
     ]
    },
    {
     "name": "stdout",
     "output_type": "stream",
     "text": [
      "21/21 [==============================] - 0s 3ms/step - loss: 0.3227 - accuracy: 0.8653 - val_loss: 0.4108 - val_accuracy: 0.8251\n",
      "Epoch 402/500\n",
      "21/21 [==============================] - 0s 3ms/step - loss: 0.3215 - accuracy: 0.8698 - val_loss: 0.4123 - val_accuracy: 0.8341\n",
      "Epoch 403/500\n",
      "21/21 [==============================] - 0s 3ms/step - loss: 0.3064 - accuracy: 0.8728 - val_loss: 0.4138 - val_accuracy: 0.8296\n",
      "Epoch 404/500\n",
      "21/21 [==============================] - 0s 3ms/step - loss: 0.2951 - accuracy: 0.8728 - val_loss: 0.4163 - val_accuracy: 0.8206\n",
      "Epoch 405/500\n",
      "21/21 [==============================] - 0s 3ms/step - loss: 0.3291 - accuracy: 0.8563 - val_loss: 0.4146 - val_accuracy: 0.8251\n",
      "Epoch 406/500\n",
      "21/21 [==============================] - 0s 3ms/step - loss: 0.3240 - accuracy: 0.8743 - val_loss: 0.4174 - val_accuracy: 0.8341\n",
      "Epoch 407/500\n",
      "21/21 [==============================] - 0s 3ms/step - loss: 0.3231 - accuracy: 0.8743 - val_loss: 0.4164 - val_accuracy: 0.8251\n",
      "Epoch 408/500\n",
      "21/21 [==============================] - 0s 3ms/step - loss: 0.3150 - accuracy: 0.8668 - val_loss: 0.4117 - val_accuracy: 0.8296\n",
      "Epoch 409/500\n",
      "21/21 [==============================] - 0s 3ms/step - loss: 0.3085 - accuracy: 0.8772 - val_loss: 0.4145 - val_accuracy: 0.8206\n",
      "Epoch 410/500\n",
      "21/21 [==============================] - 0s 3ms/step - loss: 0.3089 - accuracy: 0.8608 - val_loss: 0.4128 - val_accuracy: 0.8206\n",
      "Epoch 411/500\n",
      "21/21 [==============================] - 0s 3ms/step - loss: 0.3015 - accuracy: 0.8743 - val_loss: 0.4140 - val_accuracy: 0.8296\n",
      "Epoch 412/500\n",
      "21/21 [==============================] - 0s 3ms/step - loss: 0.3168 - accuracy: 0.8787 - val_loss: 0.4149 - val_accuracy: 0.8206\n",
      "Epoch 413/500\n",
      "21/21 [==============================] - 0s 3ms/step - loss: 0.3244 - accuracy: 0.8653 - val_loss: 0.4171 - val_accuracy: 0.8206\n",
      "Epoch 414/500\n",
      "21/21 [==============================] - 0s 3ms/step - loss: 0.3018 - accuracy: 0.8757 - val_loss: 0.4164 - val_accuracy: 0.8251\n",
      "Epoch 415/500\n",
      "21/21 [==============================] - 0s 3ms/step - loss: 0.3352 - accuracy: 0.8638 - val_loss: 0.4169 - val_accuracy: 0.8206\n",
      "Epoch 416/500\n",
      "21/21 [==============================] - 0s 3ms/step - loss: 0.3055 - accuracy: 0.8608 - val_loss: 0.4178 - val_accuracy: 0.8117\n",
      "Epoch 417/500\n",
      "21/21 [==============================] - 0s 3ms/step - loss: 0.2894 - accuracy: 0.8877 - val_loss: 0.4167 - val_accuracy: 0.8161\n",
      "Epoch 418/500\n",
      "21/21 [==============================] - 0s 3ms/step - loss: 0.3258 - accuracy: 0.8683 - val_loss: 0.4213 - val_accuracy: 0.8117\n",
      "Epoch 419/500\n",
      "21/21 [==============================] - 0s 3ms/step - loss: 0.3163 - accuracy: 0.8728 - val_loss: 0.4214 - val_accuracy: 0.8161\n",
      "Epoch 420/500\n",
      "21/21 [==============================] - 0s 3ms/step - loss: 0.3131 - accuracy: 0.8802 - val_loss: 0.4175 - val_accuracy: 0.8206\n",
      "Epoch 421/500\n",
      "21/21 [==============================] - 0s 3ms/step - loss: 0.3142 - accuracy: 0.8757 - val_loss: 0.4212 - val_accuracy: 0.8161\n",
      "Epoch 422/500\n",
      "21/21 [==============================] - 0s 3ms/step - loss: 0.3276 - accuracy: 0.8683 - val_loss: 0.4222 - val_accuracy: 0.8117\n",
      "Epoch 423/500\n",
      "21/21 [==============================] - 0s 3ms/step - loss: 0.3063 - accuracy: 0.8728 - val_loss: 0.4218 - val_accuracy: 0.8206\n",
      "Epoch 424/500\n",
      "21/21 [==============================] - 0s 3ms/step - loss: 0.3235 - accuracy: 0.8683 - val_loss: 0.4227 - val_accuracy: 0.8296\n",
      "Epoch 425/500\n",
      "21/21 [==============================] - 0s 3ms/step - loss: 0.3081 - accuracy: 0.8638 - val_loss: 0.4255 - val_accuracy: 0.8206\n",
      "Epoch 426/500\n",
      "21/21 [==============================] - 0s 3ms/step - loss: 0.3133 - accuracy: 0.8713 - val_loss: 0.4228 - val_accuracy: 0.8251\n",
      "Epoch 427/500\n",
      "21/21 [==============================] - 0s 3ms/step - loss: 0.3070 - accuracy: 0.8683 - val_loss: 0.4231 - val_accuracy: 0.8251\n",
      "Epoch 428/500\n",
      "21/21 [==============================] - 0s 3ms/step - loss: 0.3147 - accuracy: 0.8668 - val_loss: 0.4233 - val_accuracy: 0.8161\n",
      "Epoch 429/500\n",
      "21/21 [==============================] - 0s 3ms/step - loss: 0.3136 - accuracy: 0.8698 - val_loss: 0.4224 - val_accuracy: 0.8296\n",
      "Epoch 430/500\n",
      "21/21 [==============================] - 0s 3ms/step - loss: 0.3048 - accuracy: 0.8743 - val_loss: 0.4262 - val_accuracy: 0.8251\n",
      "Epoch 431/500\n",
      "21/21 [==============================] - 0s 3ms/step - loss: 0.3132 - accuracy: 0.8713 - val_loss: 0.4274 - val_accuracy: 0.8296\n",
      "Epoch 432/500\n",
      "21/21 [==============================] - 0s 3ms/step - loss: 0.3203 - accuracy: 0.8608 - val_loss: 0.4280 - val_accuracy: 0.8206\n",
      "Epoch 433/500\n",
      "21/21 [==============================] - 0s 3ms/step - loss: 0.3083 - accuracy: 0.8683 - val_loss: 0.4275 - val_accuracy: 0.8251\n",
      "Epoch 434/500\n",
      "21/21 [==============================] - 0s 3ms/step - loss: 0.3034 - accuracy: 0.8593 - val_loss: 0.4298 - val_accuracy: 0.8251\n",
      "Epoch 435/500\n",
      "21/21 [==============================] - 0s 3ms/step - loss: 0.3070 - accuracy: 0.8743 - val_loss: 0.4280 - val_accuracy: 0.8296\n",
      "Epoch 436/500\n",
      "21/21 [==============================] - 0s 3ms/step - loss: 0.3360 - accuracy: 0.8683 - val_loss: 0.4282 - val_accuracy: 0.8296\n",
      "Epoch 437/500\n",
      "21/21 [==============================] - 0s 3ms/step - loss: 0.3234 - accuracy: 0.8683 - val_loss: 0.4278 - val_accuracy: 0.8296\n",
      "Epoch 438/500\n",
      "21/21 [==============================] - 0s 3ms/step - loss: 0.3105 - accuracy: 0.8623 - val_loss: 0.4273 - val_accuracy: 0.8161\n",
      "Epoch 439/500\n",
      "21/21 [==============================] - 0s 3ms/step - loss: 0.3148 - accuracy: 0.8548 - val_loss: 0.4247 - val_accuracy: 0.8251\n",
      "Epoch 440/500\n",
      "21/21 [==============================] - 0s 3ms/step - loss: 0.3008 - accuracy: 0.8653 - val_loss: 0.4218 - val_accuracy: 0.8206\n",
      "Epoch 441/500\n",
      "21/21 [==============================] - 0s 3ms/step - loss: 0.2987 - accuracy: 0.8787 - val_loss: 0.4246 - val_accuracy: 0.8296\n",
      "Epoch 442/500\n",
      "21/21 [==============================] - 0s 3ms/step - loss: 0.3039 - accuracy: 0.8772 - val_loss: 0.4232 - val_accuracy: 0.8296\n",
      "Epoch 443/500\n",
      "21/21 [==============================] - 0s 3ms/step - loss: 0.3224 - accuracy: 0.8578 - val_loss: 0.4227 - val_accuracy: 0.8251\n",
      "Epoch 444/500\n",
      "21/21 [==============================] - 0s 3ms/step - loss: 0.3039 - accuracy: 0.8802 - val_loss: 0.4224 - val_accuracy: 0.8161\n",
      "Epoch 445/500\n",
      "21/21 [==============================] - 0s 2ms/step - loss: 0.3155 - accuracy: 0.8683 - val_loss: 0.4199 - val_accuracy: 0.8341\n",
      "Epoch 446/500\n",
      "21/21 [==============================] - 0s 3ms/step - loss: 0.3134 - accuracy: 0.8668 - val_loss: 0.4187 - val_accuracy: 0.8206\n",
      "Epoch 447/500\n",
      "21/21 [==============================] - 0s 3ms/step - loss: 0.3020 - accuracy: 0.8698 - val_loss: 0.4216 - val_accuracy: 0.8296\n",
      "Epoch 448/500\n",
      "21/21 [==============================] - 0s 3ms/step - loss: 0.3201 - accuracy: 0.8623 - val_loss: 0.4193 - val_accuracy: 0.8251\n",
      "Epoch 449/500\n",
      "21/21 [==============================] - 0s 3ms/step - loss: 0.3210 - accuracy: 0.8683 - val_loss: 0.4179 - val_accuracy: 0.8341\n",
      "Epoch 450/500\n",
      "21/21 [==============================] - 0s 3ms/step - loss: 0.3037 - accuracy: 0.8653 - val_loss: 0.4195 - val_accuracy: 0.8341\n",
      "Epoch 451/500\n",
      "21/21 [==============================] - 0s 2ms/step - loss: 0.3154 - accuracy: 0.8578 - val_loss: 0.4203 - val_accuracy: 0.8341\n",
      "Epoch 452/500\n",
      "21/21 [==============================] - 0s 3ms/step - loss: 0.3140 - accuracy: 0.8653 - val_loss: 0.4226 - val_accuracy: 0.8296\n",
      "Epoch 453/500\n",
      "21/21 [==============================] - 0s 3ms/step - loss: 0.3241 - accuracy: 0.8757 - val_loss: 0.4217 - val_accuracy: 0.8251\n",
      "Epoch 454/500\n",
      "21/21 [==============================] - 0s 3ms/step - loss: 0.3010 - accuracy: 0.8683 - val_loss: 0.4231 - val_accuracy: 0.8341\n",
      "Epoch 455/500\n",
      "21/21 [==============================] - 0s 3ms/step - loss: 0.3106 - accuracy: 0.8683 - val_loss: 0.4231 - val_accuracy: 0.8341\n",
      "Epoch 456/500\n",
      "21/21 [==============================] - 0s 3ms/step - loss: 0.3192 - accuracy: 0.8638 - val_loss: 0.4205 - val_accuracy: 0.8341\n",
      "Epoch 457/500\n",
      "21/21 [==============================] - 0s 3ms/step - loss: 0.3280 - accuracy: 0.8503 - val_loss: 0.4185 - val_accuracy: 0.8386\n",
      "Epoch 458/500\n"
     ]
    },
    {
     "name": "stdout",
     "output_type": "stream",
     "text": [
      "21/21 [==============================] - 0s 2ms/step - loss: 0.3292 - accuracy: 0.8638 - val_loss: 0.4244 - val_accuracy: 0.8251\n",
      "Epoch 459/500\n",
      "21/21 [==============================] - 0s 3ms/step - loss: 0.3244 - accuracy: 0.8683 - val_loss: 0.4244 - val_accuracy: 0.8161\n",
      "Epoch 460/500\n",
      "21/21 [==============================] - 0s 3ms/step - loss: 0.3164 - accuracy: 0.8668 - val_loss: 0.4247 - val_accuracy: 0.8251\n",
      "Epoch 461/500\n",
      "21/21 [==============================] - 0s 3ms/step - loss: 0.3342 - accuracy: 0.8623 - val_loss: 0.4277 - val_accuracy: 0.8296\n",
      "Epoch 462/500\n",
      "21/21 [==============================] - 0s 3ms/step - loss: 0.3124 - accuracy: 0.8608 - val_loss: 0.4252 - val_accuracy: 0.8251\n",
      "Epoch 463/500\n",
      "21/21 [==============================] - 0s 3ms/step - loss: 0.3216 - accuracy: 0.8608 - val_loss: 0.4229 - val_accuracy: 0.8296\n",
      "Epoch 464/500\n",
      "21/21 [==============================] - 0s 2ms/step - loss: 0.3238 - accuracy: 0.8608 - val_loss: 0.4238 - val_accuracy: 0.8341\n",
      "Epoch 465/500\n",
      "21/21 [==============================] - 0s 3ms/step - loss: 0.3079 - accuracy: 0.8802 - val_loss: 0.4237 - val_accuracy: 0.8296\n",
      "Epoch 466/500\n",
      "21/21 [==============================] - 0s 3ms/step - loss: 0.3077 - accuracy: 0.8698 - val_loss: 0.4254 - val_accuracy: 0.8251\n",
      "Epoch 467/500\n",
      "21/21 [==============================] - 0s 3ms/step - loss: 0.2978 - accuracy: 0.8713 - val_loss: 0.4274 - val_accuracy: 0.8161\n",
      "Epoch 468/500\n",
      "21/21 [==============================] - 0s 3ms/step - loss: 0.3186 - accuracy: 0.8563 - val_loss: 0.4249 - val_accuracy: 0.8386\n",
      "Epoch 469/500\n",
      "21/21 [==============================] - 0s 3ms/step - loss: 0.3300 - accuracy: 0.8533 - val_loss: 0.4269 - val_accuracy: 0.8251\n",
      "Epoch 470/500\n",
      "21/21 [==============================] - 0s 3ms/step - loss: 0.3106 - accuracy: 0.8653 - val_loss: 0.4255 - val_accuracy: 0.8161\n",
      "Epoch 471/500\n",
      "21/21 [==============================] - 0s 3ms/step - loss: 0.2994 - accuracy: 0.8653 - val_loss: 0.4226 - val_accuracy: 0.8206\n",
      "Epoch 472/500\n",
      "21/21 [==============================] - 0s 3ms/step - loss: 0.2995 - accuracy: 0.8698 - val_loss: 0.4248 - val_accuracy: 0.8296\n",
      "Epoch 473/500\n",
      "21/21 [==============================] - 0s 3ms/step - loss: 0.3138 - accuracy: 0.8668 - val_loss: 0.4259 - val_accuracy: 0.8206\n",
      "Epoch 474/500\n",
      "21/21 [==============================] - 0s 3ms/step - loss: 0.2986 - accuracy: 0.8757 - val_loss: 0.4253 - val_accuracy: 0.8161\n",
      "Epoch 475/500\n",
      "21/21 [==============================] - 0s 3ms/step - loss: 0.2936 - accuracy: 0.8713 - val_loss: 0.4273 - val_accuracy: 0.8206\n",
      "Epoch 476/500\n",
      "21/21 [==============================] - 0s 3ms/step - loss: 0.3025 - accuracy: 0.8623 - val_loss: 0.4265 - val_accuracy: 0.8251\n",
      "Epoch 477/500\n",
      "21/21 [==============================] - 0s 3ms/step - loss: 0.3101 - accuracy: 0.8623 - val_loss: 0.4273 - val_accuracy: 0.8251\n",
      "Epoch 478/500\n",
      "21/21 [==============================] - 0s 3ms/step - loss: 0.3341 - accuracy: 0.8623 - val_loss: 0.4254 - val_accuracy: 0.8296\n",
      "Epoch 479/500\n",
      "21/21 [==============================] - 0s 3ms/step - loss: 0.3105 - accuracy: 0.8698 - val_loss: 0.4278 - val_accuracy: 0.8206\n",
      "Epoch 480/500\n",
      "21/21 [==============================] - 0s 3ms/step - loss: 0.3174 - accuracy: 0.8683 - val_loss: 0.4253 - val_accuracy: 0.8251\n",
      "Epoch 481/500\n",
      "21/21 [==============================] - 0s 3ms/step - loss: 0.3203 - accuracy: 0.8683 - val_loss: 0.4264 - val_accuracy: 0.8251\n",
      "Epoch 482/500\n",
      "21/21 [==============================] - 0s 3ms/step - loss: 0.3079 - accuracy: 0.8743 - val_loss: 0.4293 - val_accuracy: 0.8296\n",
      "Epoch 483/500\n",
      "21/21 [==============================] - 0s 3ms/step - loss: 0.3192 - accuracy: 0.8668 - val_loss: 0.4256 - val_accuracy: 0.8206\n",
      "Epoch 484/500\n",
      "21/21 [==============================] - 0s 3ms/step - loss: 0.3167 - accuracy: 0.8683 - val_loss: 0.4267 - val_accuracy: 0.8206\n",
      "Epoch 485/500\n",
      "21/21 [==============================] - 0s 3ms/step - loss: 0.2940 - accuracy: 0.8757 - val_loss: 0.4284 - val_accuracy: 0.8161\n",
      "Epoch 486/500\n",
      "21/21 [==============================] - 0s 3ms/step - loss: 0.3160 - accuracy: 0.8623 - val_loss: 0.4277 - val_accuracy: 0.8251\n",
      "Epoch 487/500\n",
      "21/21 [==============================] - 0s 3ms/step - loss: 0.3250 - accuracy: 0.8608 - val_loss: 0.4266 - val_accuracy: 0.8386\n",
      "Epoch 488/500\n",
      "21/21 [==============================] - 0s 3ms/step - loss: 0.3109 - accuracy: 0.8743 - val_loss: 0.4302 - val_accuracy: 0.8251\n",
      "Epoch 489/500\n",
      "21/21 [==============================] - 0s 3ms/step - loss: 0.3082 - accuracy: 0.8713 - val_loss: 0.4282 - val_accuracy: 0.8206\n",
      "Epoch 490/500\n",
      "21/21 [==============================] - 0s 3ms/step - loss: 0.3095 - accuracy: 0.8713 - val_loss: 0.4259 - val_accuracy: 0.8341\n",
      "Epoch 491/500\n",
      "21/21 [==============================] - 0s 3ms/step - loss: 0.3022 - accuracy: 0.8683 - val_loss: 0.4251 - val_accuracy: 0.8341\n",
      "Epoch 492/500\n",
      "21/21 [==============================] - 0s 3ms/step - loss: 0.3165 - accuracy: 0.8683 - val_loss: 0.4251 - val_accuracy: 0.8386\n",
      "Epoch 493/500\n",
      "21/21 [==============================] - 0s 3ms/step - loss: 0.2990 - accuracy: 0.8683 - val_loss: 0.4262 - val_accuracy: 0.8341\n",
      "Epoch 494/500\n",
      "21/21 [==============================] - 0s 3ms/step - loss: 0.3118 - accuracy: 0.8578 - val_loss: 0.4274 - val_accuracy: 0.8341\n",
      "Epoch 495/500\n",
      "21/21 [==============================] - 0s 3ms/step - loss: 0.3181 - accuracy: 0.8593 - val_loss: 0.4288 - val_accuracy: 0.8430\n",
      "Epoch 496/500\n",
      "21/21 [==============================] - 0s 3ms/step - loss: 0.3070 - accuracy: 0.8533 - val_loss: 0.4319 - val_accuracy: 0.8251\n",
      "Epoch 497/500\n",
      "21/21 [==============================] - 0s 3ms/step - loss: 0.3148 - accuracy: 0.8608 - val_loss: 0.4270 - val_accuracy: 0.8296\n",
      "Epoch 498/500\n",
      "21/21 [==============================] - 0s 3ms/step - loss: 0.3075 - accuracy: 0.8608 - val_loss: 0.4285 - val_accuracy: 0.8206\n",
      "Epoch 499/500\n",
      "21/21 [==============================] - 0s 3ms/step - loss: 0.3234 - accuracy: 0.8653 - val_loss: 0.4295 - val_accuracy: 0.8161\n",
      "Epoch 500/500\n",
      "21/21 [==============================] - 0s 2ms/step - loss: 0.3099 - accuracy: 0.8638 - val_loss: 0.4332 - val_accuracy: 0.8161\n"
     ]
    }
   ],
   "source": [
    "history = model.fit(x_train, y_train, batch_size = 32, epochs = 500, validation_data=(x_test, y_test), verbose=1)"
   ]
  },
  {
   "cell_type": "code",
   "execution_count": 210,
   "metadata": {},
   "outputs": [
    {
     "data": {
      "image/png": "[encoded data removed]",
      "text/plain": [
       "<Figure size 432x288 with 1 Axes>"
      ]
     },
     "metadata": {
      "needs_background": "light"
     },
     "output_type": "display_data"
    }
   ],
   "source": [
    "plt.plot(history.history['accuracy'])\n",
    "plt.plot(history.history['val_accuracy'])\n",
    "plt.title('model accuracy')\n",
    "plt.axvline(max_val_accuracy)\n",
    "plt.ylabel('accuracy')\n",
    "plt.xlabel('epoch')\n",
    "plt.legend(['train', 'test'], loc='lower right')\n",
    "plt.show();"
   ]
  },
  {
   "cell_type": "code",
   "execution_count": 207,
   "metadata": {},
   "outputs": [],
   "source": [
    "max_val_accuracy = np.argsort(history.history['val_accuracy'])[::-1][0]"
   ]
  },
  {
   "cell_type": "code",
   "execution_count": 208,
   "metadata": {},
   "outputs": [
    {
     "data": {
      "text/plain": [
       "26"
      ]
     },
     "execution_count": 208,
     "metadata": {},
     "output_type": "execute_result"
    }
   ],
   "source": [
    "max_val_accuracy"
   ]
  },
  {
   "cell_type": "code",
   "execution_count": null,
   "metadata": {},
   "outputs": [],
   "source": []
  }
 ],
 "metadata": {
  "kernelspec": {
   "display_name": "Python 3",
   "language": "python",
   "name": "python3"
  },
  "language_info": {
   "codemirror_mode": {
    "name": "ipython",
    "version": 3
   },
   "file_extension": ".py",
   "mimetype": "text/x-python",
   "name": "python",
   "nbconvert_exporter": "python",
   "pygments_lexer": "ipython3",
   "version": "3.7.7"
  }
 },
 "nbformat": 4,
 "nbformat_minor": 4
}
