{
 "cells": [
  {
   "cell_type": "code",
   "execution_count": 1,
   "metadata": {},
   "outputs": [],
   "source": [
    "import numpy as np\n",
    "import pandas as pd\n",
    "import matplotlib.pyplot as plt\n",
    "import seaborn as sns"
   ]
  },
  {
   "cell_type": "code",
   "execution_count": 2,
   "metadata": {},
   "outputs": [
    {
     "data": {
      "text/html": [
       "<div>\n",
       "<style scoped>\n",
       "    .dataframe tbody tr th:only-of-type {\n",
       "        vertical-align: middle;\n",
       "    }\n",
       "\n",
       "    .dataframe tbody tr th {\n",
       "        vertical-align: top;\n",
       "    }\n",
       "\n",
       "    .dataframe thead th {\n",
       "        text-align: right;\n",
       "    }\n",
       "</style>\n",
       "<table border=\"1\" class=\"dataframe\">\n",
       "  <thead>\n",
       "    <tr style=\"text-align: right;\">\n",
       "      <th></th>\n",
       "      <th>PassengerId</th>\n",
       "      <th>Survived</th>\n",
       "      <th>Pclass</th>\n",
       "      <th>Name</th>\n",
       "      <th>Sex</th>\n",
       "      <th>Age</th>\n",
       "      <th>SibSp</th>\n",
       "      <th>Parch</th>\n",
       "      <th>Ticket</th>\n",
       "      <th>Fare</th>\n",
       "      <th>Cabin</th>\n",
       "      <th>Embarked</th>\n",
       "    </tr>\n",
       "  </thead>\n",
       "  <tbody>\n",
       "    <tr>\n",
       "      <th>0</th>\n",
       "      <td>1</td>\n",
       "      <td>0</td>\n",
       "      <td>3</td>\n",
       "      <td>Braund, Mr. Owen Harris</td>\n",
       "      <td>male</td>\n",
       "      <td>22.0</td>\n",
       "      <td>1</td>\n",
       "      <td>0</td>\n",
       "      <td>A/5 21171</td>\n",
       "      <td>7.2500</td>\n",
       "      <td>NaN</td>\n",
       "      <td>S</td>\n",
       "    </tr>\n",
       "    <tr>\n",
       "      <th>1</th>\n",
       "      <td>2</td>\n",
       "      <td>1</td>\n",
       "      <td>1</td>\n",
       "      <td>Cumings, Mrs. John Bradley (Florence Briggs Th...</td>\n",
       "      <td>female</td>\n",
       "      <td>38.0</td>\n",
       "      <td>1</td>\n",
       "      <td>0</td>\n",
       "      <td>PC 17599</td>\n",
       "      <td>71.2833</td>\n",
       "      <td>C85</td>\n",
       "      <td>C</td>\n",
       "    </tr>\n",
       "    <tr>\n",
       "      <th>2</th>\n",
       "      <td>3</td>\n",
       "      <td>1</td>\n",
       "      <td>3</td>\n",
       "      <td>Heikkinen, Miss. Laina</td>\n",
       "      <td>female</td>\n",
       "      <td>26.0</td>\n",
       "      <td>0</td>\n",
       "      <td>0</td>\n",
       "      <td>STON/O2. 3101282</td>\n",
       "      <td>7.9250</td>\n",
       "      <td>NaN</td>\n",
       "      <td>S</td>\n",
       "    </tr>\n",
       "    <tr>\n",
       "      <th>3</th>\n",
       "      <td>4</td>\n",
       "      <td>1</td>\n",
       "      <td>1</td>\n",
       "      <td>Futrelle, Mrs. Jacques Heath (Lily May Peel)</td>\n",
       "      <td>female</td>\n",
       "      <td>35.0</td>\n",
       "      <td>1</td>\n",
       "      <td>0</td>\n",
       "      <td>113803</td>\n",
       "      <td>53.1000</td>\n",
       "      <td>C123</td>\n",
       "      <td>S</td>\n",
       "    </tr>\n",
       "    <tr>\n",
       "      <th>4</th>\n",
       "      <td>5</td>\n",
       "      <td>0</td>\n",
       "      <td>3</td>\n",
       "      <td>Allen, Mr. William Henry</td>\n",
       "      <td>male</td>\n",
       "      <td>35.0</td>\n",
       "      <td>0</td>\n",
       "      <td>0</td>\n",
       "      <td>373450</td>\n",
       "      <td>8.0500</td>\n",
       "      <td>NaN</td>\n",
       "      <td>S</td>\n",
       "    </tr>\n",
       "  </tbody>\n",
       "</table>\n",
       "</div>"
      ],
      "text/plain": [
       "   PassengerId  Survived  Pclass  \\\n",
       "0            1         0       3   \n",
       "1            2         1       1   \n",
       "2            3         1       3   \n",
       "3            4         1       1   \n",
       "4            5         0       3   \n",
       "\n",
       "                                                Name     Sex   Age  SibSp  \\\n",
       "0                            Braund, Mr. Owen Harris    male  22.0      1   \n",
       "1  Cumings, Mrs. John Bradley (Florence Briggs Th...  female  38.0      1   \n",
       "2                             Heikkinen, Miss. Laina  female  26.0      0   \n",
       "3       Futrelle, Mrs. Jacques Heath (Lily May Peel)  female  35.0      1   \n",
       "4                           Allen, Mr. William Henry    male  35.0      0   \n",
       "\n",
       "   Parch            Ticket     Fare Cabin Embarked  \n",
       "0      0         A/5 21171   7.2500   NaN        S  \n",
       "1      0          PC 17599  71.2833   C85        C  \n",
       "2      0  STON/O2. 3101282   7.9250   NaN        S  \n",
       "3      0            113803  53.1000  C123        S  \n",
       "4      0            373450   8.0500   NaN        S  "
      ]
     },
     "execution_count": 2,
     "metadata": {},
     "output_type": "execute_result"
    }
   ],
   "source": [
    "titanic_df = pd.read_csv('data/train.csv')\n",
    "titanic_df.head()"
   ]
  },
  {
   "cell_type": "code",
   "execution_count": 3,
   "metadata": {},
   "outputs": [
    {
     "name": "stdout",
     "output_type": "stream",
     "text": [
      "<class 'pandas.core.frame.DataFrame'>\n",
      "RangeIndex: 891 entries, 0 to 890\n",
      "Data columns (total 12 columns):\n",
      " #   Column       Non-Null Count  Dtype  \n",
      "---  ------       --------------  -----  \n",
      " 0   PassengerId  891 non-null    int64  \n",
      " 1   Survived     891 non-null    int64  \n",
      " 2   Pclass       891 non-null    int64  \n",
      " 3   Name         891 non-null    object \n",
      " 4   Sex          891 non-null    object \n",
      " 5   Age          714 non-null    float64\n",
      " 6   SibSp        891 non-null    int64  \n",
      " 7   Parch        891 non-null    int64  \n",
      " 8   Ticket       891 non-null    object \n",
      " 9   Fare         891 non-null    float64\n",
      " 10  Cabin        204 non-null    object \n",
      " 11  Embarked     889 non-null    object \n",
      "dtypes: float64(2), int64(5), object(5)\n",
      "memory usage: 83.7+ KB\n"
     ]
    }
   ],
   "source": [
    "titanic_df.info()"
   ]
  },
  {
   "cell_type": "code",
   "execution_count": 4,
   "metadata": {},
   "outputs": [
    {
     "data": {
      "image/png": "[encoded data removed]",
      "text/plain": [
       "<Figure size 432x288 with 1 Axes>"
      ]
     },
     "metadata": {
      "needs_background": "light"
     },
     "output_type": "display_data"
    }
   ],
   "source": [
    "plt.hist(titanic_df[\"Sex\"]);"
   ]
  },
  {
   "cell_type": "code",
   "execution_count": 5,
   "metadata": {},
   "outputs": [
    {
     "data": {
      "image/png": "[encoded data removed]",
      "text/plain": [
       "<Figure size 432x288 with 2 Axes>"
      ]
     },
     "metadata": {
      "needs_background": "light"
     },
     "output_type": "display_data"
    }
   ],
   "source": [
    "titanic_df[\"Pclass\"].hist(by=titanic_df[\"Sex\"]);"
   ]
  },
  {
   "cell_type": "code",
   "execution_count": 6,
   "metadata": {},
   "outputs": [],
   "source": [
    "def male_female_child(passenger):\n",
    "    age,sex = passenger\n",
    "    \n",
    "    if age < 16:\n",
    "        return 'child'\n",
    "    \n",
    "    else:\n",
    "        return sex"
   ]
  },
  {
   "cell_type": "code",
   "execution_count": 7,
   "metadata": {},
   "outputs": [],
   "source": [
    "titanic_df[\"person\"] = titanic_df[[\"Age\",\"Sex\"]].apply(male_female_child, axis=1)"
   ]
  },
  {
   "cell_type": "code",
   "execution_count": 8,
   "metadata": {},
   "outputs": [
    {
     "data": {
      "image/png": "[encoded data removed]",
      "text/plain": [
       "<Figure size 432x288 with 4 Axes>"
      ]
     },
     "metadata": {
      "needs_background": "light"
     },
     "output_type": "display_data"
    }
   ],
   "source": [
    "titanic_df[\"Pclass\"].hist(by=titanic_df[\"person\"]);"
   ]
  },
  {
   "cell_type": "code",
   "execution_count": 9,
   "metadata": {},
   "outputs": [
    {
     "data": {
      "image/png": "[encoded data removed]",
      "text/plain": [
       "<Figure size 432x288 with 1 Axes>"
      ]
     },
     "metadata": {
      "needs_background": "light"
     },
     "output_type": "display_data"
    }
   ],
   "source": [
    "titanic_df[\"Age\"].hist(bins=50);"
   ]
  },
  {
   "cell_type": "code",
   "execution_count": 10,
   "metadata": {},
   "outputs": [
    {
     "data": {
      "text/plain": [
       "29.69911764705882"
      ]
     },
     "execution_count": 10,
     "metadata": {},
     "output_type": "execute_result"
    }
   ],
   "source": [
    "titanic_df[\"Age\"].mean()"
   ]
  },
  {
   "cell_type": "code",
   "execution_count": 11,
   "metadata": {},
   "outputs": [
    {
     "data": {
      "text/plain": [
       "male      537\n",
       "female    271\n",
       "child      83\n",
       "Name: person, dtype: int64"
      ]
     },
     "execution_count": 11,
     "metadata": {},
     "output_type": "execute_result"
    }
   ],
   "source": [
    "titanic_df[\"person\"].value_counts()"
   ]
  },
  {
   "cell_type": "code",
   "execution_count": 12,
   "metadata": {},
   "outputs": [
    {
     "data": {
      "text/plain": [
       "<seaborn.axisgrid.FacetGrid at 0x7fc9ebbae410>"
      ]
     },
     "execution_count": 12,
     "metadata": {},
     "output_type": "execute_result"
    },
    {
     "data": {
      "image/png": "[encoded data removed]",
      "text/plain": [
       "<Figure size 934.5x216 with 1 Axes>"
      ]
     },
     "metadata": {
      "needs_background": "light"
     },
     "output_type": "display_data"
    }
   ],
   "source": [
    "fig = sns.FacetGrid(titanic_df, hue=\"Sex\", aspect=4)\n",
    "\n",
    "fig.map(sns.kdeplot, 'Age', shade=True)\n",
    "\n",
    "oldest = titanic_df[\"Age\"].max()\n",
    "\n",
    "fig.set(xlim=(0,oldest))\n",
    "\n",
    "fig.add_legend()"
   ]
  },
  {
   "cell_type": "code",
   "execution_count": 13,
   "metadata": {},
   "outputs": [
    {
     "data": {
      "text/plain": [
       "<seaborn.axisgrid.FacetGrid at 0x7fc9ebb61310>"
      ]
     },
     "execution_count": 13,
     "metadata": {},
     "output_type": "execute_result"
    },
    {
     "data": {
      "image/png": "[encoded data removed]",
      "text/plain": [
       "<Figure size 934.5x216 with 1 Axes>"
      ]
     },
     "metadata": {
      "needs_background": "light"
     },
     "output_type": "display_data"
    }
   ],
   "source": [
    "fig = sns.FacetGrid(titanic_df, hue=\"person\", aspect=4)\n",
    "\n",
    "fig.map(sns.kdeplot, 'Age', shade=True)\n",
    "\n",
    "oldest = titanic_df[\"Age\"].max()\n",
    "\n",
    "fig.set(xlim=(0,oldest))\n",
    "\n",
    "fig.add_legend()"
   ]
  },
  {
   "cell_type": "code",
   "execution_count": 14,
   "metadata": {},
   "outputs": [
    {
     "data": {
      "text/plain": [
       "<seaborn.axisgrid.FacetGrid at 0x7fc9ebbf8590>"
      ]
     },
     "execution_count": 14,
     "metadata": {},
     "output_type": "execute_result"
    },
    {
     "data": {
      "image/png": "[encoded data removed]",
      "text/plain": [
       "<Figure size 906.375x216 with 1 Axes>"
      ]
     },
     "metadata": {
      "needs_background": "light"
     },
     "output_type": "display_data"
    }
   ],
   "source": [
    "fig = sns.FacetGrid(titanic_df, hue=\"Pclass\", aspect=4)\n",
    "\n",
    "fig.map(sns.kdeplot, 'Age', shade=True)\n",
    "\n",
    "oldest = titanic_df[\"Age\"].max()\n",
    "\n",
    "fig.set(xlim=(0,oldest))\n",
    "\n",
    "fig.add_legend()"
   ]
  },
  {
   "cell_type": "code",
   "execution_count": 15,
   "metadata": {},
   "outputs": [],
   "source": [
    "deck = titanic_df['Cabin'].dropna()"
   ]
  },
  {
   "cell_type": "code",
   "execution_count": 16,
   "metadata": {},
   "outputs": [
    {
     "data": {
      "text/plain": [
       "1      C85\n",
       "3     C123\n",
       "6      E46\n",
       "10      G6\n",
       "11    C103\n",
       "Name: Cabin, dtype: object"
      ]
     },
     "execution_count": 16,
     "metadata": {},
     "output_type": "execute_result"
    }
   ],
   "source": [
    "deck.head()"
   ]
  },
  {
   "cell_type": "code",
   "execution_count": 17,
   "metadata": {},
   "outputs": [],
   "source": [
    "levels = [l[0] for l in deck]\n",
    "levels.sort()"
   ]
  },
  {
   "cell_type": "code",
   "execution_count": 18,
   "metadata": {},
   "outputs": [],
   "source": [
    "level_df = pd.DataFrame(levels)\n",
    "level_df.columns = [\"Cabin\"]"
   ]
  },
  {
   "cell_type": "code",
   "execution_count": 19,
   "metadata": {},
   "outputs": [],
   "source": [
    "level_df = level_df[level_df[\"Cabin\"] != 'T']"
   ]
  },
  {
   "cell_type": "code",
   "execution_count": 23,
   "metadata": {},
   "outputs": [
    {
     "data": {
      "text/plain": [
       "<seaborn.axisgrid.FacetGrid at 0x7fc9ebcf1f90>"
      ]
     },
     "execution_count": 23,
     "metadata": {},
     "output_type": "execute_result"
    },
    {
     "data": {
      "image/png": "[encoded data removed]",
      "text/plain": [
       "<Figure size 360x360 with 1 Axes>"
      ]
     },
     "metadata": {
      "needs_background": "light"
     },
     "output_type": "display_data"
    }
   ],
   "source": [
    "sns.catplot(x='Cabin',data=level_df, kind='count')"
   ]
  },
  {
   "cell_type": "markdown",
   "metadata": {},
   "source": [
    "## Where did the passengers come from?"
   ]
  },
  {
   "cell_type": "code",
   "execution_count": 25,
   "metadata": {},
   "outputs": [
    {
     "data": {
      "text/plain": [
       "<seaborn.axisgrid.FacetGrid at 0x7fc9eba9cfd0>"
      ]
     },
     "execution_count": 25,
     "metadata": {},
     "output_type": "execute_result"
    },
    {
     "data": {
      "image/png": "[encoded data removed]",
      "text/plain": [
       "<Figure size 402.375x360 with 1 Axes>"
      ]
     },
     "metadata": {
      "needs_background": "light"
     },
     "output_type": "display_data"
    }
   ],
   "source": [
    "sns.catplot(x='Embarked', data=titanic_df, kind='count', hue='Pclass', order=['C','Q','S'])"
   ]
  },
  {
   "cell_type": "markdown",
   "metadata": {},
   "source": [
    "## Who was alone and who was with family?"
   ]
  },
  {
   "cell_type": "code",
   "execution_count": 26,
   "metadata": {},
   "outputs": [],
   "source": [
    "titanic_df['Alone'] = titanic_df.SibSp + titanic_df.Parch"
   ]
  },
  {
   "cell_type": "code",
   "execution_count": 28,
   "metadata": {},
   "outputs": [
    {
     "data": {
      "text/plain": [
       "0      1\n",
       "1      1\n",
       "2      0\n",
       "3      1\n",
       "4      0\n",
       "      ..\n",
       "886    0\n",
       "887    0\n",
       "888    3\n",
       "889    0\n",
       "890    0\n",
       "Name: Alone, Length: 891, dtype: int64"
      ]
     },
     "execution_count": 28,
     "metadata": {},
     "output_type": "execute_result"
    }
   ],
   "source": [
    "titanic_df['Alone']"
   ]
  },
  {
   "cell_type": "code",
   "execution_count": 29,
   "metadata": {},
   "outputs": [
    {
     "name": "stderr",
     "output_type": "stream",
     "text": [
      "/home/rasputin1127/anaconda3/lib/python3.7/site-packages/pandas/core/indexing.py:671: SettingWithCopyWarning: \n",
      "A value is trying to be set on a copy of a slice from a DataFrame\n",
      "\n",
      "See the caveats in the documentation: https://pandas.pydata.org/pandas-docs/stable/user_guide/indexing.html#returning-a-view-versus-a-copy\n",
      "  self._setitem_with_indexer(indexer, value)\n"
     ]
    }
   ],
   "source": [
    "titanic_df['Alone'].loc[titanic_df['Alone'] > 0] = 'with Family'\n",
    "titanic_df['Alone'].loc[titanic_df['Alone'] == 0] = 'Alone'"
   ]
  },
  {
   "cell_type": "code",
   "execution_count": 31,
   "metadata": {},
   "outputs": [
    {
     "data": {
      "text/html": [
       "<div>\n",
       "<style scoped>\n",
       "    .dataframe tbody tr th:only-of-type {\n",
       "        vertical-align: middle;\n",
       "    }\n",
       "\n",
       "    .dataframe tbody tr th {\n",
       "        vertical-align: top;\n",
       "    }\n",
       "\n",
       "    .dataframe thead th {\n",
       "        text-align: right;\n",
       "    }\n",
       "</style>\n",
       "<table border=\"1\" class=\"dataframe\">\n",
       "  <thead>\n",
       "    <tr style=\"text-align: right;\">\n",
       "      <th></th>\n",
       "      <th>PassengerId</th>\n",
       "      <th>Survived</th>\n",
       "      <th>Pclass</th>\n",
       "      <th>Name</th>\n",
       "      <th>Sex</th>\n",
       "      <th>Age</th>\n",
       "      <th>SibSp</th>\n",
       "      <th>Parch</th>\n",
       "      <th>Ticket</th>\n",
       "      <th>Fare</th>\n",
       "      <th>Cabin</th>\n",
       "      <th>Embarked</th>\n",
       "      <th>person</th>\n",
       "      <th>Alone</th>\n",
       "    </tr>\n",
       "  </thead>\n",
       "  <tbody>\n",
       "    <tr>\n",
       "      <th>0</th>\n",
       "      <td>1</td>\n",
       "      <td>0</td>\n",
       "      <td>3</td>\n",
       "      <td>Braund, Mr. Owen Harris</td>\n",
       "      <td>male</td>\n",
       "      <td>22.0</td>\n",
       "      <td>1</td>\n",
       "      <td>0</td>\n",
       "      <td>A/5 21171</td>\n",
       "      <td>7.2500</td>\n",
       "      <td>NaN</td>\n",
       "      <td>S</td>\n",
       "      <td>male</td>\n",
       "      <td>with Family</td>\n",
       "    </tr>\n",
       "    <tr>\n",
       "      <th>1</th>\n",
       "      <td>2</td>\n",
       "      <td>1</td>\n",
       "      <td>1</td>\n",
       "      <td>Cumings, Mrs. John Bradley (Florence Briggs Th...</td>\n",
       "      <td>female</td>\n",
       "      <td>38.0</td>\n",
       "      <td>1</td>\n",
       "      <td>0</td>\n",
       "      <td>PC 17599</td>\n",
       "      <td>71.2833</td>\n",
       "      <td>C85</td>\n",
       "      <td>C</td>\n",
       "      <td>female</td>\n",
       "      <td>with Family</td>\n",
       "    </tr>\n",
       "    <tr>\n",
       "      <th>2</th>\n",
       "      <td>3</td>\n",
       "      <td>1</td>\n",
       "      <td>3</td>\n",
       "      <td>Heikkinen, Miss. Laina</td>\n",
       "      <td>female</td>\n",
       "      <td>26.0</td>\n",
       "      <td>0</td>\n",
       "      <td>0</td>\n",
       "      <td>STON/O2. 3101282</td>\n",
       "      <td>7.9250</td>\n",
       "      <td>NaN</td>\n",
       "      <td>S</td>\n",
       "      <td>female</td>\n",
       "      <td>Alone</td>\n",
       "    </tr>\n",
       "    <tr>\n",
       "      <th>3</th>\n",
       "      <td>4</td>\n",
       "      <td>1</td>\n",
       "      <td>1</td>\n",
       "      <td>Futrelle, Mrs. Jacques Heath (Lily May Peel)</td>\n",
       "      <td>female</td>\n",
       "      <td>35.0</td>\n",
       "      <td>1</td>\n",
       "      <td>0</td>\n",
       "      <td>113803</td>\n",
       "      <td>53.1000</td>\n",
       "      <td>C123</td>\n",
       "      <td>S</td>\n",
       "      <td>female</td>\n",
       "      <td>with Family</td>\n",
       "    </tr>\n",
       "    <tr>\n",
       "      <th>4</th>\n",
       "      <td>5</td>\n",
       "      <td>0</td>\n",
       "      <td>3</td>\n",
       "      <td>Allen, Mr. William Henry</td>\n",
       "      <td>male</td>\n",
       "      <td>35.0</td>\n",
       "      <td>0</td>\n",
       "      <td>0</td>\n",
       "      <td>373450</td>\n",
       "      <td>8.0500</td>\n",
       "      <td>NaN</td>\n",
       "      <td>S</td>\n",
       "      <td>male</td>\n",
       "      <td>Alone</td>\n",
       "    </tr>\n",
       "    <tr>\n",
       "      <th>...</th>\n",
       "      <td>...</td>\n",
       "      <td>...</td>\n",
       "      <td>...</td>\n",
       "      <td>...</td>\n",
       "      <td>...</td>\n",
       "      <td>...</td>\n",
       "      <td>...</td>\n",
       "      <td>...</td>\n",
       "      <td>...</td>\n",
       "      <td>...</td>\n",
       "      <td>...</td>\n",
       "      <td>...</td>\n",
       "      <td>...</td>\n",
       "      <td>...</td>\n",
       "    </tr>\n",
       "    <tr>\n",
       "      <th>886</th>\n",
       "      <td>887</td>\n",
       "      <td>0</td>\n",
       "      <td>2</td>\n",
       "      <td>Montvila, Rev. Juozas</td>\n",
       "      <td>male</td>\n",
       "      <td>27.0</td>\n",
       "      <td>0</td>\n",
       "      <td>0</td>\n",
       "      <td>211536</td>\n",
       "      <td>13.0000</td>\n",
       "      <td>NaN</td>\n",
       "      <td>S</td>\n",
       "      <td>male</td>\n",
       "      <td>Alone</td>\n",
       "    </tr>\n",
       "    <tr>\n",
       "      <th>887</th>\n",
       "      <td>888</td>\n",
       "      <td>1</td>\n",
       "      <td>1</td>\n",
       "      <td>Graham, Miss. Margaret Edith</td>\n",
       "      <td>female</td>\n",
       "      <td>19.0</td>\n",
       "      <td>0</td>\n",
       "      <td>0</td>\n",
       "      <td>112053</td>\n",
       "      <td>30.0000</td>\n",
       "      <td>B42</td>\n",
       "      <td>S</td>\n",
       "      <td>female</td>\n",
       "      <td>Alone</td>\n",
       "    </tr>\n",
       "    <tr>\n",
       "      <th>888</th>\n",
       "      <td>889</td>\n",
       "      <td>0</td>\n",
       "      <td>3</td>\n",
       "      <td>Johnston, Miss. Catherine Helen \"Carrie\"</td>\n",
       "      <td>female</td>\n",
       "      <td>NaN</td>\n",
       "      <td>1</td>\n",
       "      <td>2</td>\n",
       "      <td>W./C. 6607</td>\n",
       "      <td>23.4500</td>\n",
       "      <td>NaN</td>\n",
       "      <td>S</td>\n",
       "      <td>female</td>\n",
       "      <td>with Family</td>\n",
       "    </tr>\n",
       "    <tr>\n",
       "      <th>889</th>\n",
       "      <td>890</td>\n",
       "      <td>1</td>\n",
       "      <td>1</td>\n",
       "      <td>Behr, Mr. Karl Howell</td>\n",
       "      <td>male</td>\n",
       "      <td>26.0</td>\n",
       "      <td>0</td>\n",
       "      <td>0</td>\n",
       "      <td>111369</td>\n",
       "      <td>30.0000</td>\n",
       "      <td>C148</td>\n",
       "      <td>C</td>\n",
       "      <td>male</td>\n",
       "      <td>Alone</td>\n",
       "    </tr>\n",
       "    <tr>\n",
       "      <th>890</th>\n",
       "      <td>891</td>\n",
       "      <td>0</td>\n",
       "      <td>3</td>\n",
       "      <td>Dooley, Mr. Patrick</td>\n",
       "      <td>male</td>\n",
       "      <td>32.0</td>\n",
       "      <td>0</td>\n",
       "      <td>0</td>\n",
       "      <td>370376</td>\n",
       "      <td>7.7500</td>\n",
       "      <td>NaN</td>\n",
       "      <td>Q</td>\n",
       "      <td>male</td>\n",
       "      <td>Alone</td>\n",
       "    </tr>\n",
       "  </tbody>\n",
       "</table>\n",
       "<p>891 rows × 14 columns</p>\n",
       "</div>"
      ],
      "text/plain": [
       "     PassengerId  Survived  Pclass  \\\n",
       "0              1         0       3   \n",
       "1              2         1       1   \n",
       "2              3         1       3   \n",
       "3              4         1       1   \n",
       "4              5         0       3   \n",
       "..           ...       ...     ...   \n",
       "886          887         0       2   \n",
       "887          888         1       1   \n",
       "888          889         0       3   \n",
       "889          890         1       1   \n",
       "890          891         0       3   \n",
       "\n",
       "                                                  Name     Sex   Age  SibSp  \\\n",
       "0                              Braund, Mr. Owen Harris    male  22.0      1   \n",
       "1    Cumings, Mrs. John Bradley (Florence Briggs Th...  female  38.0      1   \n",
       "2                               Heikkinen, Miss. Laina  female  26.0      0   \n",
       "3         Futrelle, Mrs. Jacques Heath (Lily May Peel)  female  35.0      1   \n",
       "4                             Allen, Mr. William Henry    male  35.0      0   \n",
       "..                                                 ...     ...   ...    ...   \n",
       "886                              Montvila, Rev. Juozas    male  27.0      0   \n",
       "887                       Graham, Miss. Margaret Edith  female  19.0      0   \n",
       "888           Johnston, Miss. Catherine Helen \"Carrie\"  female   NaN      1   \n",
       "889                              Behr, Mr. Karl Howell    male  26.0      0   \n",
       "890                                Dooley, Mr. Patrick    male  32.0      0   \n",
       "\n",
       "     Parch            Ticket     Fare Cabin Embarked  person        Alone  \n",
       "0        0         A/5 21171   7.2500   NaN        S    male  with Family  \n",
       "1        0          PC 17599  71.2833   C85        C  female  with Family  \n",
       "2        0  STON/O2. 3101282   7.9250   NaN        S  female        Alone  \n",
       "3        0            113803  53.1000  C123        S  female  with Family  \n",
       "4        0            373450   8.0500   NaN        S    male        Alone  \n",
       "..     ...               ...      ...   ...      ...     ...          ...  \n",
       "886      0            211536  13.0000   NaN        S    male        Alone  \n",
       "887      0            112053  30.0000   B42        S  female        Alone  \n",
       "888      2        W./C. 6607  23.4500   NaN        S  female  with Family  \n",
       "889      0            111369  30.0000  C148        C    male        Alone  \n",
       "890      0            370376   7.7500   NaN        Q    male        Alone  \n",
       "\n",
       "[891 rows x 14 columns]"
      ]
     },
     "execution_count": 31,
     "metadata": {},
     "output_type": "execute_result"
    }
   ],
   "source": [
    "titanic_df"
   ]
  },
  {
   "cell_type": "code",
   "execution_count": 33,
   "metadata": {},
   "outputs": [
    {
     "data": {
      "text/plain": [
       "<seaborn.axisgrid.FacetGrid at 0x7fc9eb913410>"
      ]
     },
     "execution_count": 33,
     "metadata": {},
     "output_type": "execute_result"
    },
    {
     "data": {
      "image/png": "[encoded data removed]",
      "text/plain": [
       "<Figure size 360x360 with 1 Axes>"
      ]
     },
     "metadata": {
      "needs_background": "light"
     },
     "output_type": "display_data"
    }
   ],
   "source": [
    "sns.catplot('Alone', data=titanic_df, palette='summer', kind='count')"
   ]
  },
  {
   "cell_type": "code",
   "execution_count": 36,
   "metadata": {},
   "outputs": [
    {
     "data": {
      "text/plain": [
       "<seaborn.axisgrid.FacetGrid at 0x7fc9eb9136d0>"
      ]
     },
     "execution_count": 36,
     "metadata": {},
     "output_type": "execute_result"
    },
    {
     "data": {
      "image/png": "[encoded data removed]",
      "text/plain": [
       "<Figure size 360x360 with 1 Axes>"
      ]
     },
     "metadata": {
      "needs_background": "light"
     },
     "output_type": "display_data"
    }
   ],
   "source": [
    "titanic_df['Survivor'] = titanic_df.Survived.map({0:'no',1:'yes'})\n",
    "\n",
    "sns.catplot('Survivor', data=titanic_df, kind='count')"
   ]
  },
  {
   "cell_type": "code",
   "execution_count": 40,
   "metadata": {},
   "outputs": [
    {
     "data": {
      "text/plain": [
       "<seaborn.axisgrid.FacetGrid at 0x7fc9e78784d0>"
      ]
     },
     "execution_count": 40,
     "metadata": {},
     "output_type": "execute_result"
    },
    {
     "data": {
      "image/png": "[encoded data removed]",
      "text/plain": [
       "<Figure size 360x360 with 1 Axes>"
      ]
     },
     "metadata": {
      "needs_background": "light"
     },
     "output_type": "display_data"
    }
   ],
   "source": [
    "sns.catplot('Pclass','Survived',data=titanic_df, kind='point')"
   ]
  },
  {
   "cell_type": "code",
   "execution_count": 41,
   "metadata": {},
   "outputs": [
    {
     "data": {
      "text/plain": [
       "<seaborn.axisgrid.FacetGrid at 0x7fc9eb9cf750>"
      ]
     },
     "execution_count": 41,
     "metadata": {},
     "output_type": "execute_result"
    },
    {
     "data": {
      "image/png": "[encoded data removed]",
      "text/plain": [
       "<Figure size 430.5x360 with 1 Axes>"
      ]
     },
     "metadata": {
      "needs_background": "light"
     },
     "output_type": "display_data"
    }
   ],
   "source": [
    "sns.catplot('Pclass','Survived',data=titanic_df,hue='person',kind='point')"
   ]
  },
  {
   "cell_type": "code",
   "execution_count": 45,
   "metadata": {},
   "outputs": [
    {
     "data": {
      "text/plain": [
       "<seaborn.axisgrid.FacetGrid at 0x7fc9e760a190>"
      ]
     },
     "execution_count": 45,
     "metadata": {},
     "output_type": "execute_result"
    },
    {
     "data": {
      "image/png": "[encoded data removed]",
      "text/plain": [
       "<Figure size 360x360 with 1 Axes>"
      ]
     },
     "metadata": {
      "needs_background": "light"
     },
     "output_type": "display_data"
    }
   ],
   "source": [
    "sns.lmplot('Age','Survived',data=titanic_df)"
   ]
  },
  {
   "cell_type": "code",
   "execution_count": 46,
   "metadata": {},
   "outputs": [
    {
     "data": {
      "text/plain": [
       "<seaborn.axisgrid.FacetGrid at 0x7fc9e4c5a750>"
      ]
     },
     "execution_count": 46,
     "metadata": {},
     "output_type": "execute_result"
    },
    {
     "data": {
      "image/png": "[encoded data removed]",
      "text/plain": [
       "<Figure size 402.375x360 with 1 Axes>"
      ]
     },
     "metadata": {
      "needs_background": "light"
     },
     "output_type": "display_data"
    }
   ],
   "source": [
    "sns.lmplot('Age','Survived',data=titanic_df,hue='Pclass')"
   ]
  },
  {
   "cell_type": "code",
   "execution_count": 48,
   "metadata": {},
   "outputs": [
    {
     "data": {
      "text/plain": [
       "<seaborn.axisgrid.FacetGrid at 0x7fc9e4be4e10>"
      ]
     },
     "execution_count": 48,
     "metadata": {},
     "output_type": "execute_result"
    },
    {
     "data": {
      "image/png": "[encoded data removed]",
      "text/plain": [
       "<Figure size 402.375x360 with 1 Axes>"
      ]
     },
     "metadata": {
      "needs_background": "light"
     },
     "output_type": "display_data"
    }
   ],
   "source": [
    "generations = [10,20,40,60,80]\n",
    "\n",
    "sns.lmplot('Age','Survived',data=titanic_df,hue='Pclass',x_bins=generations)"
   ]
  },
  {
   "cell_type": "code",
   "execution_count": 51,
   "metadata": {},
   "outputs": [
    {
     "data": {
      "text/plain": [
       "<seaborn.axisgrid.FacetGrid at 0x7fc9e4aa8810>"
      ]
     },
     "execution_count": 51,
     "metadata": {},
     "output_type": "execute_result"
    },
    {
     "data": {
      "image/png": "[encoded data removed]",
      "text/plain": [
       "<Figure size 430.5x360 with 1 Axes>"
      ]
     },
     "metadata": {
      "needs_background": "light"
     },
     "output_type": "display_data"
    }
   ],
   "source": [
    "sns.lmplot(\"Age\",'Survived',hue='Sex',data=titanic_df,x_bins=generations)"
   ]
  },
  {
   "cell_type": "markdown",
   "metadata": {},
   "source": [
    "## Did the deck have an effect on the passengers survival rate? "
   ]
  },
  {
   "cell_type": "code",
   "execution_count": 55,
   "metadata": {},
   "outputs": [],
   "source": [
    "titanic_df['level'] = level_df['Cabin']\n",
    "titanic_df['level'] = titanic_df['level'].map({'A':0,'B':1,'C':2,'D':3,'E':4,'F':5})"
   ]
  },
  {
   "cell_type": "code",
   "execution_count": 57,
   "metadata": {},
   "outputs": [
    {
     "data": {
      "text/plain": [
       "<seaborn.axisgrid.FacetGrid at 0x7fc9e75ca510>"
      ]
     },
     "execution_count": 57,
     "metadata": {},
     "output_type": "execute_result"
    },
    {
     "data": {
      "image/png": "[encoded data removed]",
      "text/plain": [
       "<Figure size 430.5x360 with 1 Axes>"
      ]
     },
     "metadata": {
      "needs_background": "light"
     },
     "output_type": "display_data"
    }
   ],
   "source": [
    "sns.lmplot(\"level\",\"Survived\",data=titanic_df,hue='person')"
   ]
  },
  {
   "cell_type": "markdown",
   "metadata": {},
   "source": [
    "## Did having a family increase the odds of surviving the crash?"
   ]
  },
  {
   "cell_type": "code",
   "execution_count": 60,
   "metadata": {},
   "outputs": [],
   "source": [
    "titanic_df['Alone'] = titanic_df['SibSp'] + titanic_df['Parch']\n",
    "titanic_df['Alone'] = titanic_df['Alone'].map(lambda x: 1 if x == 0 else 0)"
   ]
  },
  {
   "cell_type": "code",
   "execution_count": 62,
   "metadata": {},
   "outputs": [
    {
     "data": {
      "text/plain": [
       "<seaborn.axisgrid.FacetGrid at 0x7fc9e4bde650>"
      ]
     },
     "execution_count": 62,
     "metadata": {},
     "output_type": "execute_result"
    },
    {
     "data": {
      "image/png": "[encoded data removed]",
      "text/plain": [
       "<Figure size 430.5x360 with 1 Axes>"
      ]
     },
     "metadata": {
      "needs_background": "light"
     },
     "output_type": "display_data"
    }
   ],
   "source": [
    "sns.lmplot('Alone','Survived',titanic_df, hue='person')"
   ]
  },
  {
   "cell_type": "code",
   "execution_count": 63,
   "metadata": {},
   "outputs": [
    {
     "data": {
      "text/html": [
       "<div>\n",
       "<style scoped>\n",
       "    .dataframe tbody tr th:only-of-type {\n",
       "        vertical-align: middle;\n",
       "    }\n",
       "\n",
       "    .dataframe tbody tr th {\n",
       "        vertical-align: top;\n",
       "    }\n",
       "\n",
       "    .dataframe thead th {\n",
       "        text-align: right;\n",
       "    }\n",
       "</style>\n",
       "<table border=\"1\" class=\"dataframe\">\n",
       "  <thead>\n",
       "    <tr style=\"text-align: right;\">\n",
       "      <th></th>\n",
       "      <th>PassengerId</th>\n",
       "      <th>Survived</th>\n",
       "      <th>Pclass</th>\n",
       "      <th>Name</th>\n",
       "      <th>Sex</th>\n",
       "      <th>Age</th>\n",
       "      <th>SibSp</th>\n",
       "      <th>Parch</th>\n",
       "      <th>Ticket</th>\n",
       "      <th>Fare</th>\n",
       "      <th>Cabin</th>\n",
       "      <th>Embarked</th>\n",
       "      <th>person</th>\n",
       "      <th>Alone</th>\n",
       "      <th>Survivor</th>\n",
       "      <th>level</th>\n",
       "    </tr>\n",
       "  </thead>\n",
       "  <tbody>\n",
       "    <tr>\n",
       "      <th>0</th>\n",
       "      <td>1</td>\n",
       "      <td>0</td>\n",
       "      <td>3</td>\n",
       "      <td>Braund, Mr. Owen Harris</td>\n",
       "      <td>male</td>\n",
       "      <td>22.0</td>\n",
       "      <td>1</td>\n",
       "      <td>0</td>\n",
       "      <td>A/5 21171</td>\n",
       "      <td>7.2500</td>\n",
       "      <td>NaN</td>\n",
       "      <td>S</td>\n",
       "      <td>male</td>\n",
       "      <td>0</td>\n",
       "      <td>no</td>\n",
       "      <td>0.0</td>\n",
       "    </tr>\n",
       "    <tr>\n",
       "      <th>1</th>\n",
       "      <td>2</td>\n",
       "      <td>1</td>\n",
       "      <td>1</td>\n",
       "      <td>Cumings, Mrs. John Bradley (Florence Briggs Th...</td>\n",
       "      <td>female</td>\n",
       "      <td>38.0</td>\n",
       "      <td>1</td>\n",
       "      <td>0</td>\n",
       "      <td>PC 17599</td>\n",
       "      <td>71.2833</td>\n",
       "      <td>C85</td>\n",
       "      <td>C</td>\n",
       "      <td>female</td>\n",
       "      <td>0</td>\n",
       "      <td>yes</td>\n",
       "      <td>0.0</td>\n",
       "    </tr>\n",
       "    <tr>\n",
       "      <th>2</th>\n",
       "      <td>3</td>\n",
       "      <td>1</td>\n",
       "      <td>3</td>\n",
       "      <td>Heikkinen, Miss. Laina</td>\n",
       "      <td>female</td>\n",
       "      <td>26.0</td>\n",
       "      <td>0</td>\n",
       "      <td>0</td>\n",
       "      <td>STON/O2. 3101282</td>\n",
       "      <td>7.9250</td>\n",
       "      <td>NaN</td>\n",
       "      <td>S</td>\n",
       "      <td>female</td>\n",
       "      <td>1</td>\n",
       "      <td>yes</td>\n",
       "      <td>0.0</td>\n",
       "    </tr>\n",
       "    <tr>\n",
       "      <th>3</th>\n",
       "      <td>4</td>\n",
       "      <td>1</td>\n",
       "      <td>1</td>\n",
       "      <td>Futrelle, Mrs. Jacques Heath (Lily May Peel)</td>\n",
       "      <td>female</td>\n",
       "      <td>35.0</td>\n",
       "      <td>1</td>\n",
       "      <td>0</td>\n",
       "      <td>113803</td>\n",
       "      <td>53.1000</td>\n",
       "      <td>C123</td>\n",
       "      <td>S</td>\n",
       "      <td>female</td>\n",
       "      <td>0</td>\n",
       "      <td>yes</td>\n",
       "      <td>0.0</td>\n",
       "    </tr>\n",
       "    <tr>\n",
       "      <th>4</th>\n",
       "      <td>5</td>\n",
       "      <td>0</td>\n",
       "      <td>3</td>\n",
       "      <td>Allen, Mr. William Henry</td>\n",
       "      <td>male</td>\n",
       "      <td>35.0</td>\n",
       "      <td>0</td>\n",
       "      <td>0</td>\n",
       "      <td>373450</td>\n",
       "      <td>8.0500</td>\n",
       "      <td>NaN</td>\n",
       "      <td>S</td>\n",
       "      <td>male</td>\n",
       "      <td>1</td>\n",
       "      <td>no</td>\n",
       "      <td>0.0</td>\n",
       "    </tr>\n",
       "  </tbody>\n",
       "</table>\n",
       "</div>"
      ],
      "text/plain": [
       "   PassengerId  Survived  Pclass  \\\n",
       "0            1         0       3   \n",
       "1            2         1       1   \n",
       "2            3         1       3   \n",
       "3            4         1       1   \n",
       "4            5         0       3   \n",
       "\n",
       "                                                Name     Sex   Age  SibSp  \\\n",
       "0                            Braund, Mr. Owen Harris    male  22.0      1   \n",
       "1  Cumings, Mrs. John Bradley (Florence Briggs Th...  female  38.0      1   \n",
       "2                             Heikkinen, Miss. Laina  female  26.0      0   \n",
       "3       Futrelle, Mrs. Jacques Heath (Lily May Peel)  female  35.0      1   \n",
       "4                           Allen, Mr. William Henry    male  35.0      0   \n",
       "\n",
       "   Parch            Ticket     Fare Cabin Embarked  person  Alone Survivor  \\\n",
       "0      0         A/5 21171   7.2500   NaN        S    male      0       no   \n",
       "1      0          PC 17599  71.2833   C85        C  female      0      yes   \n",
       "2      0  STON/O2. 3101282   7.9250   NaN        S  female      1      yes   \n",
       "3      0            113803  53.1000  C123        S  female      0      yes   \n",
       "4      0            373450   8.0500   NaN        S    male      1       no   \n",
       "\n",
       "   level  \n",
       "0    0.0  \n",
       "1    0.0  \n",
       "2    0.0  \n",
       "3    0.0  \n",
       "4    0.0  "
      ]
     },
     "execution_count": 63,
     "metadata": {},
     "output_type": "execute_result"
    }
   ],
   "source": [
    "titanic_df.head()"
   ]
  },
  {
   "cell_type": "code",
   "execution_count": 22,
   "metadata": {},
   "outputs": [],
   "source": [
    "y = titanic_df.pop('Survived')"
   ]
  },
  {
   "cell_type": "code",
   "execution_count": 105,
   "metadata": {},
   "outputs": [
    {
     "data": {
      "text/plain": [
       "0.3838383838383838"
      ]
     },
     "execution_count": 105,
     "metadata": {},
     "output_type": "execute_result"
    }
   ],
   "source": [
    "sum(y)/len(y)"
   ]
  },
  {
   "cell_type": "code",
   "execution_count": 23,
   "metadata": {},
   "outputs": [],
   "source": [
    "titanic_df.drop([\"Name\",\"Ticket\",\"Cabin\"], axis=1, inplace=True)"
   ]
  },
  {
   "cell_type": "code",
   "execution_count": 24,
   "metadata": {},
   "outputs": [],
   "source": [
    "titanic_df = pd.concat([titanic_df,pd.get_dummies(titanic_df[\"Embarked\"])], axis=1)"
   ]
  },
  {
   "cell_type": "code",
   "execution_count": 25,
   "metadata": {},
   "outputs": [],
   "source": [
    "titanic_df = pd.concat([titanic_df,pd.get_dummies(titanic_df[\"person\"])], axis=1)"
   ]
  },
  {
   "cell_type": "code",
   "execution_count": 85,
   "metadata": {},
   "outputs": [],
   "source": [
    "x_df = titanic_df.drop([\"Sex\",\"person\",\"Embarked\", \"PassengerId\"], axis=1)"
   ]
  },
  {
   "cell_type": "code",
   "execution_count": 86,
   "metadata": {},
   "outputs": [
    {
     "data": {
      "text/html": [
       "<div>\n",
       "<style scoped>\n",
       "    .dataframe tbody tr th:only-of-type {\n",
       "        vertical-align: middle;\n",
       "    }\n",
       "\n",
       "    .dataframe tbody tr th {\n",
       "        vertical-align: top;\n",
       "    }\n",
       "\n",
       "    .dataframe thead th {\n",
       "        text-align: right;\n",
       "    }\n",
       "</style>\n",
       "<table border=\"1\" class=\"dataframe\">\n",
       "  <thead>\n",
       "    <tr style=\"text-align: right;\">\n",
       "      <th></th>\n",
       "      <th>Pclass</th>\n",
       "      <th>Age</th>\n",
       "      <th>SibSp</th>\n",
       "      <th>Parch</th>\n",
       "      <th>Fare</th>\n",
       "      <th>C</th>\n",
       "      <th>Q</th>\n",
       "      <th>S</th>\n",
       "      <th>child</th>\n",
       "      <th>female</th>\n",
       "      <th>male</th>\n",
       "    </tr>\n",
       "  </thead>\n",
       "  <tbody>\n",
       "    <tr>\n",
       "      <th>0</th>\n",
       "      <td>3</td>\n",
       "      <td>22.0</td>\n",
       "      <td>1</td>\n",
       "      <td>0</td>\n",
       "      <td>7.2500</td>\n",
       "      <td>0</td>\n",
       "      <td>0</td>\n",
       "      <td>1</td>\n",
       "      <td>0</td>\n",
       "      <td>0</td>\n",
       "      <td>1</td>\n",
       "    </tr>\n",
       "    <tr>\n",
       "      <th>1</th>\n",
       "      <td>1</td>\n",
       "      <td>38.0</td>\n",
       "      <td>1</td>\n",
       "      <td>0</td>\n",
       "      <td>71.2833</td>\n",
       "      <td>1</td>\n",
       "      <td>0</td>\n",
       "      <td>0</td>\n",
       "      <td>0</td>\n",
       "      <td>1</td>\n",
       "      <td>0</td>\n",
       "    </tr>\n",
       "    <tr>\n",
       "      <th>2</th>\n",
       "      <td>3</td>\n",
       "      <td>26.0</td>\n",
       "      <td>0</td>\n",
       "      <td>0</td>\n",
       "      <td>7.9250</td>\n",
       "      <td>0</td>\n",
       "      <td>0</td>\n",
       "      <td>1</td>\n",
       "      <td>0</td>\n",
       "      <td>1</td>\n",
       "      <td>0</td>\n",
       "    </tr>\n",
       "    <tr>\n",
       "      <th>3</th>\n",
       "      <td>1</td>\n",
       "      <td>35.0</td>\n",
       "      <td>1</td>\n",
       "      <td>0</td>\n",
       "      <td>53.1000</td>\n",
       "      <td>0</td>\n",
       "      <td>0</td>\n",
       "      <td>1</td>\n",
       "      <td>0</td>\n",
       "      <td>1</td>\n",
       "      <td>0</td>\n",
       "    </tr>\n",
       "    <tr>\n",
       "      <th>4</th>\n",
       "      <td>3</td>\n",
       "      <td>35.0</td>\n",
       "      <td>0</td>\n",
       "      <td>0</td>\n",
       "      <td>8.0500</td>\n",
       "      <td>0</td>\n",
       "      <td>0</td>\n",
       "      <td>1</td>\n",
       "      <td>0</td>\n",
       "      <td>0</td>\n",
       "      <td>1</td>\n",
       "    </tr>\n",
       "  </tbody>\n",
       "</table>\n",
       "</div>"
      ],
      "text/plain": [
       "   Pclass   Age  SibSp  Parch     Fare  C  Q  S  child  female  male\n",
       "0       3  22.0      1      0   7.2500  0  0  1      0       0     1\n",
       "1       1  38.0      1      0  71.2833  1  0  0      0       1     0\n",
       "2       3  26.0      0      0   7.9250  0  0  1      0       1     0\n",
       "3       1  35.0      1      0  53.1000  0  0  1      0       1     0\n",
       "4       3  35.0      0      0   8.0500  0  0  1      0       0     1"
      ]
     },
     "execution_count": 86,
     "metadata": {},
     "output_type": "execute_result"
    }
   ],
   "source": [
    "x_df.head()"
   ]
  },
  {
   "cell_type": "code",
   "execution_count": 87,
   "metadata": {},
   "outputs": [
    {
     "name": "stdout",
     "output_type": "stream",
     "text": [
      "<class 'pandas.core.frame.DataFrame'>\n",
      "RangeIndex: 891 entries, 0 to 890\n",
      "Data columns (total 11 columns):\n",
      " #   Column  Non-Null Count  Dtype  \n",
      "---  ------  --------------  -----  \n",
      " 0   Pclass  891 non-null    int64  \n",
      " 1   Age     714 non-null    float64\n",
      " 2   SibSp   891 non-null    int64  \n",
      " 3   Parch   891 non-null    int64  \n",
      " 4   Fare    891 non-null    float64\n",
      " 5   C       891 non-null    uint8  \n",
      " 6   Q       891 non-null    uint8  \n",
      " 7   S       891 non-null    uint8  \n",
      " 8   child   891 non-null    uint8  \n",
      " 9   female  891 non-null    uint8  \n",
      " 10  male    891 non-null    uint8  \n",
      "dtypes: float64(2), int64(3), uint8(6)\n",
      "memory usage: 40.2 KB\n"
     ]
    }
   ],
   "source": [
    "x_df.info()"
   ]
  },
  {
   "cell_type": "code",
   "execution_count": 88,
   "metadata": {},
   "outputs": [],
   "source": [
    "x_df[\"Age\"] = x_df[\"Age\"].fillna(round(x_df[\"Age\"].mean()))"
   ]
  },
  {
   "cell_type": "code",
   "execution_count": 89,
   "metadata": {},
   "outputs": [],
   "source": [
    "x = x_df.values"
   ]
  },
  {
   "cell_type": "code",
   "execution_count": 90,
   "metadata": {},
   "outputs": [
    {
     "data": {
      "text/plain": [
       "(891, 11)"
      ]
     },
     "execution_count": 90,
     "metadata": {},
     "output_type": "execute_result"
    }
   ],
   "source": [
    "x.shape"
   ]
  },
  {
   "cell_type": "code",
   "execution_count": 91,
   "metadata": {},
   "outputs": [],
   "source": [
    "from sklearn.model_selection import train_test_split"
   ]
  },
  {
   "cell_type": "code",
   "execution_count": 92,
   "metadata": {},
   "outputs": [],
   "source": [
    "x_train, x_test, y_train, y_test = train_test_split(x,y, stratify=y)"
   ]
  },
  {
   "cell_type": "code",
   "execution_count": 34,
   "metadata": {},
   "outputs": [
    {
     "data": {
      "text/plain": [
       "(668, 12)"
      ]
     },
     "execution_count": 34,
     "metadata": {},
     "output_type": "execute_result"
    }
   ],
   "source": [
    "x_train.shape"
   ]
  },
  {
   "cell_type": "code",
   "execution_count": 35,
   "metadata": {},
   "outputs": [
    {
     "data": {
      "text/plain": [
       "(223, 12)"
      ]
     },
     "execution_count": 35,
     "metadata": {},
     "output_type": "execute_result"
    }
   ],
   "source": [
    "x_test.shape"
   ]
  },
  {
   "cell_type": "code",
   "execution_count": 36,
   "metadata": {},
   "outputs": [],
   "source": [
    "y_train = np.asarray(y_train)"
   ]
  },
  {
   "cell_type": "code",
   "execution_count": 37,
   "metadata": {},
   "outputs": [
    {
     "data": {
      "text/plain": [
       "(668,)"
      ]
     },
     "execution_count": 37,
     "metadata": {},
     "output_type": "execute_result"
    }
   ],
   "source": [
    "y_train.shape"
   ]
  },
  {
   "cell_type": "code",
   "execution_count": 38,
   "metadata": {},
   "outputs": [],
   "source": [
    "y_test = np.asarray(y_test)"
   ]
  },
  {
   "cell_type": "code",
   "execution_count": 169,
   "metadata": {},
   "outputs": [
    {
     "data": {
      "text/plain": [
       "array([[1, 0, 1, 0, 1, 0, 0, 0, 0, 0, 1, 0, 0, 1, 1, 0, 0, 1, 1, 0, 1, 1,\n",
       "        0, 1, 0, 1, 0, 0, 0, 1, 0, 0, 0, 0, 1, 0, 0, 1, 0, 0, 0, 0, 1, 0,\n",
       "        1, 1, 1, 0, 1, 0, 0, 0, 0, 0, 0, 0, 1, 0, 1, 0, 1, 0, 1, 0, 1, 1,\n",
       "        0, 0, 0, 0, 0, 0, 0, 1, 1, 0, 0, 1, 0, 1, 0, 0, 0, 0, 0, 1, 0, 0,\n",
       "        0, 1, 0, 0, 1, 0, 1, 0, 1, 0, 0, 1, 0, 1, 1, 1, 0, 0, 1, 0, 0, 0,\n",
       "        0, 0, 0, 1, 1, 0, 1, 0, 1, 0, 0, 0, 0, 0, 0, 1, 1, 0, 1, 1, 0, 1,\n",
       "        0, 1, 0, 1, 1, 0, 0, 0, 1, 0, 1, 0, 0, 0, 1, 0, 0, 1, 0, 0, 0, 0,\n",
       "        0, 1, 1, 0, 1, 0, 1, 0, 0, 1, 0, 0, 1, 1, 0, 1, 0, 1, 1, 0, 0, 0,\n",
       "        0, 0, 1, 1, 1, 0, 0, 0, 0, 1, 0, 0, 1, 0, 1, 0, 0, 0, 1, 0, 1, 1,\n",
       "        0, 0, 0, 1, 1, 1, 0, 0, 0, 1, 1, 1, 0, 1, 0, 0, 0, 1, 1, 0, 0, 0,\n",
       "        1, 1, 0]])"
      ]
     },
     "execution_count": 169,
     "metadata": {},
     "output_type": "execute_result"
    }
   ],
   "source": [
    "y_test.reshape(1,-1)"
   ]
  },
  {
   "cell_type": "code",
   "execution_count": 137,
   "metadata": {},
   "outputs": [],
   "source": [
    "from tensorflow.keras.layers import Input, Dense, Dropout, BatchNormalization\n",
    "from tensorflow.keras.optimizers import Adam\n",
    "from tensorflow.keras.models import Model\n",
    "from tensorflow.keras.backend import clear_session"
   ]
  },
  {
   "cell_type": "code",
   "execution_count": 141,
   "metadata": {},
   "outputs": [],
   "source": [
    "clear_session()\n",
    "inputs = Input((11,))\n",
    "x = BatchNormalization()(inputs)\n",
    "x = Dense(16, activation='tanh')(x)\n",
    "x = Dense(32, activation='relu')(x)\n",
    "# x = Dropout(0.1)(x)\n",
    "x = Dense(64, activation='relu')(x)\n",
    "# x = Dropout(0.1)(x)\n",
    "x = Dense(128, activation='relu')(x)\n",
    "x = Dropout(0.1)(x)\n",
    "x = Dense(256, activation='relu')(x)\n",
    "x = Dropout(0.1)(x)\n",
    "outputs = Dense(1, activation='sigmoid')(x)\n",
    "\n",
    "model = Model(inputs=inputs, outputs=outputs)\n",
    "optimizer = Adam(learning_rate=1e-4, decay=1e-5)\n",
    "model.compile(loss='binary_crossentropy', optimizer=optimizer, metrics=['accuracy'])"
   ]
  },
  {
   "cell_type": "code",
   "execution_count": 142,
   "metadata": {},
   "outputs": [
    {
     "name": "stdout",
     "output_type": "stream",
     "text": [
      "Model: \"functional_1\"\n",
      "_________________________________________________________________\n",
      "Layer (type)                 Output Shape              Param #   \n",
      "=================================================================\n",
      "input_1 (InputLayer)         [(None, 11)]              0         \n",
      "_________________________________________________________________\n",
      "batch_normalization (BatchNo (None, 11)                44        \n",
      "_________________________________________________________________\n",
      "dense (Dense)                (None, 16)                192       \n",
      "_________________________________________________________________\n",
      "dense_1 (Dense)              (None, 32)                544       \n",
      "_________________________________________________________________\n",
      "dense_2 (Dense)              (None, 64)                2112      \n",
      "_________________________________________________________________\n",
      "dense_3 (Dense)              (None, 128)               8320      \n",
      "_________________________________________________________________\n",
      "dropout (Dropout)            (None, 128)               0         \n",
      "_________________________________________________________________\n",
      "dense_4 (Dense)              (None, 256)               33024     \n",
      "_________________________________________________________________\n",
      "dropout_1 (Dropout)          (None, 256)               0         \n",
      "_________________________________________________________________\n",
      "dense_5 (Dense)              (None, 1)                 257       \n",
      "=================================================================\n",
      "Total params: 44,493\n",
      "Trainable params: 44,471\n",
      "Non-trainable params: 22\n",
      "_________________________________________________________________\n"
     ]
    }
   ],
   "source": [
    "model.summary()"
   ]
  },
  {
   "cell_type": "code",
   "execution_count": 148,
   "metadata": {
    "scrolled": true
   },
   "outputs": [
    {
     "name": "stdout",
     "output_type": "stream",
     "text": [
      "Epoch 1/500\n",
      "21/21 [==============================] - 0s 4ms/step - loss: 0.3435 - accuracy: 0.8668 - val_loss: 0.7369 - val_accuracy: 0.7623\n",
      "Epoch 2/500\n",
      "21/21 [==============================] - 0s 3ms/step - loss: 0.3584 - accuracy: 0.8368 - val_loss: 0.7088 - val_accuracy: 0.7623\n",
      "Epoch 3/500\n",
      "21/21 [==============================] - 0s 3ms/step - loss: 0.3525 - accuracy: 0.8608 - val_loss: 0.6466 - val_accuracy: 0.7713\n",
      "Epoch 4/500\n",
      "21/21 [==============================] - 0s 3ms/step - loss: 0.3451 - accuracy: 0.8548 - val_loss: 0.5848 - val_accuracy: 0.7758\n",
      "Epoch 5/500\n",
      "21/21 [==============================] - 0s 3ms/step - loss: 0.3470 - accuracy: 0.8428 - val_loss: 0.5522 - val_accuracy: 0.7848\n",
      "Epoch 6/500\n",
      "21/21 [==============================] - 0s 3ms/step - loss: 0.3406 - accuracy: 0.8578 - val_loss: 0.5160 - val_accuracy: 0.7848\n",
      "Epoch 7/500\n",
      "21/21 [==============================] - 0s 3ms/step - loss: 0.3633 - accuracy: 0.8428 - val_loss: 0.4957 - val_accuracy: 0.7803\n",
      "Epoch 8/500\n",
      "21/21 [==============================] - 0s 3ms/step - loss: 0.3736 - accuracy: 0.8353 - val_loss: 0.4658 - val_accuracy: 0.7803\n",
      "Epoch 9/500\n",
      "21/21 [==============================] - 0s 3ms/step - loss: 0.3412 - accuracy: 0.8458 - val_loss: 0.4692 - val_accuracy: 0.7758\n",
      "Epoch 10/500\n",
      "21/21 [==============================] - 0s 2ms/step - loss: 0.3408 - accuracy: 0.8608 - val_loss: 0.4555 - val_accuracy: 0.7848\n",
      "Epoch 11/500\n",
      "21/21 [==============================] - 0s 3ms/step - loss: 0.3322 - accuracy: 0.8653 - val_loss: 0.4540 - val_accuracy: 0.7758\n",
      "Epoch 12/500\n",
      "21/21 [==============================] - 0s 3ms/step - loss: 0.3353 - accuracy: 0.8503 - val_loss: 0.4489 - val_accuracy: 0.7758\n",
      "Epoch 13/500\n",
      "21/21 [==============================] - 0s 3ms/step - loss: 0.3484 - accuracy: 0.8503 - val_loss: 0.4490 - val_accuracy: 0.7848\n",
      "Epoch 14/500\n",
      "21/21 [==============================] - 0s 3ms/step - loss: 0.3514 - accuracy: 0.8608 - val_loss: 0.4381 - val_accuracy: 0.8027\n",
      "Epoch 15/500\n",
      "21/21 [==============================] - 0s 3ms/step - loss: 0.3445 - accuracy: 0.8518 - val_loss: 0.4402 - val_accuracy: 0.7892\n",
      "Epoch 16/500\n",
      "21/21 [==============================] - 0s 2ms/step - loss: 0.3423 - accuracy: 0.8533 - val_loss: 0.4382 - val_accuracy: 0.7982\n",
      "Epoch 17/500\n",
      "21/21 [==============================] - 0s 2ms/step - loss: 0.3353 - accuracy: 0.8578 - val_loss: 0.4359 - val_accuracy: 0.8072\n",
      "Epoch 18/500\n",
      "21/21 [==============================] - 0s 3ms/step - loss: 0.3455 - accuracy: 0.8413 - val_loss: 0.4386 - val_accuracy: 0.8117\n",
      "Epoch 19/500\n",
      "21/21 [==============================] - 0s 2ms/step - loss: 0.3326 - accuracy: 0.8623 - val_loss: 0.4398 - val_accuracy: 0.8251\n",
      "Epoch 20/500\n",
      "21/21 [==============================] - 0s 3ms/step - loss: 0.3520 - accuracy: 0.8518 - val_loss: 0.4374 - val_accuracy: 0.8206\n",
      "Epoch 21/500\n",
      "21/21 [==============================] - 0s 3ms/step - loss: 0.3457 - accuracy: 0.8533 - val_loss: 0.4407 - val_accuracy: 0.8251\n",
      "Epoch 22/500\n",
      "21/21 [==============================] - 0s 3ms/step - loss: 0.3598 - accuracy: 0.8533 - val_loss: 0.4405 - val_accuracy: 0.8296\n",
      "Epoch 23/500\n",
      "21/21 [==============================] - 0s 3ms/step - loss: 0.3390 - accuracy: 0.8473 - val_loss: 0.4394 - val_accuracy: 0.8341\n",
      "Epoch 24/500\n",
      "21/21 [==============================] - 0s 3ms/step - loss: 0.3398 - accuracy: 0.8563 - val_loss: 0.4384 - val_accuracy: 0.8251\n",
      "Epoch 25/500\n",
      "21/21 [==============================] - 0s 3ms/step - loss: 0.3317 - accuracy: 0.8518 - val_loss: 0.4431 - val_accuracy: 0.8251\n",
      "Epoch 26/500\n",
      "21/21 [==============================] - 0s 3ms/step - loss: 0.3356 - accuracy: 0.8668 - val_loss: 0.4466 - val_accuracy: 0.8341\n",
      "Epoch 27/500\n",
      "21/21 [==============================] - 0s 3ms/step - loss: 0.3510 - accuracy: 0.8518 - val_loss: 0.4447 - val_accuracy: 0.8386\n",
      "Epoch 28/500\n",
      "21/21 [==============================] - 0s 3ms/step - loss: 0.3755 - accuracy: 0.8398 - val_loss: 0.4428 - val_accuracy: 0.8296\n",
      "Epoch 29/500\n",
      "21/21 [==============================] - 0s 3ms/step - loss: 0.3337 - accuracy: 0.8653 - val_loss: 0.4433 - val_accuracy: 0.8251\n",
      "Epoch 30/500\n",
      "21/21 [==============================] - 0s 3ms/step - loss: 0.3451 - accuracy: 0.8473 - val_loss: 0.4411 - val_accuracy: 0.8386\n",
      "Epoch 31/500\n",
      "21/21 [==============================] - 0s 3ms/step - loss: 0.3390 - accuracy: 0.8623 - val_loss: 0.4405 - val_accuracy: 0.8296\n",
      "Epoch 32/500\n",
      "21/21 [==============================] - 0s 3ms/step - loss: 0.3620 - accuracy: 0.8383 - val_loss: 0.4393 - val_accuracy: 0.8296\n",
      "Epoch 33/500\n",
      "21/21 [==============================] - 0s 3ms/step - loss: 0.3514 - accuracy: 0.8578 - val_loss: 0.4348 - val_accuracy: 0.8386\n",
      "Epoch 34/500\n",
      "21/21 [==============================] - 0s 3ms/step - loss: 0.3467 - accuracy: 0.8503 - val_loss: 0.4355 - val_accuracy: 0.8430\n",
      "Epoch 35/500\n",
      "21/21 [==============================] - 0s 3ms/step - loss: 0.3359 - accuracy: 0.8533 - val_loss: 0.4373 - val_accuracy: 0.8430\n",
      "Epoch 36/500\n",
      "21/21 [==============================] - 0s 3ms/step - loss: 0.3432 - accuracy: 0.8488 - val_loss: 0.4358 - val_accuracy: 0.8430\n",
      "Epoch 37/500\n",
      "21/21 [==============================] - 0s 3ms/step - loss: 0.3455 - accuracy: 0.8533 - val_loss: 0.4345 - val_accuracy: 0.8430\n",
      "Epoch 38/500\n",
      "21/21 [==============================] - 0s 3ms/step - loss: 0.3428 - accuracy: 0.8563 - val_loss: 0.4328 - val_accuracy: 0.8475\n",
      "Epoch 39/500\n",
      "21/21 [==============================] - 0s 3ms/step - loss: 0.3443 - accuracy: 0.8638 - val_loss: 0.4343 - val_accuracy: 0.8520\n",
      "Epoch 40/500\n",
      "21/21 [==============================] - 0s 3ms/step - loss: 0.3455 - accuracy: 0.8578 - val_loss: 0.4341 - val_accuracy: 0.8475\n",
      "Epoch 41/500\n",
      "21/21 [==============================] - 0s 3ms/step - loss: 0.3417 - accuracy: 0.8473 - val_loss: 0.4349 - val_accuracy: 0.8520\n",
      "Epoch 42/500\n",
      "21/21 [==============================] - 0s 3ms/step - loss: 0.3357 - accuracy: 0.8473 - val_loss: 0.4336 - val_accuracy: 0.8520\n",
      "Epoch 43/500\n",
      "21/21 [==============================] - 0s 3ms/step - loss: 0.3259 - accuracy: 0.8563 - val_loss: 0.4363 - val_accuracy: 0.8520\n",
      "Epoch 44/500\n",
      "21/21 [==============================] - 0s 3ms/step - loss: 0.3502 - accuracy: 0.8428 - val_loss: 0.4375 - val_accuracy: 0.8430\n",
      "Epoch 45/500\n",
      "21/21 [==============================] - 0s 3ms/step - loss: 0.3358 - accuracy: 0.8638 - val_loss: 0.4376 - val_accuracy: 0.8475\n",
      "Epoch 46/500\n",
      "21/21 [==============================] - 0s 3ms/step - loss: 0.3320 - accuracy: 0.8698 - val_loss: 0.4409 - val_accuracy: 0.8475\n",
      "Epoch 47/500\n",
      "21/21 [==============================] - 0s 3ms/step - loss: 0.3314 - accuracy: 0.8578 - val_loss: 0.4400 - val_accuracy: 0.8475\n",
      "Epoch 48/500\n",
      "21/21 [==============================] - 0s 3ms/step - loss: 0.3365 - accuracy: 0.8458 - val_loss: 0.4379 - val_accuracy: 0.8520\n",
      "Epoch 49/500\n",
      "21/21 [==============================] - 0s 3ms/step - loss: 0.3389 - accuracy: 0.8503 - val_loss: 0.4392 - val_accuracy: 0.8475\n",
      "Epoch 50/500\n",
      "21/21 [==============================] - 0s 3ms/step - loss: 0.3390 - accuracy: 0.8533 - val_loss: 0.4402 - val_accuracy: 0.8430\n",
      "Epoch 51/500\n",
      "21/21 [==============================] - 0s 3ms/step - loss: 0.3282 - accuracy: 0.8563 - val_loss: 0.4395 - val_accuracy: 0.8565\n",
      "Epoch 52/500\n",
      "21/21 [==============================] - 0s 3ms/step - loss: 0.3570 - accuracy: 0.8368 - val_loss: 0.4374 - val_accuracy: 0.8475\n",
      "Epoch 53/500\n",
      "21/21 [==============================] - 0s 2ms/step - loss: 0.3403 - accuracy: 0.8593 - val_loss: 0.4396 - val_accuracy: 0.8475\n",
      "Epoch 54/500\n",
      "21/21 [==============================] - 0s 3ms/step - loss: 0.3367 - accuracy: 0.8683 - val_loss: 0.4391 - val_accuracy: 0.8520\n",
      "Epoch 55/500\n",
      "21/21 [==============================] - 0s 3ms/step - loss: 0.3575 - accuracy: 0.8443 - val_loss: 0.4407 - val_accuracy: 0.8475\n",
      "Epoch 56/500\n",
      "21/21 [==============================] - 0s 4ms/step - loss: 0.3344 - accuracy: 0.8623 - val_loss: 0.4403 - val_accuracy: 0.8475\n",
      "Epoch 57/500\n",
      "21/21 [==============================] - 0s 3ms/step - loss: 0.3424 - accuracy: 0.8593 - val_loss: 0.4404 - val_accuracy: 0.8520\n",
      "Epoch 58/500\n",
      "21/21 [==============================] - 0s 3ms/step - loss: 0.3302 - accuracy: 0.8638 - val_loss: 0.4409 - val_accuracy: 0.8475\n"
     ]
    },
    {
     "name": "stdout",
     "output_type": "stream",
     "text": [
      "Epoch 59/500\n",
      "21/21 [==============================] - 0s 3ms/step - loss: 0.3602 - accuracy: 0.8458 - val_loss: 0.4395 - val_accuracy: 0.8475\n",
      "Epoch 60/500\n",
      "21/21 [==============================] - 0s 3ms/step - loss: 0.3414 - accuracy: 0.8473 - val_loss: 0.4407 - val_accuracy: 0.8430\n",
      "Epoch 61/500\n",
      "21/21 [==============================] - 0s 3ms/step - loss: 0.3495 - accuracy: 0.8608 - val_loss: 0.4390 - val_accuracy: 0.8520\n",
      "Epoch 62/500\n",
      "21/21 [==============================] - 0s 3ms/step - loss: 0.3619 - accuracy: 0.8473 - val_loss: 0.4411 - val_accuracy: 0.8386\n",
      "Epoch 63/500\n",
      "21/21 [==============================] - 0s 3ms/step - loss: 0.3483 - accuracy: 0.8563 - val_loss: 0.4390 - val_accuracy: 0.8430\n",
      "Epoch 64/500\n",
      "21/21 [==============================] - 0s 3ms/step - loss: 0.3647 - accuracy: 0.8533 - val_loss: 0.4359 - val_accuracy: 0.8520\n",
      "Epoch 65/500\n",
      "21/21 [==============================] - 0s 3ms/step - loss: 0.3175 - accuracy: 0.8563 - val_loss: 0.4379 - val_accuracy: 0.8475\n",
      "Epoch 66/500\n",
      "21/21 [==============================] - 0s 3ms/step - loss: 0.3586 - accuracy: 0.8428 - val_loss: 0.4392 - val_accuracy: 0.8520\n",
      "Epoch 67/500\n",
      "21/21 [==============================] - 0s 2ms/step - loss: 0.3592 - accuracy: 0.8338 - val_loss: 0.4388 - val_accuracy: 0.8475\n",
      "Epoch 68/500\n",
      "21/21 [==============================] - 0s 3ms/step - loss: 0.3437 - accuracy: 0.8503 - val_loss: 0.4403 - val_accuracy: 0.8520\n",
      "Epoch 69/500\n",
      "21/21 [==============================] - 0s 3ms/step - loss: 0.3443 - accuracy: 0.8518 - val_loss: 0.4388 - val_accuracy: 0.8520\n",
      "Epoch 70/500\n",
      "21/21 [==============================] - 0s 3ms/step - loss: 0.3393 - accuracy: 0.8698 - val_loss: 0.4400 - val_accuracy: 0.8565\n",
      "Epoch 71/500\n",
      "21/21 [==============================] - 0s 3ms/step - loss: 0.3397 - accuracy: 0.8578 - val_loss: 0.4400 - val_accuracy: 0.8520\n",
      "Epoch 72/500\n",
      "21/21 [==============================] - 0s 3ms/step - loss: 0.3381 - accuracy: 0.8563 - val_loss: 0.4410 - val_accuracy: 0.8430\n",
      "Epoch 73/500\n",
      "21/21 [==============================] - 0s 3ms/step - loss: 0.3518 - accuracy: 0.8503 - val_loss: 0.4392 - val_accuracy: 0.8475\n",
      "Epoch 74/500\n",
      "21/21 [==============================] - 0s 3ms/step - loss: 0.3392 - accuracy: 0.8623 - val_loss: 0.4392 - val_accuracy: 0.8520\n",
      "Epoch 75/500\n",
      "21/21 [==============================] - 0s 3ms/step - loss: 0.3360 - accuracy: 0.8548 - val_loss: 0.4403 - val_accuracy: 0.8475\n",
      "Epoch 76/500\n",
      "21/21 [==============================] - 0s 3ms/step - loss: 0.3515 - accuracy: 0.8443 - val_loss: 0.4416 - val_accuracy: 0.8475\n",
      "Epoch 77/500\n",
      "21/21 [==============================] - 0s 3ms/step - loss: 0.3302 - accuracy: 0.8503 - val_loss: 0.4418 - val_accuracy: 0.8386\n",
      "Epoch 78/500\n",
      "21/21 [==============================] - 0s 3ms/step - loss: 0.3331 - accuracy: 0.8563 - val_loss: 0.4416 - val_accuracy: 0.8430\n",
      "Epoch 79/500\n",
      "21/21 [==============================] - 0s 3ms/step - loss: 0.3244 - accuracy: 0.8548 - val_loss: 0.4415 - val_accuracy: 0.8475\n",
      "Epoch 80/500\n",
      "21/21 [==============================] - 0s 3ms/step - loss: 0.3289 - accuracy: 0.8668 - val_loss: 0.4420 - val_accuracy: 0.8430\n",
      "Epoch 81/500\n",
      "21/21 [==============================] - 0s 3ms/step - loss: 0.3421 - accuracy: 0.8608 - val_loss: 0.4431 - val_accuracy: 0.8430\n",
      "Epoch 82/500\n",
      "21/21 [==============================] - 0s 3ms/step - loss: 0.3290 - accuracy: 0.8623 - val_loss: 0.4422 - val_accuracy: 0.8430\n",
      "Epoch 83/500\n",
      "21/21 [==============================] - 0s 3ms/step - loss: 0.3310 - accuracy: 0.8578 - val_loss: 0.4412 - val_accuracy: 0.8430\n",
      "Epoch 84/500\n",
      "21/21 [==============================] - 0s 3ms/step - loss: 0.3426 - accuracy: 0.8503 - val_loss: 0.4409 - val_accuracy: 0.8475\n",
      "Epoch 85/500\n",
      "21/21 [==============================] - 0s 2ms/step - loss: 0.3274 - accuracy: 0.8608 - val_loss: 0.4400 - val_accuracy: 0.8475\n",
      "Epoch 86/500\n",
      "21/21 [==============================] - 0s 3ms/step - loss: 0.3448 - accuracy: 0.8518 - val_loss: 0.4388 - val_accuracy: 0.8475\n",
      "Epoch 87/500\n",
      "21/21 [==============================] - 0s 3ms/step - loss: 0.3349 - accuracy: 0.8593 - val_loss: 0.4379 - val_accuracy: 0.8520\n",
      "Epoch 88/500\n",
      "21/21 [==============================] - 0s 3ms/step - loss: 0.3443 - accuracy: 0.8563 - val_loss: 0.4397 - val_accuracy: 0.8475\n",
      "Epoch 89/500\n",
      "21/21 [==============================] - 0s 3ms/step - loss: 0.3256 - accuracy: 0.8608 - val_loss: 0.4412 - val_accuracy: 0.8475\n",
      "Epoch 90/500\n",
      "21/21 [==============================] - 0s 3ms/step - loss: 0.3283 - accuracy: 0.8578 - val_loss: 0.4395 - val_accuracy: 0.8475\n",
      "Epoch 91/500\n",
      "21/21 [==============================] - 0s 3ms/step - loss: 0.3590 - accuracy: 0.8578 - val_loss: 0.4394 - val_accuracy: 0.8520\n",
      "Epoch 92/500\n",
      "21/21 [==============================] - 0s 2ms/step - loss: 0.3320 - accuracy: 0.8593 - val_loss: 0.4390 - val_accuracy: 0.8430\n",
      "Epoch 93/500\n",
      "21/21 [==============================] - 0s 2ms/step - loss: 0.3475 - accuracy: 0.8473 - val_loss: 0.4382 - val_accuracy: 0.8520\n",
      "Epoch 94/500\n",
      "21/21 [==============================] - 0s 3ms/step - loss: 0.3453 - accuracy: 0.8473 - val_loss: 0.4405 - val_accuracy: 0.8430\n",
      "Epoch 95/500\n",
      "21/21 [==============================] - 0s 3ms/step - loss: 0.3261 - accuracy: 0.8533 - val_loss: 0.4425 - val_accuracy: 0.8520\n",
      "Epoch 96/500\n",
      "21/21 [==============================] - 0s 3ms/step - loss: 0.3456 - accuracy: 0.8533 - val_loss: 0.4404 - val_accuracy: 0.8520\n",
      "Epoch 97/500\n",
      "21/21 [==============================] - 0s 3ms/step - loss: 0.3568 - accuracy: 0.8383 - val_loss: 0.4393 - val_accuracy: 0.8475\n",
      "Epoch 98/500\n",
      "21/21 [==============================] - 0s 3ms/step - loss: 0.3508 - accuracy: 0.8353 - val_loss: 0.4374 - val_accuracy: 0.8520\n",
      "Epoch 99/500\n",
      "21/21 [==============================] - 0s 2ms/step - loss: 0.3398 - accuracy: 0.8548 - val_loss: 0.4360 - val_accuracy: 0.8475\n",
      "Epoch 100/500\n",
      "21/21 [==============================] - 0s 2ms/step - loss: 0.3422 - accuracy: 0.8623 - val_loss: 0.4355 - val_accuracy: 0.8475\n",
      "Epoch 101/500\n",
      "21/21 [==============================] - 0s 3ms/step - loss: 0.3293 - accuracy: 0.8683 - val_loss: 0.4362 - val_accuracy: 0.8475\n",
      "Epoch 102/500\n",
      "21/21 [==============================] - 0s 3ms/step - loss: 0.3524 - accuracy: 0.8518 - val_loss: 0.4390 - val_accuracy: 0.8520\n",
      "Epoch 103/500\n",
      "21/21 [==============================] - 0s 3ms/step - loss: 0.3347 - accuracy: 0.8698 - val_loss: 0.4391 - val_accuracy: 0.8520\n",
      "Epoch 104/500\n",
      "21/21 [==============================] - 0s 3ms/step - loss: 0.3253 - accuracy: 0.8548 - val_loss: 0.4400 - val_accuracy: 0.8430\n",
      "Epoch 105/500\n",
      "21/21 [==============================] - 0s 3ms/step - loss: 0.3406 - accuracy: 0.8518 - val_loss: 0.4388 - val_accuracy: 0.8565\n",
      "Epoch 106/500\n",
      "21/21 [==============================] - 0s 3ms/step - loss: 0.3346 - accuracy: 0.8443 - val_loss: 0.4387 - val_accuracy: 0.8475\n",
      "Epoch 107/500\n",
      "21/21 [==============================] - 0s 3ms/step - loss: 0.3489 - accuracy: 0.8488 - val_loss: 0.4380 - val_accuracy: 0.8520\n",
      "Epoch 108/500\n",
      "21/21 [==============================] - 0s 2ms/step - loss: 0.3408 - accuracy: 0.8578 - val_loss: 0.4384 - val_accuracy: 0.8430\n",
      "Epoch 109/500\n",
      "21/21 [==============================] - 0s 3ms/step - loss: 0.3376 - accuracy: 0.8533 - val_loss: 0.4381 - val_accuracy: 0.8520\n",
      "Epoch 110/500\n",
      "21/21 [==============================] - 0s 3ms/step - loss: 0.3433 - accuracy: 0.8593 - val_loss: 0.4382 - val_accuracy: 0.8475\n",
      "Epoch 111/500\n",
      "21/21 [==============================] - 0s 3ms/step - loss: 0.3403 - accuracy: 0.8683 - val_loss: 0.4397 - val_accuracy: 0.8430\n",
      "Epoch 112/500\n",
      "21/21 [==============================] - 0s 3ms/step - loss: 0.3420 - accuracy: 0.8638 - val_loss: 0.4397 - val_accuracy: 0.8475\n",
      "Epoch 113/500\n",
      "21/21 [==============================] - 0s 3ms/step - loss: 0.3381 - accuracy: 0.8638 - val_loss: 0.4387 - val_accuracy: 0.8475\n",
      "Epoch 114/500\n",
      "21/21 [==============================] - 0s 3ms/step - loss: 0.3257 - accuracy: 0.8578 - val_loss: 0.4383 - val_accuracy: 0.8475\n",
      "Epoch 115/500\n",
      "21/21 [==============================] - 0s 3ms/step - loss: 0.3486 - accuracy: 0.8518 - val_loss: 0.4386 - val_accuracy: 0.8475\n",
      "Epoch 116/500\n",
      "21/21 [==============================] - 0s 3ms/step - loss: 0.3390 - accuracy: 0.8503 - val_loss: 0.4384 - val_accuracy: 0.8475\n",
      "Epoch 117/500\n",
      "21/21 [==============================] - 0s 3ms/step - loss: 0.3266 - accuracy: 0.8653 - val_loss: 0.4384 - val_accuracy: 0.8430\n",
      "Epoch 118/500\n",
      "21/21 [==============================] - 0s 3ms/step - loss: 0.3518 - accuracy: 0.8458 - val_loss: 0.4383 - val_accuracy: 0.8475\n",
      "Epoch 119/500\n",
      "21/21 [==============================] - 0s 3ms/step - loss: 0.3275 - accuracy: 0.8638 - val_loss: 0.4380 - val_accuracy: 0.8475\n",
      "Epoch 120/500\n",
      "21/21 [==============================] - 0s 3ms/step - loss: 0.3275 - accuracy: 0.8653 - val_loss: 0.4384 - val_accuracy: 0.8475\n",
      "Epoch 121/500\n",
      "21/21 [==============================] - 0s 3ms/step - loss: 0.3464 - accuracy: 0.8353 - val_loss: 0.4396 - val_accuracy: 0.8430\n",
      "Epoch 122/500\n",
      "21/21 [==============================] - 0s 3ms/step - loss: 0.3578 - accuracy: 0.8458 - val_loss: 0.4415 - val_accuracy: 0.8430\n",
      "Epoch 123/500\n",
      "21/21 [==============================] - 0s 3ms/step - loss: 0.3405 - accuracy: 0.8443 - val_loss: 0.4399 - val_accuracy: 0.8475\n",
      "Epoch 124/500\n",
      "21/21 [==============================] - 0s 3ms/step - loss: 0.3354 - accuracy: 0.8548 - val_loss: 0.4388 - val_accuracy: 0.8520\n",
      "Epoch 125/500\n",
      "21/21 [==============================] - 0s 3ms/step - loss: 0.3443 - accuracy: 0.8443 - val_loss: 0.4405 - val_accuracy: 0.8430\n",
      "Epoch 126/500\n",
      "21/21 [==============================] - 0s 3ms/step - loss: 0.3388 - accuracy: 0.8458 - val_loss: 0.4394 - val_accuracy: 0.8520\n",
      "Epoch 127/500\n",
      "21/21 [==============================] - 0s 3ms/step - loss: 0.3317 - accuracy: 0.8533 - val_loss: 0.4432 - val_accuracy: 0.8475\n",
      "Epoch 128/500\n",
      "21/21 [==============================] - 0s 2ms/step - loss: 0.3304 - accuracy: 0.8578 - val_loss: 0.4427 - val_accuracy: 0.8520\n",
      "Epoch 129/500\n",
      "21/21 [==============================] - 0s 3ms/step - loss: 0.3416 - accuracy: 0.8413 - val_loss: 0.4400 - val_accuracy: 0.8475\n",
      "Epoch 130/500\n",
      "21/21 [==============================] - 0s 3ms/step - loss: 0.3411 - accuracy: 0.8548 - val_loss: 0.4402 - val_accuracy: 0.8520\n",
      "Epoch 131/500\n",
      "21/21 [==============================] - 0s 3ms/step - loss: 0.3439 - accuracy: 0.8473 - val_loss: 0.4406 - val_accuracy: 0.8520\n",
      "Epoch 132/500\n",
      "21/21 [==============================] - 0s 3ms/step - loss: 0.3456 - accuracy: 0.8578 - val_loss: 0.4379 - val_accuracy: 0.8520\n",
      "Epoch 133/500\n",
      "21/21 [==============================] - 0s 3ms/step - loss: 0.3508 - accuracy: 0.8518 - val_loss: 0.4394 - val_accuracy: 0.8475\n",
      "Epoch 134/500\n",
      "21/21 [==============================] - 0s 3ms/step - loss: 0.3456 - accuracy: 0.8578 - val_loss: 0.4408 - val_accuracy: 0.8520\n",
      "Epoch 135/500\n",
      "21/21 [==============================] - 0s 3ms/step - loss: 0.3376 - accuracy: 0.8428 - val_loss: 0.4393 - val_accuracy: 0.8520\n",
      "Epoch 136/500\n",
      "21/21 [==============================] - 0s 3ms/step - loss: 0.3259 - accuracy: 0.8533 - val_loss: 0.4385 - val_accuracy: 0.8475\n",
      "Epoch 137/500\n",
      "21/21 [==============================] - 0s 2ms/step - loss: 0.3493 - accuracy: 0.8518 - val_loss: 0.4389 - val_accuracy: 0.8520\n",
      "Epoch 138/500\n",
      "21/21 [==============================] - 0s 3ms/step - loss: 0.3301 - accuracy: 0.8623 - val_loss: 0.4389 - val_accuracy: 0.8520\n",
      "Epoch 139/500\n",
      "21/21 [==============================] - 0s 3ms/step - loss: 0.3399 - accuracy: 0.8503 - val_loss: 0.4377 - val_accuracy: 0.8430\n",
      "Epoch 140/500\n",
      "21/21 [==============================] - 0s 3ms/step - loss: 0.3309 - accuracy: 0.8638 - val_loss: 0.4389 - val_accuracy: 0.8475\n",
      "Epoch 141/500\n",
      "21/21 [==============================] - 0s 3ms/step - loss: 0.3374 - accuracy: 0.8503 - val_loss: 0.4392 - val_accuracy: 0.8430\n",
      "Epoch 142/500\n",
      "21/21 [==============================] - 0s 3ms/step - loss: 0.3431 - accuracy: 0.8668 - val_loss: 0.4392 - val_accuracy: 0.8520\n",
      "Epoch 143/500\n",
      "21/21 [==============================] - 0s 3ms/step - loss: 0.3469 - accuracy: 0.8383 - val_loss: 0.4392 - val_accuracy: 0.8475\n",
      "Epoch 144/500\n",
      "21/21 [==============================] - 0s 2ms/step - loss: 0.3597 - accuracy: 0.8548 - val_loss: 0.4376 - val_accuracy: 0.8475\n",
      "Epoch 145/500\n",
      "21/21 [==============================] - 0s 3ms/step - loss: 0.3349 - accuracy: 0.8653 - val_loss: 0.4366 - val_accuracy: 0.8430\n",
      "Epoch 146/500\n",
      "21/21 [==============================] - 0s 3ms/step - loss: 0.3388 - accuracy: 0.8488 - val_loss: 0.4385 - val_accuracy: 0.8520\n",
      "Epoch 147/500\n",
      "21/21 [==============================] - 0s 3ms/step - loss: 0.3424 - accuracy: 0.8578 - val_loss: 0.4396 - val_accuracy: 0.8475\n",
      "Epoch 148/500\n",
      "21/21 [==============================] - 0s 3ms/step - loss: 0.3343 - accuracy: 0.8668 - val_loss: 0.4391 - val_accuracy: 0.8520\n",
      "Epoch 149/500\n",
      "21/21 [==============================] - 0s 3ms/step - loss: 0.3260 - accuracy: 0.8593 - val_loss: 0.4388 - val_accuracy: 0.8475\n",
      "Epoch 150/500\n",
      "21/21 [==============================] - 0s 3ms/step - loss: 0.3134 - accuracy: 0.8698 - val_loss: 0.4409 - val_accuracy: 0.8475\n",
      "Epoch 151/500\n",
      "21/21 [==============================] - 0s 3ms/step - loss: 0.3191 - accuracy: 0.8668 - val_loss: 0.4420 - val_accuracy: 0.8475\n",
      "Epoch 152/500\n",
      "21/21 [==============================] - 0s 3ms/step - loss: 0.3285 - accuracy: 0.8608 - val_loss: 0.4416 - val_accuracy: 0.8475\n",
      "Epoch 153/500\n",
      "21/21 [==============================] - 0s 3ms/step - loss: 0.3447 - accuracy: 0.8473 - val_loss: 0.4427 - val_accuracy: 0.8475\n",
      "Epoch 154/500\n",
      "21/21 [==============================] - 0s 3ms/step - loss: 0.3337 - accuracy: 0.8563 - val_loss: 0.4429 - val_accuracy: 0.8520\n",
      "Epoch 155/500\n",
      "21/21 [==============================] - 0s 3ms/step - loss: 0.3332 - accuracy: 0.8653 - val_loss: 0.4416 - val_accuracy: 0.8520\n",
      "Epoch 156/500\n",
      "21/21 [==============================] - 0s 3ms/step - loss: 0.3396 - accuracy: 0.8548 - val_loss: 0.4414 - val_accuracy: 0.8565\n",
      "Epoch 157/500\n",
      "21/21 [==============================] - 0s 3ms/step - loss: 0.3481 - accuracy: 0.8578 - val_loss: 0.4416 - val_accuracy: 0.8520\n",
      "Epoch 158/500\n",
      "21/21 [==============================] - 0s 3ms/step - loss: 0.3370 - accuracy: 0.8563 - val_loss: 0.4407 - val_accuracy: 0.8520\n",
      "Epoch 159/500\n",
      "21/21 [==============================] - 0s 2ms/step - loss: 0.3317 - accuracy: 0.8668 - val_loss: 0.4412 - val_accuracy: 0.8475\n",
      "Epoch 160/500\n",
      "21/21 [==============================] - 0s 3ms/step - loss: 0.3307 - accuracy: 0.8563 - val_loss: 0.4435 - val_accuracy: 0.8430\n",
      "Epoch 161/500\n",
      "21/21 [==============================] - 0s 3ms/step - loss: 0.3284 - accuracy: 0.8578 - val_loss: 0.4431 - val_accuracy: 0.8520\n",
      "Epoch 162/500\n",
      "21/21 [==============================] - 0s 3ms/step - loss: 0.3410 - accuracy: 0.8398 - val_loss: 0.4423 - val_accuracy: 0.8520\n",
      "Epoch 163/500\n",
      "21/21 [==============================] - 0s 3ms/step - loss: 0.3311 - accuracy: 0.8608 - val_loss: 0.4422 - val_accuracy: 0.8520\n",
      "Epoch 164/500\n",
      "21/21 [==============================] - 0s 3ms/step - loss: 0.3443 - accuracy: 0.8563 - val_loss: 0.4423 - val_accuracy: 0.8520\n",
      "Epoch 165/500\n",
      "21/21 [==============================] - 0s 3ms/step - loss: 0.3370 - accuracy: 0.8578 - val_loss: 0.4433 - val_accuracy: 0.8475\n",
      "Epoch 166/500\n",
      "21/21 [==============================] - 0s 2ms/step - loss: 0.3356 - accuracy: 0.8638 - val_loss: 0.4462 - val_accuracy: 0.8430\n",
      "Epoch 167/500\n",
      "21/21 [==============================] - 0s 2ms/step - loss: 0.3266 - accuracy: 0.8653 - val_loss: 0.4429 - val_accuracy: 0.8475\n",
      "Epoch 168/500\n",
      "21/21 [==============================] - 0s 3ms/step - loss: 0.3339 - accuracy: 0.8593 - val_loss: 0.4418 - val_accuracy: 0.8430\n",
      "Epoch 169/500\n",
      "21/21 [==============================] - 0s 3ms/step - loss: 0.3389 - accuracy: 0.8458 - val_loss: 0.4436 - val_accuracy: 0.8430\n",
      "Epoch 170/500\n",
      "21/21 [==============================] - 0s 3ms/step - loss: 0.3429 - accuracy: 0.8443 - val_loss: 0.4447 - val_accuracy: 0.8565\n",
      "Epoch 171/500\n",
      "21/21 [==============================] - 0s 3ms/step - loss: 0.3336 - accuracy: 0.8473 - val_loss: 0.4456 - val_accuracy: 0.8430\n",
      "Epoch 172/500\n",
      "21/21 [==============================] - 0s 3ms/step - loss: 0.3378 - accuracy: 0.8623 - val_loss: 0.4454 - val_accuracy: 0.8565\n",
      "Epoch 173/500\n"
     ]
    },
    {
     "name": "stdout",
     "output_type": "stream",
     "text": [
      "21/21 [==============================] - 0s 2ms/step - loss: 0.3348 - accuracy: 0.8578 - val_loss: 0.4460 - val_accuracy: 0.8430\n",
      "Epoch 174/500\n",
      "21/21 [==============================] - 0s 2ms/step - loss: 0.3402 - accuracy: 0.8593 - val_loss: 0.4462 - val_accuracy: 0.8475\n",
      "Epoch 175/500\n",
      "21/21 [==============================] - 0s 3ms/step - loss: 0.3258 - accuracy: 0.8473 - val_loss: 0.4476 - val_accuracy: 0.8475\n",
      "Epoch 176/500\n",
      "21/21 [==============================] - 0s 2ms/step - loss: 0.3392 - accuracy: 0.8563 - val_loss: 0.4465 - val_accuracy: 0.8475\n",
      "Epoch 177/500\n",
      "21/21 [==============================] - 0s 3ms/step - loss: 0.3470 - accuracy: 0.8353 - val_loss: 0.4474 - val_accuracy: 0.8520\n",
      "Epoch 178/500\n",
      "21/21 [==============================] - 0s 3ms/step - loss: 0.3268 - accuracy: 0.8503 - val_loss: 0.4489 - val_accuracy: 0.8430\n",
      "Epoch 179/500\n",
      "21/21 [==============================] - 0s 3ms/step - loss: 0.3419 - accuracy: 0.8458 - val_loss: 0.4486 - val_accuracy: 0.8386\n",
      "Epoch 180/500\n",
      "21/21 [==============================] - 0s 3ms/step - loss: 0.3387 - accuracy: 0.8413 - val_loss: 0.4518 - val_accuracy: 0.8430\n",
      "Epoch 181/500\n",
      "21/21 [==============================] - 0s 3ms/step - loss: 0.3280 - accuracy: 0.8668 - val_loss: 0.4503 - val_accuracy: 0.8430\n",
      "Epoch 182/500\n",
      "21/21 [==============================] - 0s 3ms/step - loss: 0.3256 - accuracy: 0.8608 - val_loss: 0.4489 - val_accuracy: 0.8475\n",
      "Epoch 183/500\n",
      "21/21 [==============================] - 0s 3ms/step - loss: 0.3319 - accuracy: 0.8593 - val_loss: 0.4494 - val_accuracy: 0.8475\n",
      "Epoch 184/500\n",
      "21/21 [==============================] - 0s 3ms/step - loss: 0.3255 - accuracy: 0.8503 - val_loss: 0.4485 - val_accuracy: 0.8520\n",
      "Epoch 185/500\n",
      "21/21 [==============================] - 0s 3ms/step - loss: 0.3297 - accuracy: 0.8578 - val_loss: 0.4476 - val_accuracy: 0.8475\n",
      "Epoch 186/500\n",
      "21/21 [==============================] - 0s 3ms/step - loss: 0.3320 - accuracy: 0.8503 - val_loss: 0.4485 - val_accuracy: 0.8430\n",
      "Epoch 187/500\n",
      "21/21 [==============================] - 0s 3ms/step - loss: 0.3404 - accuracy: 0.8458 - val_loss: 0.4494 - val_accuracy: 0.8475\n",
      "Epoch 188/500\n",
      "21/21 [==============================] - 0s 3ms/step - loss: 0.3358 - accuracy: 0.8578 - val_loss: 0.4483 - val_accuracy: 0.8520\n",
      "Epoch 189/500\n",
      "21/21 [==============================] - 0s 3ms/step - loss: 0.3413 - accuracy: 0.8593 - val_loss: 0.4467 - val_accuracy: 0.8475\n",
      "Epoch 190/500\n",
      "21/21 [==============================] - 0s 3ms/step - loss: 0.3441 - accuracy: 0.8533 - val_loss: 0.4460 - val_accuracy: 0.8475\n",
      "Epoch 191/500\n",
      "21/21 [==============================] - 0s 3ms/step - loss: 0.3226 - accuracy: 0.8608 - val_loss: 0.4461 - val_accuracy: 0.8430\n",
      "Epoch 192/500\n",
      "21/21 [==============================] - 0s 3ms/step - loss: 0.3234 - accuracy: 0.8743 - val_loss: 0.4458 - val_accuracy: 0.8475\n",
      "Epoch 193/500\n",
      "21/21 [==============================] - 0s 3ms/step - loss: 0.3234 - accuracy: 0.8593 - val_loss: 0.4460 - val_accuracy: 0.8475\n",
      "Epoch 194/500\n",
      "21/21 [==============================] - 0s 3ms/step - loss: 0.3221 - accuracy: 0.8563 - val_loss: 0.4462 - val_accuracy: 0.8475\n",
      "Epoch 195/500\n",
      "21/21 [==============================] - 0s 2ms/step - loss: 0.3365 - accuracy: 0.8533 - val_loss: 0.4465 - val_accuracy: 0.8386\n",
      "Epoch 196/500\n",
      "21/21 [==============================] - 0s 3ms/step - loss: 0.3269 - accuracy: 0.8623 - val_loss: 0.4478 - val_accuracy: 0.8386\n",
      "Epoch 197/500\n",
      "21/21 [==============================] - 0s 3ms/step - loss: 0.3222 - accuracy: 0.8638 - val_loss: 0.4487 - val_accuracy: 0.8475\n",
      "Epoch 198/500\n",
      "21/21 [==============================] - 0s 3ms/step - loss: 0.3298 - accuracy: 0.8608 - val_loss: 0.4498 - val_accuracy: 0.8520\n",
      "Epoch 199/500\n",
      "21/21 [==============================] - 0s 3ms/step - loss: 0.3123 - accuracy: 0.8787 - val_loss: 0.4487 - val_accuracy: 0.8430\n",
      "Epoch 200/500\n",
      "21/21 [==============================] - 0s 3ms/step - loss: 0.3398 - accuracy: 0.8548 - val_loss: 0.4479 - val_accuracy: 0.8430\n",
      "Epoch 201/500\n",
      "21/21 [==============================] - 0s 3ms/step - loss: 0.3330 - accuracy: 0.8608 - val_loss: 0.4494 - val_accuracy: 0.8430\n",
      "Epoch 202/500\n",
      "21/21 [==============================] - 0s 3ms/step - loss: 0.3419 - accuracy: 0.8458 - val_loss: 0.4476 - val_accuracy: 0.8430\n",
      "Epoch 203/500\n",
      "21/21 [==============================] - 0s 3ms/step - loss: 0.3248 - accuracy: 0.8668 - val_loss: 0.4477 - val_accuracy: 0.8430\n",
      "Epoch 204/500\n",
      "21/21 [==============================] - 0s 3ms/step - loss: 0.3435 - accuracy: 0.8548 - val_loss: 0.4475 - val_accuracy: 0.8430\n",
      "Epoch 205/500\n",
      "21/21 [==============================] - 0s 3ms/step - loss: 0.3269 - accuracy: 0.8563 - val_loss: 0.4483 - val_accuracy: 0.8430\n",
      "Epoch 206/500\n",
      "21/21 [==============================] - 0s 3ms/step - loss: 0.3296 - accuracy: 0.8608 - val_loss: 0.4488 - val_accuracy: 0.8386\n",
      "Epoch 207/500\n",
      "21/21 [==============================] - 0s 3ms/step - loss: 0.3357 - accuracy: 0.8533 - val_loss: 0.4478 - val_accuracy: 0.8430\n",
      "Epoch 208/500\n",
      "21/21 [==============================] - 0s 3ms/step - loss: 0.3265 - accuracy: 0.8563 - val_loss: 0.4493 - val_accuracy: 0.8430\n",
      "Epoch 209/500\n",
      "21/21 [==============================] - 0s 3ms/step - loss: 0.3416 - accuracy: 0.8518 - val_loss: 0.4502 - val_accuracy: 0.8341\n",
      "Epoch 210/500\n",
      "21/21 [==============================] - 0s 3ms/step - loss: 0.3330 - accuracy: 0.8593 - val_loss: 0.4504 - val_accuracy: 0.8386\n",
      "Epoch 211/500\n",
      "21/21 [==============================] - 0s 3ms/step - loss: 0.3201 - accuracy: 0.8668 - val_loss: 0.4512 - val_accuracy: 0.8475\n",
      "Epoch 212/500\n",
      "21/21 [==============================] - 0s 3ms/step - loss: 0.3465 - accuracy: 0.8518 - val_loss: 0.4517 - val_accuracy: 0.8430\n",
      "Epoch 213/500\n",
      "21/21 [==============================] - 0s 2ms/step - loss: 0.3300 - accuracy: 0.8593 - val_loss: 0.4497 - val_accuracy: 0.8430\n",
      "Epoch 214/500\n",
      "21/21 [==============================] - 0s 3ms/step - loss: 0.3298 - accuracy: 0.8623 - val_loss: 0.4497 - val_accuracy: 0.8430\n",
      "Epoch 215/500\n",
      "21/21 [==============================] - 0s 3ms/step - loss: 0.3425 - accuracy: 0.8578 - val_loss: 0.4485 - val_accuracy: 0.8475\n",
      "Epoch 216/500\n",
      "21/21 [==============================] - 0s 3ms/step - loss: 0.3345 - accuracy: 0.8608 - val_loss: 0.4490 - val_accuracy: 0.8430\n",
      "Epoch 217/500\n",
      "21/21 [==============================] - 0s 3ms/step - loss: 0.3315 - accuracy: 0.8518 - val_loss: 0.4487 - val_accuracy: 0.8430\n",
      "Epoch 218/500\n",
      "21/21 [==============================] - 0s 3ms/step - loss: 0.3452 - accuracy: 0.8458 - val_loss: 0.4506 - val_accuracy: 0.8475\n",
      "Epoch 219/500\n",
      "21/21 [==============================] - 0s 3ms/step - loss: 0.3301 - accuracy: 0.8608 - val_loss: 0.4489 - val_accuracy: 0.8475\n",
      "Epoch 220/500\n",
      "21/21 [==============================] - 0s 2ms/step - loss: 0.3198 - accuracy: 0.8593 - val_loss: 0.4502 - val_accuracy: 0.8520\n",
      "Epoch 221/500\n",
      "21/21 [==============================] - 0s 2ms/step - loss: 0.3307 - accuracy: 0.8623 - val_loss: 0.4499 - val_accuracy: 0.8475\n",
      "Epoch 222/500\n",
      "21/21 [==============================] - 0s 2ms/step - loss: 0.3423 - accuracy: 0.8503 - val_loss: 0.4510 - val_accuracy: 0.8430\n",
      "Epoch 223/500\n",
      "21/21 [==============================] - 0s 3ms/step - loss: 0.3355 - accuracy: 0.8518 - val_loss: 0.4529 - val_accuracy: 0.8386\n",
      "Epoch 224/500\n",
      "21/21 [==============================] - 0s 3ms/step - loss: 0.3360 - accuracy: 0.8623 - val_loss: 0.4517 - val_accuracy: 0.8430\n",
      "Epoch 225/500\n",
      "21/21 [==============================] - 0s 3ms/step - loss: 0.3335 - accuracy: 0.8518 - val_loss: 0.4523 - val_accuracy: 0.8386\n",
      "Epoch 226/500\n",
      "21/21 [==============================] - 0s 3ms/step - loss: 0.3333 - accuracy: 0.8578 - val_loss: 0.4528 - val_accuracy: 0.8386\n",
      "Epoch 227/500\n",
      "21/21 [==============================] - 0s 3ms/step - loss: 0.3402 - accuracy: 0.8428 - val_loss: 0.4527 - val_accuracy: 0.8341\n",
      "Epoch 228/500\n",
      "21/21 [==============================] - 0s 2ms/step - loss: 0.3176 - accuracy: 0.8548 - val_loss: 0.4532 - val_accuracy: 0.8386\n",
      "Epoch 229/500\n",
      "21/21 [==============================] - 0s 2ms/step - loss: 0.3209 - accuracy: 0.8668 - val_loss: 0.4523 - val_accuracy: 0.8430\n",
      "Epoch 230/500\n",
      "21/21 [==============================] - 0s 3ms/step - loss: 0.3282 - accuracy: 0.8638 - val_loss: 0.4525 - val_accuracy: 0.8475\n",
      "Epoch 231/500\n",
      "21/21 [==============================] - 0s 3ms/step - loss: 0.3433 - accuracy: 0.8548 - val_loss: 0.4521 - val_accuracy: 0.8341\n",
      "Epoch 232/500\n",
      "21/21 [==============================] - 0s 3ms/step - loss: 0.3335 - accuracy: 0.8488 - val_loss: 0.4516 - val_accuracy: 0.8341\n",
      "Epoch 233/500\n",
      "21/21 [==============================] - 0s 3ms/step - loss: 0.3189 - accuracy: 0.8728 - val_loss: 0.4514 - val_accuracy: 0.8296\n",
      "Epoch 234/500\n",
      "21/21 [==============================] - 0s 3ms/step - loss: 0.3375 - accuracy: 0.8503 - val_loss: 0.4511 - val_accuracy: 0.8341\n",
      "Epoch 235/500\n",
      "21/21 [==============================] - 0s 3ms/step - loss: 0.3375 - accuracy: 0.8473 - val_loss: 0.4488 - val_accuracy: 0.8430\n",
      "Epoch 236/500\n",
      "21/21 [==============================] - 0s 2ms/step - loss: 0.3350 - accuracy: 0.8533 - val_loss: 0.4481 - val_accuracy: 0.8430\n",
      "Epoch 237/500\n",
      "21/21 [==============================] - 0s 3ms/step - loss: 0.3264 - accuracy: 0.8593 - val_loss: 0.4466 - val_accuracy: 0.8430\n",
      "Epoch 238/500\n",
      "21/21 [==============================] - 0s 3ms/step - loss: 0.3183 - accuracy: 0.8623 - val_loss: 0.4459 - val_accuracy: 0.8430\n",
      "Epoch 239/500\n",
      "21/21 [==============================] - 0s 3ms/step - loss: 0.3392 - accuracy: 0.8578 - val_loss: 0.4473 - val_accuracy: 0.8520\n",
      "Epoch 240/500\n",
      "21/21 [==============================] - 0s 3ms/step - loss: 0.3309 - accuracy: 0.8533 - val_loss: 0.4481 - val_accuracy: 0.8430\n",
      "Epoch 241/500\n",
      "21/21 [==============================] - 0s 3ms/step - loss: 0.3273 - accuracy: 0.8518 - val_loss: 0.4490 - val_accuracy: 0.8386\n",
      "Epoch 242/500\n",
      "21/21 [==============================] - 0s 3ms/step - loss: 0.3381 - accuracy: 0.8548 - val_loss: 0.4480 - val_accuracy: 0.8341\n",
      "Epoch 243/500\n",
      "21/21 [==============================] - 0s 3ms/step - loss: 0.3276 - accuracy: 0.8578 - val_loss: 0.4490 - val_accuracy: 0.8475\n",
      "Epoch 244/500\n",
      "21/21 [==============================] - 0s 2ms/step - loss: 0.3385 - accuracy: 0.8518 - val_loss: 0.4483 - val_accuracy: 0.8430\n",
      "Epoch 245/500\n",
      "21/21 [==============================] - 0s 3ms/step - loss: 0.3239 - accuracy: 0.8638 - val_loss: 0.4480 - val_accuracy: 0.8341\n",
      "Epoch 246/500\n",
      "21/21 [==============================] - 0s 3ms/step - loss: 0.3365 - accuracy: 0.8548 - val_loss: 0.4464 - val_accuracy: 0.8520\n",
      "Epoch 247/500\n",
      "21/21 [==============================] - 0s 3ms/step - loss: 0.3441 - accuracy: 0.8398 - val_loss: 0.4461 - val_accuracy: 0.8430\n",
      "Epoch 248/500\n",
      "21/21 [==============================] - 0s 2ms/step - loss: 0.3339 - accuracy: 0.8623 - val_loss: 0.4484 - val_accuracy: 0.8386\n",
      "Epoch 249/500\n",
      "21/21 [==============================] - 0s 3ms/step - loss: 0.3333 - accuracy: 0.8593 - val_loss: 0.4495 - val_accuracy: 0.8430\n",
      "Epoch 250/500\n",
      "21/21 [==============================] - 0s 3ms/step - loss: 0.3265 - accuracy: 0.8668 - val_loss: 0.4474 - val_accuracy: 0.8430\n",
      "Epoch 251/500\n",
      "21/21 [==============================] - 0s 3ms/step - loss: 0.3201 - accuracy: 0.8623 - val_loss: 0.4480 - val_accuracy: 0.8475\n",
      "Epoch 252/500\n",
      "21/21 [==============================] - 0s 3ms/step - loss: 0.3285 - accuracy: 0.8623 - val_loss: 0.4497 - val_accuracy: 0.8475\n",
      "Epoch 253/500\n",
      "21/21 [==============================] - 0s 3ms/step - loss: 0.3493 - accuracy: 0.8488 - val_loss: 0.4485 - val_accuracy: 0.8520\n",
      "Epoch 254/500\n",
      "21/21 [==============================] - 0s 3ms/step - loss: 0.3468 - accuracy: 0.8578 - val_loss: 0.4489 - val_accuracy: 0.8520\n",
      "Epoch 255/500\n",
      "21/21 [==============================] - 0s 3ms/step - loss: 0.3443 - accuracy: 0.8578 - val_loss: 0.4494 - val_accuracy: 0.8475\n",
      "Epoch 256/500\n",
      "21/21 [==============================] - 0s 3ms/step - loss: 0.3274 - accuracy: 0.8608 - val_loss: 0.4474 - val_accuracy: 0.8386\n",
      "Epoch 257/500\n",
      "21/21 [==============================] - 0s 3ms/step - loss: 0.3303 - accuracy: 0.8548 - val_loss: 0.4507 - val_accuracy: 0.8475\n",
      "Epoch 258/500\n",
      "21/21 [==============================] - 0s 2ms/step - loss: 0.3276 - accuracy: 0.8473 - val_loss: 0.4509 - val_accuracy: 0.8430\n",
      "Epoch 259/500\n",
      "21/21 [==============================] - 0s 3ms/step - loss: 0.3383 - accuracy: 0.8653 - val_loss: 0.4480 - val_accuracy: 0.8341\n",
      "Epoch 260/500\n",
      "21/21 [==============================] - 0s 3ms/step - loss: 0.3243 - accuracy: 0.8623 - val_loss: 0.4504 - val_accuracy: 0.8430\n",
      "Epoch 261/500\n",
      "21/21 [==============================] - 0s 3ms/step - loss: 0.3384 - accuracy: 0.8488 - val_loss: 0.4494 - val_accuracy: 0.8386\n",
      "Epoch 262/500\n",
      "21/21 [==============================] - 0s 3ms/step - loss: 0.3462 - accuracy: 0.8398 - val_loss: 0.4503 - val_accuracy: 0.8386\n",
      "Epoch 263/500\n",
      "21/21 [==============================] - 0s 3ms/step - loss: 0.3406 - accuracy: 0.8578 - val_loss: 0.4498 - val_accuracy: 0.8475\n",
      "Epoch 264/500\n",
      "21/21 [==============================] - 0s 3ms/step - loss: 0.3406 - accuracy: 0.8563 - val_loss: 0.4494 - val_accuracy: 0.8475\n",
      "Epoch 265/500\n",
      "21/21 [==============================] - 0s 3ms/step - loss: 0.3344 - accuracy: 0.8503 - val_loss: 0.4491 - val_accuracy: 0.8430\n",
      "Epoch 266/500\n",
      "21/21 [==============================] - 0s 3ms/step - loss: 0.3394 - accuracy: 0.8533 - val_loss: 0.4485 - val_accuracy: 0.8430\n",
      "Epoch 267/500\n",
      "21/21 [==============================] - 0s 3ms/step - loss: 0.3182 - accuracy: 0.8638 - val_loss: 0.4502 - val_accuracy: 0.8430\n",
      "Epoch 268/500\n",
      "21/21 [==============================] - 0s 3ms/step - loss: 0.3252 - accuracy: 0.8503 - val_loss: 0.4509 - val_accuracy: 0.8430\n",
      "Epoch 269/500\n",
      "21/21 [==============================] - 0s 3ms/step - loss: 0.3277 - accuracy: 0.8518 - val_loss: 0.4516 - val_accuracy: 0.8475\n",
      "Epoch 270/500\n",
      "21/21 [==============================] - 0s 3ms/step - loss: 0.3405 - accuracy: 0.8503 - val_loss: 0.4490 - val_accuracy: 0.8430\n",
      "Epoch 271/500\n",
      "21/21 [==============================] - 0s 3ms/step - loss: 0.3199 - accuracy: 0.8638 - val_loss: 0.4482 - val_accuracy: 0.8430\n",
      "Epoch 272/500\n",
      "21/21 [==============================] - 0s 3ms/step - loss: 0.3255 - accuracy: 0.8593 - val_loss: 0.4468 - val_accuracy: 0.8475\n",
      "Epoch 273/500\n",
      "21/21 [==============================] - 0s 3ms/step - loss: 0.3262 - accuracy: 0.8563 - val_loss: 0.4485 - val_accuracy: 0.8520\n",
      "Epoch 274/500\n",
      "21/21 [==============================] - 0s 3ms/step - loss: 0.3330 - accuracy: 0.8503 - val_loss: 0.4472 - val_accuracy: 0.8520\n",
      "Epoch 275/500\n",
      "21/21 [==============================] - 0s 3ms/step - loss: 0.3208 - accuracy: 0.8593 - val_loss: 0.4486 - val_accuracy: 0.8520\n",
      "Epoch 276/500\n",
      "21/21 [==============================] - 0s 3ms/step - loss: 0.3277 - accuracy: 0.8548 - val_loss: 0.4498 - val_accuracy: 0.8475\n",
      "Epoch 277/500\n",
      "21/21 [==============================] - 0s 3ms/step - loss: 0.3167 - accuracy: 0.8563 - val_loss: 0.4506 - val_accuracy: 0.8520\n",
      "Epoch 278/500\n",
      "21/21 [==============================] - 0s 3ms/step - loss: 0.3323 - accuracy: 0.8563 - val_loss: 0.4490 - val_accuracy: 0.8520\n",
      "Epoch 279/500\n",
      "21/21 [==============================] - 0s 3ms/step - loss: 0.3284 - accuracy: 0.8623 - val_loss: 0.4500 - val_accuracy: 0.8475\n",
      "Epoch 280/500\n",
      "21/21 [==============================] - 0s 3ms/step - loss: 0.3059 - accuracy: 0.8728 - val_loss: 0.4503 - val_accuracy: 0.8430\n",
      "Epoch 281/500\n",
      "21/21 [==============================] - 0s 3ms/step - loss: 0.3211 - accuracy: 0.8653 - val_loss: 0.4482 - val_accuracy: 0.8341\n",
      "Epoch 282/500\n",
      "21/21 [==============================] - 0s 3ms/step - loss: 0.3194 - accuracy: 0.8653 - val_loss: 0.4497 - val_accuracy: 0.8475\n",
      "Epoch 283/500\n",
      "21/21 [==============================] - 0s 2ms/step - loss: 0.3261 - accuracy: 0.8713 - val_loss: 0.4507 - val_accuracy: 0.8430\n",
      "Epoch 284/500\n",
      "21/21 [==============================] - 0s 3ms/step - loss: 0.3205 - accuracy: 0.8668 - val_loss: 0.4506 - val_accuracy: 0.8475\n",
      "Epoch 285/500\n",
      "21/21 [==============================] - 0s 3ms/step - loss: 0.3304 - accuracy: 0.8398 - val_loss: 0.4514 - val_accuracy: 0.8565\n",
      "Epoch 286/500\n",
      "21/21 [==============================] - 0s 3ms/step - loss: 0.3155 - accuracy: 0.8728 - val_loss: 0.4516 - val_accuracy: 0.8475\n",
      "Epoch 287/500\n"
     ]
    },
    {
     "name": "stdout",
     "output_type": "stream",
     "text": [
      "21/21 [==============================] - 0s 3ms/step - loss: 0.3276 - accuracy: 0.8533 - val_loss: 0.4504 - val_accuracy: 0.8520\n",
      "Epoch 288/500\n",
      "21/21 [==============================] - 0s 3ms/step - loss: 0.3207 - accuracy: 0.8593 - val_loss: 0.4520 - val_accuracy: 0.8475\n",
      "Epoch 289/500\n",
      "21/21 [==============================] - 0s 3ms/step - loss: 0.3185 - accuracy: 0.8578 - val_loss: 0.4526 - val_accuracy: 0.8475\n",
      "Epoch 290/500\n",
      "21/21 [==============================] - 0s 3ms/step - loss: 0.3421 - accuracy: 0.8653 - val_loss: 0.4529 - val_accuracy: 0.8386\n",
      "Epoch 291/500\n",
      "21/21 [==============================] - 0s 3ms/step - loss: 0.3240 - accuracy: 0.8533 - val_loss: 0.4520 - val_accuracy: 0.8430\n",
      "Epoch 292/500\n",
      "21/21 [==============================] - 0s 2ms/step - loss: 0.3345 - accuracy: 0.8503 - val_loss: 0.4531 - val_accuracy: 0.8430\n",
      "Epoch 293/500\n",
      "21/21 [==============================] - 0s 3ms/step - loss: 0.3356 - accuracy: 0.8593 - val_loss: 0.4511 - val_accuracy: 0.8565\n",
      "Epoch 294/500\n",
      "21/21 [==============================] - 0s 3ms/step - loss: 0.3302 - accuracy: 0.8623 - val_loss: 0.4497 - val_accuracy: 0.8430\n",
      "Epoch 295/500\n",
      "21/21 [==============================] - 0s 3ms/step - loss: 0.3039 - accuracy: 0.8578 - val_loss: 0.4516 - val_accuracy: 0.8430\n",
      "Epoch 296/500\n",
      "21/21 [==============================] - 0s 3ms/step - loss: 0.3280 - accuracy: 0.8563 - val_loss: 0.4521 - val_accuracy: 0.8386\n",
      "Epoch 297/500\n",
      "21/21 [==============================] - 0s 3ms/step - loss: 0.3472 - accuracy: 0.8578 - val_loss: 0.4531 - val_accuracy: 0.8430\n",
      "Epoch 298/500\n",
      "21/21 [==============================] - 0s 3ms/step - loss: 0.3218 - accuracy: 0.8698 - val_loss: 0.4532 - val_accuracy: 0.8430\n",
      "Epoch 299/500\n",
      "21/21 [==============================] - 0s 3ms/step - loss: 0.3302 - accuracy: 0.8623 - val_loss: 0.4551 - val_accuracy: 0.8430\n",
      "Epoch 300/500\n",
      "21/21 [==============================] - 0s 3ms/step - loss: 0.3216 - accuracy: 0.8548 - val_loss: 0.4558 - val_accuracy: 0.8565\n",
      "Epoch 301/500\n",
      "21/21 [==============================] - 0s 2ms/step - loss: 0.3215 - accuracy: 0.8668 - val_loss: 0.4569 - val_accuracy: 0.8520\n",
      "Epoch 302/500\n",
      "21/21 [==============================] - 0s 2ms/step - loss: 0.3194 - accuracy: 0.8563 - val_loss: 0.4536 - val_accuracy: 0.8565\n",
      "Epoch 303/500\n",
      "21/21 [==============================] - 0s 2ms/step - loss: 0.3313 - accuracy: 0.8593 - val_loss: 0.4542 - val_accuracy: 0.8520\n",
      "Epoch 304/500\n",
      "21/21 [==============================] - 0s 3ms/step - loss: 0.3257 - accuracy: 0.8563 - val_loss: 0.4545 - val_accuracy: 0.8475\n",
      "Epoch 305/500\n",
      "21/21 [==============================] - 0s 3ms/step - loss: 0.3341 - accuracy: 0.8458 - val_loss: 0.4554 - val_accuracy: 0.8386\n",
      "Epoch 306/500\n",
      "21/21 [==============================] - 0s 3ms/step - loss: 0.3298 - accuracy: 0.8578 - val_loss: 0.4567 - val_accuracy: 0.8386\n",
      "Epoch 307/500\n",
      "21/21 [==============================] - 0s 3ms/step - loss: 0.3210 - accuracy: 0.8653 - val_loss: 0.4557 - val_accuracy: 0.8430\n",
      "Epoch 308/500\n",
      "21/21 [==============================] - 0s 3ms/step - loss: 0.3317 - accuracy: 0.8638 - val_loss: 0.4551 - val_accuracy: 0.8341\n",
      "Epoch 309/500\n",
      "21/21 [==============================] - 0s 3ms/step - loss: 0.3148 - accuracy: 0.8578 - val_loss: 0.4557 - val_accuracy: 0.8430\n",
      "Epoch 310/500\n",
      "21/21 [==============================] - 0s 3ms/step - loss: 0.3317 - accuracy: 0.8518 - val_loss: 0.4561 - val_accuracy: 0.8430\n",
      "Epoch 311/500\n",
      "21/21 [==============================] - 0s 3ms/step - loss: 0.3300 - accuracy: 0.8638 - val_loss: 0.4556 - val_accuracy: 0.8475\n",
      "Epoch 312/500\n",
      "21/21 [==============================] - 0s 2ms/step - loss: 0.3168 - accuracy: 0.8623 - val_loss: 0.4560 - val_accuracy: 0.8386\n",
      "Epoch 313/500\n",
      "21/21 [==============================] - 0s 3ms/step - loss: 0.3298 - accuracy: 0.8443 - val_loss: 0.4559 - val_accuracy: 0.8475\n",
      "Epoch 314/500\n",
      "21/21 [==============================] - 0s 3ms/step - loss: 0.3252 - accuracy: 0.8608 - val_loss: 0.4545 - val_accuracy: 0.8475\n",
      "Epoch 315/500\n",
      "21/21 [==============================] - 0s 3ms/step - loss: 0.3219 - accuracy: 0.8518 - val_loss: 0.4557 - val_accuracy: 0.8475\n",
      "Epoch 316/500\n",
      "21/21 [==============================] - 0s 3ms/step - loss: 0.3302 - accuracy: 0.8668 - val_loss: 0.4561 - val_accuracy: 0.8475\n",
      "Epoch 317/500\n",
      "21/21 [==============================] - 0s 3ms/step - loss: 0.3225 - accuracy: 0.8668 - val_loss: 0.4559 - val_accuracy: 0.8475\n",
      "Epoch 318/500\n",
      "21/21 [==============================] - 0s 2ms/step - loss: 0.3205 - accuracy: 0.8593 - val_loss: 0.4563 - val_accuracy: 0.8386\n",
      "Epoch 319/500\n",
      "21/21 [==============================] - 0s 3ms/step - loss: 0.3176 - accuracy: 0.8668 - val_loss: 0.4574 - val_accuracy: 0.8475\n",
      "Epoch 320/500\n",
      "21/21 [==============================] - 0s 3ms/step - loss: 0.3243 - accuracy: 0.8623 - val_loss: 0.4584 - val_accuracy: 0.8341\n",
      "Epoch 321/500\n",
      "21/21 [==============================] - 0s 3ms/step - loss: 0.3244 - accuracy: 0.8578 - val_loss: 0.4600 - val_accuracy: 0.8386\n",
      "Epoch 322/500\n",
      "21/21 [==============================] - 0s 3ms/step - loss: 0.3124 - accuracy: 0.8728 - val_loss: 0.4574 - val_accuracy: 0.8430\n",
      "Epoch 323/500\n",
      "21/21 [==============================] - 0s 3ms/step - loss: 0.3147 - accuracy: 0.8743 - val_loss: 0.4577 - val_accuracy: 0.8430\n",
      "Epoch 324/500\n",
      "21/21 [==============================] - 0s 3ms/step - loss: 0.3187 - accuracy: 0.8668 - val_loss: 0.4565 - val_accuracy: 0.8520\n",
      "Epoch 325/500\n",
      "21/21 [==============================] - 0s 3ms/step - loss: 0.3237 - accuracy: 0.8698 - val_loss: 0.4565 - val_accuracy: 0.8386\n",
      "Epoch 326/500\n",
      "21/21 [==============================] - 0s 3ms/step - loss: 0.3264 - accuracy: 0.8563 - val_loss: 0.4554 - val_accuracy: 0.8475\n",
      "Epoch 327/500\n",
      "21/21 [==============================] - 0s 3ms/step - loss: 0.3567 - accuracy: 0.8638 - val_loss: 0.4539 - val_accuracy: 0.8430\n",
      "Epoch 328/500\n",
      "21/21 [==============================] - 0s 3ms/step - loss: 0.3327 - accuracy: 0.8548 - val_loss: 0.4531 - val_accuracy: 0.8430\n",
      "Epoch 329/500\n",
      "21/21 [==============================] - 0s 3ms/step - loss: 0.3166 - accuracy: 0.8593 - val_loss: 0.4533 - val_accuracy: 0.8475\n",
      "Epoch 330/500\n",
      "21/21 [==============================] - 0s 3ms/step - loss: 0.3359 - accuracy: 0.8518 - val_loss: 0.4532 - val_accuracy: 0.8475\n",
      "Epoch 331/500\n",
      "21/21 [==============================] - 0s 3ms/step - loss: 0.3267 - accuracy: 0.8668 - val_loss: 0.4528 - val_accuracy: 0.8475\n",
      "Epoch 332/500\n",
      "21/21 [==============================] - 0s 3ms/step - loss: 0.3360 - accuracy: 0.8638 - val_loss: 0.4508 - val_accuracy: 0.8386\n",
      "Epoch 333/500\n",
      "21/21 [==============================] - 0s 3ms/step - loss: 0.3140 - accuracy: 0.8772 - val_loss: 0.4532 - val_accuracy: 0.8430\n",
      "Epoch 334/500\n",
      "21/21 [==============================] - 0s 3ms/step - loss: 0.3365 - accuracy: 0.8563 - val_loss: 0.4529 - val_accuracy: 0.8475\n",
      "Epoch 335/500\n",
      "21/21 [==============================] - 0s 3ms/step - loss: 0.3306 - accuracy: 0.8533 - val_loss: 0.4529 - val_accuracy: 0.8430\n",
      "Epoch 336/500\n",
      "21/21 [==============================] - 0s 3ms/step - loss: 0.3290 - accuracy: 0.8713 - val_loss: 0.4538 - val_accuracy: 0.8430\n",
      "Epoch 337/500\n",
      "21/21 [==============================] - 0s 3ms/step - loss: 0.3231 - accuracy: 0.8668 - val_loss: 0.4554 - val_accuracy: 0.8475\n",
      "Epoch 338/500\n",
      "21/21 [==============================] - 0s 3ms/step - loss: 0.3263 - accuracy: 0.8713 - val_loss: 0.4565 - val_accuracy: 0.8386\n",
      "Epoch 339/500\n",
      "21/21 [==============================] - 0s 3ms/step - loss: 0.3336 - accuracy: 0.8473 - val_loss: 0.4554 - val_accuracy: 0.8430\n",
      "Epoch 340/500\n",
      "21/21 [==============================] - 0s 2ms/step - loss: 0.3326 - accuracy: 0.8488 - val_loss: 0.4548 - val_accuracy: 0.8475\n",
      "Epoch 341/500\n",
      "21/21 [==============================] - 0s 2ms/step - loss: 0.3178 - accuracy: 0.8728 - val_loss: 0.4528 - val_accuracy: 0.8386\n",
      "Epoch 342/500\n",
      "21/21 [==============================] - 0s 3ms/step - loss: 0.3254 - accuracy: 0.8668 - val_loss: 0.4532 - val_accuracy: 0.8430\n",
      "Epoch 343/500\n",
      "21/21 [==============================] - 0s 3ms/step - loss: 0.3199 - accuracy: 0.8593 - val_loss: 0.4523 - val_accuracy: 0.8475\n",
      "Epoch 344/500\n",
      "21/21 [==============================] - 0s 3ms/step - loss: 0.3449 - accuracy: 0.8548 - val_loss: 0.4525 - val_accuracy: 0.8475\n",
      "Epoch 345/500\n",
      "21/21 [==============================] - 0s 3ms/step - loss: 0.3336 - accuracy: 0.8488 - val_loss: 0.4523 - val_accuracy: 0.8386\n",
      "Epoch 346/500\n",
      "21/21 [==============================] - 0s 3ms/step - loss: 0.3247 - accuracy: 0.8548 - val_loss: 0.4544 - val_accuracy: 0.8475\n",
      "Epoch 347/500\n",
      "21/21 [==============================] - 0s 3ms/step - loss: 0.3227 - accuracy: 0.8563 - val_loss: 0.4529 - val_accuracy: 0.8386\n",
      "Epoch 348/500\n",
      "21/21 [==============================] - 0s 3ms/step - loss: 0.3411 - accuracy: 0.8563 - val_loss: 0.4551 - val_accuracy: 0.8475\n",
      "Epoch 349/500\n",
      "21/21 [==============================] - 0s 2ms/step - loss: 0.3225 - accuracy: 0.8578 - val_loss: 0.4558 - val_accuracy: 0.8475\n",
      "Epoch 350/500\n",
      "21/21 [==============================] - 0s 2ms/step - loss: 0.3186 - accuracy: 0.8593 - val_loss: 0.4559 - val_accuracy: 0.8475\n",
      "Epoch 351/500\n",
      "21/21 [==============================] - 0s 3ms/step - loss: 0.3394 - accuracy: 0.8458 - val_loss: 0.4549 - val_accuracy: 0.8475\n",
      "Epoch 352/500\n",
      "21/21 [==============================] - 0s 3ms/step - loss: 0.3164 - accuracy: 0.8653 - val_loss: 0.4552 - val_accuracy: 0.8430\n",
      "Epoch 353/500\n",
      "21/21 [==============================] - 0s 3ms/step - loss: 0.3331 - accuracy: 0.8578 - val_loss: 0.4560 - val_accuracy: 0.8475\n",
      "Epoch 354/500\n",
      "21/21 [==============================] - 0s 3ms/step - loss: 0.3238 - accuracy: 0.8533 - val_loss: 0.4568 - val_accuracy: 0.8430\n",
      "Epoch 355/500\n",
      "21/21 [==============================] - 0s 3ms/step - loss: 0.3242 - accuracy: 0.8668 - val_loss: 0.4565 - val_accuracy: 0.8430\n",
      "Epoch 356/500\n",
      "21/21 [==============================] - 0s 3ms/step - loss: 0.3312 - accuracy: 0.8578 - val_loss: 0.4543 - val_accuracy: 0.8475\n",
      "Epoch 357/500\n",
      "21/21 [==============================] - 0s 3ms/step - loss: 0.3394 - accuracy: 0.8593 - val_loss: 0.4546 - val_accuracy: 0.8430\n",
      "Epoch 358/500\n",
      "21/21 [==============================] - 0s 2ms/step - loss: 0.3200 - accuracy: 0.8608 - val_loss: 0.4562 - val_accuracy: 0.8475\n",
      "Epoch 359/500\n",
      "21/21 [==============================] - 0s 3ms/step - loss: 0.3347 - accuracy: 0.8578 - val_loss: 0.4561 - val_accuracy: 0.8475\n",
      "Epoch 360/500\n",
      "21/21 [==============================] - 0s 3ms/step - loss: 0.3149 - accuracy: 0.8698 - val_loss: 0.4537 - val_accuracy: 0.8520\n",
      "Epoch 361/500\n",
      "21/21 [==============================] - 0s 3ms/step - loss: 0.3287 - accuracy: 0.8593 - val_loss: 0.4543 - val_accuracy: 0.8475\n",
      "Epoch 362/500\n",
      "21/21 [==============================] - 0s 3ms/step - loss: 0.3131 - accuracy: 0.8668 - val_loss: 0.4570 - val_accuracy: 0.8565\n",
      "Epoch 363/500\n",
      "21/21 [==============================] - 0s 3ms/step - loss: 0.3136 - accuracy: 0.8668 - val_loss: 0.4577 - val_accuracy: 0.8430\n",
      "Epoch 364/500\n",
      "21/21 [==============================] - 0s 3ms/step - loss: 0.3380 - accuracy: 0.8533 - val_loss: 0.4578 - val_accuracy: 0.8386\n",
      "Epoch 365/500\n",
      "21/21 [==============================] - 0s 3ms/step - loss: 0.3303 - accuracy: 0.8533 - val_loss: 0.4589 - val_accuracy: 0.8520\n",
      "Epoch 366/500\n",
      "21/21 [==============================] - 0s 3ms/step - loss: 0.3255 - accuracy: 0.8653 - val_loss: 0.4568 - val_accuracy: 0.8520\n",
      "Epoch 367/500\n",
      "21/21 [==============================] - 0s 3ms/step - loss: 0.3348 - accuracy: 0.8548 - val_loss: 0.4569 - val_accuracy: 0.8475\n",
      "Epoch 368/500\n",
      "21/21 [==============================] - 0s 3ms/step - loss: 0.3307 - accuracy: 0.8578 - val_loss: 0.4564 - val_accuracy: 0.8430\n",
      "Epoch 369/500\n",
      "21/21 [==============================] - 0s 3ms/step - loss: 0.3348 - accuracy: 0.8533 - val_loss: 0.4553 - val_accuracy: 0.8520\n",
      "Epoch 370/500\n",
      "21/21 [==============================] - 0s 3ms/step - loss: 0.3280 - accuracy: 0.8728 - val_loss: 0.4556 - val_accuracy: 0.8475\n",
      "Epoch 371/500\n",
      "21/21 [==============================] - 0s 2ms/step - loss: 0.3291 - accuracy: 0.8653 - val_loss: 0.4592 - val_accuracy: 0.8475\n",
      "Epoch 372/500\n",
      "21/21 [==============================] - 0s 3ms/step - loss: 0.3286 - accuracy: 0.8638 - val_loss: 0.4596 - val_accuracy: 0.8520\n",
      "Epoch 373/500\n",
      "21/21 [==============================] - 0s 3ms/step - loss: 0.3313 - accuracy: 0.8443 - val_loss: 0.4574 - val_accuracy: 0.8520\n",
      "Epoch 374/500\n",
      "21/21 [==============================] - 0s 3ms/step - loss: 0.3372 - accuracy: 0.8638 - val_loss: 0.4578 - val_accuracy: 0.8520\n",
      "Epoch 375/500\n",
      "21/21 [==============================] - 0s 3ms/step - loss: 0.3209 - accuracy: 0.8578 - val_loss: 0.4571 - val_accuracy: 0.8430\n",
      "Epoch 376/500\n",
      "21/21 [==============================] - 0s 3ms/step - loss: 0.3254 - accuracy: 0.8608 - val_loss: 0.4579 - val_accuracy: 0.8386\n",
      "Epoch 377/500\n",
      "21/21 [==============================] - 0s 3ms/step - loss: 0.3316 - accuracy: 0.8593 - val_loss: 0.4559 - val_accuracy: 0.8475\n",
      "Epoch 378/500\n",
      "21/21 [==============================] - 0s 3ms/step - loss: 0.3258 - accuracy: 0.8563 - val_loss: 0.4578 - val_accuracy: 0.8386\n",
      "Epoch 379/500\n",
      "21/21 [==============================] - 0s 2ms/step - loss: 0.3251 - accuracy: 0.8593 - val_loss: 0.4565 - val_accuracy: 0.8475\n",
      "Epoch 380/500\n",
      "21/21 [==============================] - 0s 3ms/step - loss: 0.3341 - accuracy: 0.8563 - val_loss: 0.4569 - val_accuracy: 0.8475\n",
      "Epoch 381/500\n",
      "21/21 [==============================] - 0s 3ms/step - loss: 0.3210 - accuracy: 0.8638 - val_loss: 0.4572 - val_accuracy: 0.8520\n",
      "Epoch 382/500\n",
      "21/21 [==============================] - 0s 3ms/step - loss: 0.3230 - accuracy: 0.8713 - val_loss: 0.4581 - val_accuracy: 0.8430\n",
      "Epoch 383/500\n",
      "21/21 [==============================] - 0s 3ms/step - loss: 0.3233 - accuracy: 0.8638 - val_loss: 0.4605 - val_accuracy: 0.8475\n",
      "Epoch 384/500\n",
      "21/21 [==============================] - 0s 3ms/step - loss: 0.3257 - accuracy: 0.8623 - val_loss: 0.4574 - val_accuracy: 0.8430\n",
      "Epoch 385/500\n",
      "21/21 [==============================] - 0s 3ms/step - loss: 0.3209 - accuracy: 0.8698 - val_loss: 0.4569 - val_accuracy: 0.8430\n",
      "Epoch 386/500\n",
      "21/21 [==============================] - 0s 3ms/step - loss: 0.3251 - accuracy: 0.8623 - val_loss: 0.4593 - val_accuracy: 0.8386\n",
      "Epoch 387/500\n",
      "21/21 [==============================] - 0s 2ms/step - loss: 0.3280 - accuracy: 0.8563 - val_loss: 0.4592 - val_accuracy: 0.8430\n",
      "Epoch 388/500\n",
      "21/21 [==============================] - 0s 3ms/step - loss: 0.3319 - accuracy: 0.8548 - val_loss: 0.4598 - val_accuracy: 0.8475\n",
      "Epoch 389/500\n",
      "21/21 [==============================] - 0s 3ms/step - loss: 0.3243 - accuracy: 0.8638 - val_loss: 0.4592 - val_accuracy: 0.8475\n",
      "Epoch 390/500\n",
      "21/21 [==============================] - 0s 3ms/step - loss: 0.3273 - accuracy: 0.8548 - val_loss: 0.4601 - val_accuracy: 0.8430\n",
      "Epoch 391/500\n",
      "21/21 [==============================] - 0s 3ms/step - loss: 0.3193 - accuracy: 0.8698 - val_loss: 0.4591 - val_accuracy: 0.8386\n",
      "Epoch 392/500\n",
      "21/21 [==============================] - 0s 3ms/step - loss: 0.3286 - accuracy: 0.8593 - val_loss: 0.4578 - val_accuracy: 0.8520\n",
      "Epoch 393/500\n",
      "21/21 [==============================] - 0s 3ms/step - loss: 0.3546 - accuracy: 0.8383 - val_loss: 0.4580 - val_accuracy: 0.8475\n",
      "Epoch 394/500\n",
      "21/21 [==============================] - 0s 3ms/step - loss: 0.3296 - accuracy: 0.8638 - val_loss: 0.4571 - val_accuracy: 0.8386\n",
      "Epoch 395/500\n",
      "21/21 [==============================] - 0s 2ms/step - loss: 0.3216 - accuracy: 0.8563 - val_loss: 0.4601 - val_accuracy: 0.8475\n",
      "Epoch 396/500\n",
      "21/21 [==============================] - 0s 2ms/step - loss: 0.3262 - accuracy: 0.8593 - val_loss: 0.4625 - val_accuracy: 0.8430\n",
      "Epoch 397/500\n",
      "21/21 [==============================] - 0s 3ms/step - loss: 0.3322 - accuracy: 0.8533 - val_loss: 0.4643 - val_accuracy: 0.8386\n",
      "Epoch 398/500\n",
      "21/21 [==============================] - 0s 2ms/step - loss: 0.3298 - accuracy: 0.8623 - val_loss: 0.4640 - val_accuracy: 0.8430\n",
      "Epoch 399/500\n",
      "21/21 [==============================] - 0s 3ms/step - loss: 0.3130 - accuracy: 0.8743 - val_loss: 0.4642 - val_accuracy: 0.8475\n",
      "Epoch 400/500\n",
      "21/21 [==============================] - 0s 3ms/step - loss: 0.3231 - accuracy: 0.8608 - val_loss: 0.4659 - val_accuracy: 0.8386\n",
      "Epoch 401/500\n"
     ]
    },
    {
     "name": "stdout",
     "output_type": "stream",
     "text": [
      "21/21 [==============================] - 0s 3ms/step - loss: 0.3203 - accuracy: 0.8683 - val_loss: 0.4645 - val_accuracy: 0.8430\n",
      "Epoch 402/500\n",
      "21/21 [==============================] - 0s 3ms/step - loss: 0.3536 - accuracy: 0.8368 - val_loss: 0.4617 - val_accuracy: 0.8475\n",
      "Epoch 403/500\n",
      "21/21 [==============================] - 0s 3ms/step - loss: 0.3276 - accuracy: 0.8668 - val_loss: 0.4612 - val_accuracy: 0.8386\n",
      "Epoch 404/500\n",
      "21/21 [==============================] - 0s 3ms/step - loss: 0.3126 - accuracy: 0.8832 - val_loss: 0.4631 - val_accuracy: 0.8520\n",
      "Epoch 405/500\n",
      "21/21 [==============================] - 0s 3ms/step - loss: 0.3330 - accuracy: 0.8623 - val_loss: 0.4636 - val_accuracy: 0.8386\n",
      "Epoch 406/500\n",
      "21/21 [==============================] - 0s 2ms/step - loss: 0.3257 - accuracy: 0.8638 - val_loss: 0.4634 - val_accuracy: 0.8386\n",
      "Epoch 407/500\n",
      "21/21 [==============================] - 0s 2ms/step - loss: 0.3223 - accuracy: 0.8518 - val_loss: 0.4622 - val_accuracy: 0.8430\n",
      "Epoch 408/500\n",
      "21/21 [==============================] - 0s 3ms/step - loss: 0.3241 - accuracy: 0.8683 - val_loss: 0.4621 - val_accuracy: 0.8430\n",
      "Epoch 409/500\n",
      "21/21 [==============================] - 0s 3ms/step - loss: 0.3228 - accuracy: 0.8698 - val_loss: 0.4643 - val_accuracy: 0.8386\n",
      "Epoch 410/500\n",
      "21/21 [==============================] - 0s 3ms/step - loss: 0.3302 - accuracy: 0.8503 - val_loss: 0.4620 - val_accuracy: 0.8341\n",
      "Epoch 411/500\n",
      "21/21 [==============================] - 0s 3ms/step - loss: 0.3276 - accuracy: 0.8488 - val_loss: 0.4616 - val_accuracy: 0.8475\n",
      "Epoch 412/500\n",
      "21/21 [==============================] - 0s 3ms/step - loss: 0.3146 - accuracy: 0.8623 - val_loss: 0.4604 - val_accuracy: 0.8475\n",
      "Epoch 413/500\n",
      "21/21 [==============================] - 0s 3ms/step - loss: 0.3207 - accuracy: 0.8638 - val_loss: 0.4612 - val_accuracy: 0.8430\n",
      "Epoch 414/500\n",
      "21/21 [==============================] - 0s 3ms/step - loss: 0.3300 - accuracy: 0.8548 - val_loss: 0.4611 - val_accuracy: 0.8475\n",
      "Epoch 415/500\n",
      "21/21 [==============================] - 0s 3ms/step - loss: 0.3311 - accuracy: 0.8563 - val_loss: 0.4590 - val_accuracy: 0.8520\n",
      "Epoch 416/500\n",
      "21/21 [==============================] - 0s 2ms/step - loss: 0.3215 - accuracy: 0.8743 - val_loss: 0.4606 - val_accuracy: 0.8386\n",
      "Epoch 417/500\n",
      "21/21 [==============================] - 0s 3ms/step - loss: 0.3313 - accuracy: 0.8563 - val_loss: 0.4600 - val_accuracy: 0.8386\n",
      "Epoch 418/500\n",
      "21/21 [==============================] - 0s 3ms/step - loss: 0.3183 - accuracy: 0.8653 - val_loss: 0.4598 - val_accuracy: 0.8475\n",
      "Epoch 419/500\n",
      "21/21 [==============================] - 0s 3ms/step - loss: 0.3320 - accuracy: 0.8548 - val_loss: 0.4599 - val_accuracy: 0.8430\n",
      "Epoch 420/500\n",
      "21/21 [==============================] - 0s 3ms/step - loss: 0.3299 - accuracy: 0.8593 - val_loss: 0.4608 - val_accuracy: 0.8341\n",
      "Epoch 421/500\n",
      "21/21 [==============================] - 0s 3ms/step - loss: 0.3304 - accuracy: 0.8593 - val_loss: 0.4595 - val_accuracy: 0.8520\n",
      "Epoch 422/500\n",
      "21/21 [==============================] - 0s 3ms/step - loss: 0.3226 - accuracy: 0.8638 - val_loss: 0.4595 - val_accuracy: 0.8430\n",
      "Epoch 423/500\n",
      "21/21 [==============================] - 0s 3ms/step - loss: 0.3352 - accuracy: 0.8428 - val_loss: 0.4597 - val_accuracy: 0.8430\n",
      "Epoch 424/500\n",
      "21/21 [==============================] - 0s 2ms/step - loss: 0.3242 - accuracy: 0.8638 - val_loss: 0.4601 - val_accuracy: 0.8475\n",
      "Epoch 425/500\n",
      "21/21 [==============================] - 0s 3ms/step - loss: 0.3189 - accuracy: 0.8578 - val_loss: 0.4595 - val_accuracy: 0.8386\n",
      "Epoch 426/500\n",
      "21/21 [==============================] - 0s 3ms/step - loss: 0.3346 - accuracy: 0.8548 - val_loss: 0.4601 - val_accuracy: 0.8430\n",
      "Epoch 427/500\n",
      "21/21 [==============================] - 0s 3ms/step - loss: 0.3297 - accuracy: 0.8668 - val_loss: 0.4589 - val_accuracy: 0.8520\n",
      "Epoch 428/500\n",
      "21/21 [==============================] - 0s 3ms/step - loss: 0.3156 - accuracy: 0.8728 - val_loss: 0.4604 - val_accuracy: 0.8430\n",
      "Epoch 429/500\n",
      "21/21 [==============================] - 0s 3ms/step - loss: 0.3075 - accuracy: 0.8713 - val_loss: 0.4625 - val_accuracy: 0.8430\n",
      "Epoch 430/500\n",
      "21/21 [==============================] - 0s 3ms/step - loss: 0.3322 - accuracy: 0.8488 - val_loss: 0.4600 - val_accuracy: 0.8475\n",
      "Epoch 431/500\n",
      "21/21 [==============================] - 0s 3ms/step - loss: 0.3273 - accuracy: 0.8578 - val_loss: 0.4612 - val_accuracy: 0.8386\n",
      "Epoch 432/500\n",
      "21/21 [==============================] - 0s 2ms/step - loss: 0.3177 - accuracy: 0.8623 - val_loss: 0.4623 - val_accuracy: 0.8386\n",
      "Epoch 433/500\n",
      "21/21 [==============================] - 0s 2ms/step - loss: 0.3449 - accuracy: 0.8428 - val_loss: 0.4644 - val_accuracy: 0.8430\n",
      "Epoch 434/500\n",
      "21/21 [==============================] - 0s 2ms/step - loss: 0.3269 - accuracy: 0.8518 - val_loss: 0.4616 - val_accuracy: 0.8386\n",
      "Epoch 435/500\n",
      "21/21 [==============================] - 0s 3ms/step - loss: 0.3207 - accuracy: 0.8503 - val_loss: 0.4602 - val_accuracy: 0.8430\n",
      "Epoch 436/500\n",
      "21/21 [==============================] - 0s 3ms/step - loss: 0.3274 - accuracy: 0.8608 - val_loss: 0.4604 - val_accuracy: 0.8430\n",
      "Epoch 437/500\n",
      "21/21 [==============================] - 0s 3ms/step - loss: 0.3180 - accuracy: 0.8638 - val_loss: 0.4620 - val_accuracy: 0.8520\n",
      "Epoch 438/500\n",
      "21/21 [==============================] - 0s 3ms/step - loss: 0.3172 - accuracy: 0.8623 - val_loss: 0.4628 - val_accuracy: 0.8475\n",
      "Epoch 439/500\n",
      "21/21 [==============================] - 0s 3ms/step - loss: 0.3195 - accuracy: 0.8593 - val_loss: 0.4622 - val_accuracy: 0.8475\n",
      "Epoch 440/500\n",
      "21/21 [==============================] - 0s 3ms/step - loss: 0.3161 - accuracy: 0.8593 - val_loss: 0.4611 - val_accuracy: 0.8565\n",
      "Epoch 441/500\n",
      "21/21 [==============================] - 0s 2ms/step - loss: 0.3333 - accuracy: 0.8473 - val_loss: 0.4601 - val_accuracy: 0.8565\n",
      "Epoch 442/500\n",
      "21/21 [==============================] - 0s 2ms/step - loss: 0.3171 - accuracy: 0.8683 - val_loss: 0.4611 - val_accuracy: 0.8386\n",
      "Epoch 443/500\n",
      "21/21 [==============================] - 0s 3ms/step - loss: 0.3225 - accuracy: 0.8698 - val_loss: 0.4640 - val_accuracy: 0.8475\n",
      "Epoch 444/500\n",
      "21/21 [==============================] - 0s 3ms/step - loss: 0.3312 - accuracy: 0.8668 - val_loss: 0.4616 - val_accuracy: 0.8520\n",
      "Epoch 445/500\n",
      "21/21 [==============================] - 0s 3ms/step - loss: 0.3301 - accuracy: 0.8653 - val_loss: 0.4618 - val_accuracy: 0.8565\n",
      "Epoch 446/500\n",
      "21/21 [==============================] - 0s 3ms/step - loss: 0.3321 - accuracy: 0.8548 - val_loss: 0.4611 - val_accuracy: 0.8565\n",
      "Epoch 447/500\n",
      "21/21 [==============================] - 0s 3ms/step - loss: 0.3197 - accuracy: 0.8578 - val_loss: 0.4622 - val_accuracy: 0.8520\n",
      "Epoch 448/500\n",
      "21/21 [==============================] - 0s 2ms/step - loss: 0.3193 - accuracy: 0.8698 - val_loss: 0.4637 - val_accuracy: 0.8475\n",
      "Epoch 449/500\n",
      "21/21 [==============================] - 0s 3ms/step - loss: 0.3282 - accuracy: 0.8623 - val_loss: 0.4628 - val_accuracy: 0.8565\n",
      "Epoch 450/500\n",
      "21/21 [==============================] - 0s 2ms/step - loss: 0.3151 - accuracy: 0.8743 - val_loss: 0.4627 - val_accuracy: 0.8430\n",
      "Epoch 451/500\n",
      "21/21 [==============================] - 0s 3ms/step - loss: 0.3297 - accuracy: 0.8623 - val_loss: 0.4627 - val_accuracy: 0.8565\n",
      "Epoch 452/500\n",
      "21/21 [==============================] - 0s 3ms/step - loss: 0.3425 - accuracy: 0.8473 - val_loss: 0.4621 - val_accuracy: 0.8386\n",
      "Epoch 453/500\n",
      "21/21 [==============================] - 0s 3ms/step - loss: 0.3223 - accuracy: 0.8713 - val_loss: 0.4633 - val_accuracy: 0.8475\n",
      "Epoch 454/500\n",
      "21/21 [==============================] - 0s 3ms/step - loss: 0.3194 - accuracy: 0.8608 - val_loss: 0.4662 - val_accuracy: 0.8475\n",
      "Epoch 455/500\n",
      "21/21 [==============================] - 0s 3ms/step - loss: 0.3406 - accuracy: 0.8623 - val_loss: 0.4634 - val_accuracy: 0.8430\n",
      "Epoch 456/500\n",
      "21/21 [==============================] - 0s 3ms/step - loss: 0.3268 - accuracy: 0.8563 - val_loss: 0.4641 - val_accuracy: 0.8475\n",
      "Epoch 457/500\n",
      "21/21 [==============================] - 0s 2ms/step - loss: 0.3272 - accuracy: 0.8593 - val_loss: 0.4641 - val_accuracy: 0.8386\n",
      "Epoch 458/500\n",
      "21/21 [==============================] - 0s 2ms/step - loss: 0.3271 - accuracy: 0.8713 - val_loss: 0.4621 - val_accuracy: 0.8430\n",
      "Epoch 459/500\n",
      "21/21 [==============================] - 0s 2ms/step - loss: 0.3175 - accuracy: 0.8683 - val_loss: 0.4634 - val_accuracy: 0.8430\n",
      "Epoch 460/500\n",
      "21/21 [==============================] - 0s 2ms/step - loss: 0.3078 - accuracy: 0.8668 - val_loss: 0.4664 - val_accuracy: 0.8475\n",
      "Epoch 461/500\n",
      "21/21 [==============================] - 0s 3ms/step - loss: 0.3379 - accuracy: 0.8488 - val_loss: 0.4663 - val_accuracy: 0.8430\n",
      "Epoch 462/500\n",
      "21/21 [==============================] - 0s 3ms/step - loss: 0.3179 - accuracy: 0.8653 - val_loss: 0.4675 - val_accuracy: 0.8430\n",
      "Epoch 463/500\n",
      "21/21 [==============================] - 0s 3ms/step - loss: 0.3294 - accuracy: 0.8533 - val_loss: 0.4668 - val_accuracy: 0.8386\n",
      "Epoch 464/500\n",
      "21/21 [==============================] - 0s 3ms/step - loss: 0.3259 - accuracy: 0.8608 - val_loss: 0.4661 - val_accuracy: 0.8475\n",
      "Epoch 465/500\n",
      "21/21 [==============================] - 0s 3ms/step - loss: 0.3370 - accuracy: 0.8473 - val_loss: 0.4676 - val_accuracy: 0.8430\n",
      "Epoch 466/500\n",
      "21/21 [==============================] - 0s 3ms/step - loss: 0.3315 - accuracy: 0.8653 - val_loss: 0.4661 - val_accuracy: 0.8430\n",
      "Epoch 467/500\n",
      "21/21 [==============================] - 0s 3ms/step - loss: 0.3216 - accuracy: 0.8698 - val_loss: 0.4645 - val_accuracy: 0.8475\n",
      "Epoch 468/500\n",
      "21/21 [==============================] - 0s 3ms/step - loss: 0.3032 - accuracy: 0.8757 - val_loss: 0.4645 - val_accuracy: 0.8520\n",
      "Epoch 469/500\n",
      "21/21 [==============================] - 0s 3ms/step - loss: 0.3369 - accuracy: 0.8578 - val_loss: 0.4644 - val_accuracy: 0.8520\n",
      "Epoch 470/500\n",
      "21/21 [==============================] - 0s 3ms/step - loss: 0.3280 - accuracy: 0.8593 - val_loss: 0.4654 - val_accuracy: 0.8475\n",
      "Epoch 471/500\n",
      "21/21 [==============================] - 0s 3ms/step - loss: 0.3214 - accuracy: 0.8653 - val_loss: 0.4650 - val_accuracy: 0.8430\n",
      "Epoch 472/500\n",
      "21/21 [==============================] - 0s 3ms/step - loss: 0.3215 - accuracy: 0.8608 - val_loss: 0.4643 - val_accuracy: 0.8475\n",
      "Epoch 473/500\n",
      "21/21 [==============================] - 0s 3ms/step - loss: 0.3235 - accuracy: 0.8638 - val_loss: 0.4663 - val_accuracy: 0.8430\n",
      "Epoch 474/500\n",
      "21/21 [==============================] - 0s 2ms/step - loss: 0.3139 - accuracy: 0.8638 - val_loss: 0.4690 - val_accuracy: 0.8475\n",
      "Epoch 475/500\n",
      "21/21 [==============================] - 0s 2ms/step - loss: 0.3289 - accuracy: 0.8608 - val_loss: 0.4681 - val_accuracy: 0.8430\n",
      "Epoch 476/500\n",
      "21/21 [==============================] - 0s 2ms/step - loss: 0.3315 - accuracy: 0.8623 - val_loss: 0.4677 - val_accuracy: 0.8430\n",
      "Epoch 477/500\n",
      "21/21 [==============================] - 0s 3ms/step - loss: 0.3290 - accuracy: 0.8593 - val_loss: 0.4661 - val_accuracy: 0.8430\n",
      "Epoch 478/500\n",
      "21/21 [==============================] - 0s 3ms/step - loss: 0.3113 - accuracy: 0.8668 - val_loss: 0.4647 - val_accuracy: 0.8475\n",
      "Epoch 479/500\n",
      "21/21 [==============================] - 0s 3ms/step - loss: 0.3097 - accuracy: 0.8743 - val_loss: 0.4662 - val_accuracy: 0.8475\n",
      "Epoch 480/500\n",
      "21/21 [==============================] - 0s 3ms/step - loss: 0.3238 - accuracy: 0.8683 - val_loss: 0.4677 - val_accuracy: 0.8430\n",
      "Epoch 481/500\n",
      "21/21 [==============================] - 0s 3ms/step - loss: 0.3292 - accuracy: 0.8488 - val_loss: 0.4669 - val_accuracy: 0.8475\n",
      "Epoch 482/500\n",
      "21/21 [==============================] - 0s 3ms/step - loss: 0.3260 - accuracy: 0.8503 - val_loss: 0.4637 - val_accuracy: 0.8430\n",
      "Epoch 483/500\n",
      "21/21 [==============================] - 0s 3ms/step - loss: 0.3342 - accuracy: 0.8578 - val_loss: 0.4621 - val_accuracy: 0.8520\n",
      "Epoch 484/500\n",
      "21/21 [==============================] - 0s 2ms/step - loss: 0.3342 - accuracy: 0.8623 - val_loss: 0.4608 - val_accuracy: 0.8520\n",
      "Epoch 485/500\n",
      "21/21 [==============================] - 0s 3ms/step - loss: 0.3154 - accuracy: 0.8787 - val_loss: 0.4639 - val_accuracy: 0.8520\n",
      "Epoch 486/500\n",
      "21/21 [==============================] - 0s 3ms/step - loss: 0.3250 - accuracy: 0.8713 - val_loss: 0.4630 - val_accuracy: 0.8386\n",
      "Epoch 487/500\n",
      "21/21 [==============================] - 0s 3ms/step - loss: 0.3175 - accuracy: 0.8593 - val_loss: 0.4649 - val_accuracy: 0.8430\n",
      "Epoch 488/500\n",
      "21/21 [==============================] - 0s 3ms/step - loss: 0.3124 - accuracy: 0.8623 - val_loss: 0.4654 - val_accuracy: 0.8430\n",
      "Epoch 489/500\n",
      "21/21 [==============================] - 0s 3ms/step - loss: 0.3132 - accuracy: 0.8713 - val_loss: 0.4654 - val_accuracy: 0.8430\n",
      "Epoch 490/500\n",
      "21/21 [==============================] - 0s 2ms/step - loss: 0.3085 - accuracy: 0.8638 - val_loss: 0.4669 - val_accuracy: 0.8475\n",
      "Epoch 491/500\n",
      "21/21 [==============================] - 0s 3ms/step - loss: 0.3419 - accuracy: 0.8503 - val_loss: 0.4666 - val_accuracy: 0.8430\n",
      "Epoch 492/500\n",
      "21/21 [==============================] - 0s 3ms/step - loss: 0.3214 - accuracy: 0.8757 - val_loss: 0.4649 - val_accuracy: 0.8430\n",
      "Epoch 493/500\n",
      "21/21 [==============================] - 0s 3ms/step - loss: 0.3207 - accuracy: 0.8563 - val_loss: 0.4661 - val_accuracy: 0.8475\n",
      "Epoch 494/500\n",
      "21/21 [==============================] - 0s 3ms/step - loss: 0.3097 - accuracy: 0.8668 - val_loss: 0.4658 - val_accuracy: 0.8430\n",
      "Epoch 495/500\n",
      "21/21 [==============================] - 0s 3ms/step - loss: 0.3134 - accuracy: 0.8608 - val_loss: 0.4635 - val_accuracy: 0.8475\n",
      "Epoch 496/500\n",
      "21/21 [==============================] - 0s 3ms/step - loss: 0.3198 - accuracy: 0.8548 - val_loss: 0.4653 - val_accuracy: 0.8475\n",
      "Epoch 497/500\n",
      "21/21 [==============================] - 0s 3ms/step - loss: 0.3116 - accuracy: 0.8698 - val_loss: 0.4613 - val_accuracy: 0.8475\n",
      "Epoch 498/500\n",
      "21/21 [==============================] - 0s 3ms/step - loss: 0.3237 - accuracy: 0.8683 - val_loss: 0.4632 - val_accuracy: 0.8475\n",
      "Epoch 499/500\n",
      "21/21 [==============================] - 0s 3ms/step - loss: 0.3448 - accuracy: 0.8443 - val_loss: 0.4623 - val_accuracy: 0.8475\n",
      "Epoch 500/500\n",
      "21/21 [==============================] - 0s 3ms/step - loss: 0.3198 - accuracy: 0.8533 - val_loss: 0.4614 - val_accuracy: 0.8475\n"
     ]
    }
   ],
   "source": [
    "history = model.fit(x_train_scaled, y_train, batch_size = 32, epochs = 500, validation_data=(x_test_scaled, y_test), verbose=1)"
   ]
  },
  {
   "cell_type": "code",
   "execution_count": 149,
   "metadata": {},
   "outputs": [],
   "source": [
    "max_val_accuracy = np.argsort(history.history['val_accuracy'])[::-1][0]"
   ]
  },
  {
   "cell_type": "code",
   "execution_count": 150,
   "metadata": {},
   "outputs": [
    {
     "data": {
      "text/plain": [
       "439"
      ]
     },
     "execution_count": 150,
     "metadata": {},
     "output_type": "execute_result"
    }
   ],
   "source": [
    "max_val_accuracy"
   ]
  },
  {
   "cell_type": "code",
   "execution_count": 153,
   "metadata": {},
   "outputs": [
    {
     "data": {
      "image/png": "[encoded data removed]",
      "text/plain": [
       "<Figure size 432x288 with 1 Axes>"
      ]
     },
     "metadata": {
      "needs_background": "light"
     },
     "output_type": "display_data"
    }
   ],
   "source": [
    "plt.plot(history.history['accuracy'][0::10])\n",
    "plt.plot(history.history['val_accuracy'][0::10])\n",
    "plt.title('model accuracy')\n",
    "# plt.axvline(max_val_accuracy)\n",
    "plt.ylabel('accuracy')\n",
    "plt.xlabel('epoch')\n",
    "plt.legend(['train', 'test'], loc='lower right')\n",
    "plt.show();"
   ]
  },
  {
   "cell_type": "code",
   "execution_count": 157,
   "metadata": {},
   "outputs": [
    {
     "name": "stdout",
     "output_type": "stream",
     "text": [
      "7/7 [==============================] - 0s 1ms/step - loss: 0.4614 - accuracy: 0.8475\n"
     ]
    }
   ],
   "source": [
    "nn_result = model.evaluate(x_test_scaled, y_test)[1]"
   ]
  },
  {
   "cell_type": "code",
   "execution_count": 159,
   "metadata": {},
   "outputs": [],
   "source": [
    "y_pred = model.predict(x_test_scaled)"
   ]
  },
  {
   "cell_type": "code",
   "execution_count": 160,
   "metadata": {},
   "outputs": [],
   "source": [
    "nn_y_hat = [1 if x > .50 else 0 for x in y_pred]"
   ]
  },
  {
   "cell_type": "code",
   "execution_count": 93,
   "metadata": {},
   "outputs": [],
   "source": [
    "from sklearn.linear_model import ElasticNetCV\n",
    "from sklearn.preprocessing import StandardScaler"
   ]
  },
  {
   "cell_type": "code",
   "execution_count": 94,
   "metadata": {},
   "outputs": [],
   "source": [
    "scaler = StandardScaler()"
   ]
  },
  {
   "cell_type": "code",
   "execution_count": 95,
   "metadata": {},
   "outputs": [],
   "source": [
    "x_train_scaled = scaler.fit_transform(x_train,y_train)\n",
    "x_test_scaled = scaler.transform(x_test)"
   ]
  },
  {
   "cell_type": "code",
   "execution_count": 96,
   "metadata": {},
   "outputs": [],
   "source": [
    "regressor = ElasticNetCV(l1_ratio=[.1, .5, .7,\n",
    "    .9, .95, .99, 1])"
   ]
  },
  {
   "cell_type": "code",
   "execution_count": 97,
   "metadata": {},
   "outputs": [
    {
     "data": {
      "text/plain": [
       "ElasticNetCV(l1_ratio=[0.1, 0.5, 0.7, 0.9, 0.95, 0.99, 1])"
      ]
     },
     "execution_count": 97,
     "metadata": {},
     "output_type": "execute_result"
    }
   ],
   "source": [
    "regressor.fit(x_train_scaled, y_train)"
   ]
  },
  {
   "cell_type": "code",
   "execution_count": 161,
   "metadata": {},
   "outputs": [],
   "source": [
    "y_pred = regressor.predict(x_test_scaled)"
   ]
  },
  {
   "cell_type": "code",
   "execution_count": 162,
   "metadata": {},
   "outputs": [],
   "source": [
    "elnet_y_hat = [1 if x >= .50 else 0 for x in y_pred]"
   ]
  },
  {
   "cell_type": "code",
   "execution_count": 100,
   "metadata": {},
   "outputs": [
    {
     "data": {
      "text/plain": [
       "34"
      ]
     },
     "execution_count": 100,
     "metadata": {},
     "output_type": "execute_result"
    }
   ],
   "source": [
    "len(np.where(y_hat != y_test)[0])"
   ]
  },
  {
   "cell_type": "code",
   "execution_count": 60,
   "metadata": {},
   "outputs": [
    {
     "data": {
      "text/plain": [
       "223"
      ]
     },
     "execution_count": 60,
     "metadata": {},
     "output_type": "execute_result"
    }
   ],
   "source": [
    "len(y_test)"
   ]
  },
  {
   "cell_type": "code",
   "execution_count": 101,
   "metadata": {},
   "outputs": [
    {
     "data": {
      "text/plain": [
       "189"
      ]
     },
     "execution_count": 101,
     "metadata": {},
     "output_type": "execute_result"
    }
   ],
   "source": [
    "223-34"
   ]
  },
  {
   "cell_type": "code",
   "execution_count": 102,
   "metadata": {},
   "outputs": [
    {
     "data": {
      "text/plain": [
       "0.8475336322869955"
      ]
     },
     "execution_count": 102,
     "metadata": {},
     "output_type": "execute_result"
    }
   ],
   "source": [
    "189/223"
   ]
  },
  {
   "cell_type": "code",
   "execution_count": 103,
   "metadata": {},
   "outputs": [],
   "source": [
    "from sklearn.linear_model import LogisticRegressionCV"
   ]
  },
  {
   "cell_type": "code",
   "execution_count": 111,
   "metadata": {},
   "outputs": [],
   "source": [
    "log_model = LogisticRegressionCV(solver='saga', max_iter=5000, penalty='elasticnet', class_weight='balanced', l1_ratios=[0.1, 0.5, 0.7, 0.9, 0.95, 0.99, 1])"
   ]
  },
  {
   "cell_type": "code",
   "execution_count": 112,
   "metadata": {},
   "outputs": [
    {
     "data": {
      "text/plain": [
       "LogisticRegressionCV(class_weight='balanced',\n",
       "                     l1_ratios=[0.1, 0.5, 0.7, 0.9, 0.95, 0.99, 1],\n",
       "                     max_iter=5000, penalty='elasticnet', solver='saga')"
      ]
     },
     "execution_count": 112,
     "metadata": {},
     "output_type": "execute_result"
    }
   ],
   "source": [
    "log_model.fit(x_train_scaled, y_train)"
   ]
  },
  {
   "cell_type": "code",
   "execution_count": 163,
   "metadata": {},
   "outputs": [],
   "source": [
    "y_pred = log_model.predict(x_test_scaled)"
   ]
  },
  {
   "cell_type": "code",
   "execution_count": 164,
   "metadata": {},
   "outputs": [],
   "source": [
    "log_y_hat = [1 if x > .50 else 0 for x in y_pred]"
   ]
  },
  {
   "cell_type": "code",
   "execution_count": 134,
   "metadata": {},
   "outputs": [
    {
     "data": {
      "text/plain": [
       "0.8251121076233184"
      ]
     },
     "execution_count": 134,
     "metadata": {},
     "output_type": "execute_result"
    }
   ],
   "source": [
    "log_model.score(x_test_scaled, y_test)"
   ]
  },
  {
   "cell_type": "code",
   "execution_count": 126,
   "metadata": {},
   "outputs": [],
   "source": [
    "from sklearn.ensemble import RandomForestClassifier\n",
    "from sklearn.model_selection import RandomizedSearchCV"
   ]
  },
  {
   "cell_type": "code",
   "execution_count": 120,
   "metadata": {},
   "outputs": [],
   "source": [
    "rf_model = RandomForestClassifier()"
   ]
  },
  {
   "cell_type": "code",
   "execution_count": 127,
   "metadata": {},
   "outputs": [],
   "source": [
    "params = {'n_estimators':[50,100,200,500], 'max_depth':[3,5,10,15], 'class_weight':[None,'balanced']}"
   ]
  },
  {
   "cell_type": "code",
   "execution_count": 128,
   "metadata": {},
   "outputs": [],
   "source": [
    "searchcv = RandomizedSearchCV(rf_model, params)"
   ]
  },
  {
   "cell_type": "code",
   "execution_count": 129,
   "metadata": {},
   "outputs": [
    {
     "data": {
      "text/plain": [
       "RandomizedSearchCV(estimator=RandomForestClassifier(),\n",
       "                   param_distributions={'class_weight': [None, 'balanced'],\n",
       "                                        'max_depth': [3, 5, 10, 15],\n",
       "                                        'n_estimators': [50, 100, 200, 500]})"
      ]
     },
     "execution_count": 129,
     "metadata": {},
     "output_type": "execute_result"
    }
   ],
   "source": [
    "searchcv.fit(x_train_scaled, y_train)"
   ]
  },
  {
   "cell_type": "code",
   "execution_count": 131,
   "metadata": {},
   "outputs": [
    {
     "data": {
      "text/plain": [
       "{'n_estimators': 200, 'max_depth': 5, 'class_weight': None}"
      ]
     },
     "execution_count": 131,
     "metadata": {},
     "output_type": "execute_result"
    }
   ],
   "source": [
    "searchcv.best_params_"
   ]
  },
  {
   "cell_type": "code",
   "execution_count": 165,
   "metadata": {},
   "outputs": [],
   "source": [
    "y_pred = searchcv.predict(x_test_scaled )"
   ]
  },
  {
   "cell_type": "code",
   "execution_count": 166,
   "metadata": {},
   "outputs": [],
   "source": [
    "searchcv_y_hat = [1 if x > .50 else 0 for x in y_pred]"
   ]
  },
  {
   "cell_type": "code",
   "execution_count": 132,
   "metadata": {},
   "outputs": [
    {
     "data": {
      "text/plain": [
       "0.8475336322869955"
      ]
     },
     "execution_count": 132,
     "metadata": {},
     "output_type": "execute_result"
    }
   ],
   "source": [
    "searchcv.score(x_test_scaled, y_test)"
   ]
  },
  {
   "cell_type": "code",
   "execution_count": 121,
   "metadata": {},
   "outputs": [
    {
     "data": {
      "text/plain": [
       "RandomForestClassifier()"
      ]
     },
     "execution_count": 121,
     "metadata": {},
     "output_type": "execute_result"
    }
   ],
   "source": [
    "rf_model.fit(x_train_scaled, y_train)"
   ]
  },
  {
   "cell_type": "code",
   "execution_count": 122,
   "metadata": {},
   "outputs": [],
   "source": [
    "rf_y_hat = rf_model.predict(x_test_scaled)"
   ]
  },
  {
   "cell_type": "code",
   "execution_count": 167,
   "metadata": {},
   "outputs": [],
   "source": [
    "rf_y_hat = [1 if x > .50 else 0 for x in rf_y_hat]"
   ]
  },
  {
   "cell_type": "code",
   "execution_count": 133,
   "metadata": {},
   "outputs": [
    {
     "data": {
      "text/plain": [
       "0.8295964125560538"
      ]
     },
     "execution_count": 133,
     "metadata": {},
     "output_type": "execute_result"
    }
   ],
   "source": [
    "rf_model.score(x_test_scaled, y_test)"
   ]
  },
  {
   "cell_type": "code",
   "execution_count": 173,
   "metadata": {},
   "outputs": [],
   "source": [
    "from statistics import mode"
   ]
  },
  {
   "cell_type": "code",
   "execution_count": 181,
   "metadata": {},
   "outputs": [],
   "source": [
    "def ensemble_prediction(test_arr,*args):\n",
    "    final_pred = np.array([])\n",
    "    for i in range(0,len(test_arr)):\n",
    "        curr_pred = []\n",
    "        for arg in args:\n",
    "            curr_pred.append(arg[i])\n",
    "#             print(curr_pred)\n",
    "        final_pred = np.append(final_pred, mode(curr_pred))\n",
    "    return final_pred"
   ]
  },
  {
   "cell_type": "code",
   "execution_count": 183,
   "metadata": {},
   "outputs": [],
   "source": [
    "ensemble_hat = ensemble_prediction(x_test_scaled, nn_y_hat, elnet_y_hat, log_y_hat, searchcv_y_hat, rf_y_hat)"
   ]
  },
  {
   "cell_type": "code",
   "execution_count": 185,
   "metadata": {},
   "outputs": [
    {
     "data": {
      "text/plain": [
       "35"
      ]
     },
     "execution_count": 185,
     "metadata": {},
     "output_type": "execute_result"
    }
   ],
   "source": [
    "len(np.where(ensemble_hat != y_test)[0])"
   ]
  },
  {
   "cell_type": "code",
   "execution_count": 186,
   "metadata": {},
   "outputs": [
    {
     "data": {
      "text/plain": [
       "188"
      ]
     },
     "execution_count": 186,
     "metadata": {},
     "output_type": "execute_result"
    }
   ],
   "source": [
    "223-35"
   ]
  },
  {
   "cell_type": "code",
   "execution_count": 187,
   "metadata": {},
   "outputs": [
    {
     "data": {
      "text/plain": [
       "0.8430493273542601"
      ]
     },
     "execution_count": 187,
     "metadata": {},
     "output_type": "execute_result"
    }
   ],
   "source": [
    "188/223"
   ]
  },
  {
   "cell_type": "code",
   "execution_count": null,
   "metadata": {},
   "outputs": [],
   "source": []
  }
 ],
 "metadata": {
  "kernelspec": {
   "display_name": "Python 3",
   "language": "python",
   "name": "python3"
  },
  "language_info": {
   "codemirror_mode": {
    "name": "ipython",
    "version": 3
   },
   "file_extension": ".py",
   "mimetype": "text/x-python",
   "name": "python",
   "nbconvert_exporter": "python",
   "pygments_lexer": "ipython3",
   "version": "3.7.7"
  }
 },
 "nbformat": 4,
 "nbformat_minor": 4
}
